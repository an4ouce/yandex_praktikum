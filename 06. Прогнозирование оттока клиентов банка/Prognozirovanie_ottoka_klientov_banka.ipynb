{
 "cells": [
  {
   "cell_type": "markdown",
   "metadata": {},
   "source": [
    "<h1>Содержание<span class=\"tocSkip\"></span></h1>\n",
    "<div class=\"toc\"><ul class=\"toc-item\"><li><span><a href=\"#Описание-данных\" data-toc-modified-id=\"Описание-данных-1\"><span class=\"toc-item-num\">1&nbsp;&nbsp;</span>Описание данных</a></span></li><li><span><a href=\"#Подготовка-данных\" data-toc-modified-id=\"Подготовка-данных-2\"><span class=\"toc-item-num\">2&nbsp;&nbsp;</span>Подготовка данных</a></span></li><li><span><a href=\"#Исследование-задачи\" data-toc-modified-id=\"Исследование-задачи-3\"><span class=\"toc-item-num\">3&nbsp;&nbsp;</span>Исследование задачи</a></span></li><li><span><a href=\"#Борьба-с-дисбалансом\" data-toc-modified-id=\"Борьба-с-дисбалансом-4\"><span class=\"toc-item-num\">4&nbsp;&nbsp;</span>Борьба с дисбалансом</a></span></li><li><span><a href=\"#Выбор-модели\" data-toc-modified-id=\"Выбор-модели-5\"><span class=\"toc-item-num\">5&nbsp;&nbsp;</span>Выбор модели</a></span></li><li><span><a href=\"#Тестирование-модели\" data-toc-modified-id=\"Тестирование-модели-6\"><span class=\"toc-item-num\">6&nbsp;&nbsp;</span>Тестирование модели</a></span></li></ul></div>"
   ]
  },
  {
   "cell_type": "markdown",
   "metadata": {},
   "source": [
    "\n",
    "# Отток клиентов банка\n"
   ]
  },
  {
   "cell_type": "markdown",
   "metadata": {},
   "source": [
    "Из «Бета-Банка» стали уходить клиенты. Каждый месяц. Немного, но заметно. Банковские маркетологи посчитали: сохранять текущих клиентов дешевле, чем привлекать новых.\n",
    "\n",
    "Нужно спрогнозировать, уйдёт клиент из банка в ближайшее время или нет. Нам предоставлены исторические данные о поведении клиентов и расторжении договоров с банком. \n",
    "\n",
    "Нужно построить модель с предельно большим значением *F1*-меры (минимум 0.59).\n",
    "\n",
    "Дополнительно нужно измерить *AUC-ROC* и сравнить ее значение с *F1*-мерой."
   ]
  },
  {
   "cell_type": "markdown",
   "metadata": {},
   "source": [
    "## 1. Описание данных\n",
    "\n",
    "_Признаки:_\n",
    "\n",
    "   * RowNumber — индекс строки в данных\n",
    "   * CustomerId — уникальный идентификатор клиента\n",
    "   * Surname — фамилия\n",
    "   * CreditScore — кредитный рейтинг\n",
    "   * Geography — страна проживания\n",
    "   * Gender — пол\n",
    "   * Age — возраст\n",
    "   * Tenure — количество недвижимости у клиента\n",
    "   * Balance — баланс на счёте\n",
    "   * NumOfProducts — количество продуктов банка, используемых клиентом\n",
    "   * HasCrCard — наличие кредитной карты\n",
    "   * IsActiveMember — активность клиента\n",
    "   * EstimatedSalary — предполагаемая зарплата\n",
    "\n",
    "_Целевой признак:_\n",
    "\n",
    "   * Exited — факт ухода клиента (1-клиент ушел; 0-клиент остался)"
   ]
  },
  {
   "cell_type": "markdown",
   "metadata": {},
   "source": [
    "## 2. Подготовка данных"
   ]
  },
  {
   "cell_type": "code",
   "execution_count": 4,
   "metadata": {},
   "outputs": [
    {
     "data": {
      "text/html": [
       "<div>\n",
       "<style scoped>\n",
       "    .dataframe tbody tr th:only-of-type {\n",
       "        vertical-align: middle;\n",
       "    }\n",
       "\n",
       "    .dataframe tbody tr th {\n",
       "        vertical-align: top;\n",
       "    }\n",
       "\n",
       "    .dataframe thead th {\n",
       "        text-align: right;\n",
       "    }\n",
       "</style>\n",
       "<table border=\"1\" class=\"dataframe\">\n",
       "  <thead>\n",
       "    <tr style=\"text-align: right;\">\n",
       "      <th></th>\n",
       "      <th>RowNumber</th>\n",
       "      <th>CustomerId</th>\n",
       "      <th>Surname</th>\n",
       "      <th>CreditScore</th>\n",
       "      <th>Geography</th>\n",
       "      <th>Gender</th>\n",
       "      <th>Age</th>\n",
       "      <th>Tenure</th>\n",
       "      <th>Balance</th>\n",
       "      <th>NumOfProducts</th>\n",
       "      <th>HasCrCard</th>\n",
       "      <th>IsActiveMember</th>\n",
       "      <th>EstimatedSalary</th>\n",
       "      <th>Exited</th>\n",
       "    </tr>\n",
       "  </thead>\n",
       "  <tbody>\n",
       "    <tr>\n",
       "      <td>0</td>\n",
       "      <td>1</td>\n",
       "      <td>15634602</td>\n",
       "      <td>Hargrave</td>\n",
       "      <td>619</td>\n",
       "      <td>France</td>\n",
       "      <td>Female</td>\n",
       "      <td>42</td>\n",
       "      <td>2.0</td>\n",
       "      <td>0.00</td>\n",
       "      <td>1</td>\n",
       "      <td>1</td>\n",
       "      <td>1</td>\n",
       "      <td>101348.88</td>\n",
       "      <td>1</td>\n",
       "    </tr>\n",
       "    <tr>\n",
       "      <td>1</td>\n",
       "      <td>2</td>\n",
       "      <td>15647311</td>\n",
       "      <td>Hill</td>\n",
       "      <td>608</td>\n",
       "      <td>Spain</td>\n",
       "      <td>Female</td>\n",
       "      <td>41</td>\n",
       "      <td>1.0</td>\n",
       "      <td>83807.86</td>\n",
       "      <td>1</td>\n",
       "      <td>0</td>\n",
       "      <td>1</td>\n",
       "      <td>112542.58</td>\n",
       "      <td>0</td>\n",
       "    </tr>\n",
       "    <tr>\n",
       "      <td>2</td>\n",
       "      <td>3</td>\n",
       "      <td>15619304</td>\n",
       "      <td>Onio</td>\n",
       "      <td>502</td>\n",
       "      <td>France</td>\n",
       "      <td>Female</td>\n",
       "      <td>42</td>\n",
       "      <td>8.0</td>\n",
       "      <td>159660.80</td>\n",
       "      <td>3</td>\n",
       "      <td>1</td>\n",
       "      <td>0</td>\n",
       "      <td>113931.57</td>\n",
       "      <td>1</td>\n",
       "    </tr>\n",
       "    <tr>\n",
       "      <td>3</td>\n",
       "      <td>4</td>\n",
       "      <td>15701354</td>\n",
       "      <td>Boni</td>\n",
       "      <td>699</td>\n",
       "      <td>France</td>\n",
       "      <td>Female</td>\n",
       "      <td>39</td>\n",
       "      <td>1.0</td>\n",
       "      <td>0.00</td>\n",
       "      <td>2</td>\n",
       "      <td>0</td>\n",
       "      <td>0</td>\n",
       "      <td>93826.63</td>\n",
       "      <td>0</td>\n",
       "    </tr>\n",
       "    <tr>\n",
       "      <td>4</td>\n",
       "      <td>5</td>\n",
       "      <td>15737888</td>\n",
       "      <td>Mitchell</td>\n",
       "      <td>850</td>\n",
       "      <td>Spain</td>\n",
       "      <td>Female</td>\n",
       "      <td>43</td>\n",
       "      <td>2.0</td>\n",
       "      <td>125510.82</td>\n",
       "      <td>1</td>\n",
       "      <td>1</td>\n",
       "      <td>1</td>\n",
       "      <td>79084.10</td>\n",
       "      <td>0</td>\n",
       "    </tr>\n",
       "  </tbody>\n",
       "</table>\n",
       "</div>"
      ],
      "text/plain": [
       "   RowNumber  CustomerId   Surname  CreditScore Geography  Gender  Age  \\\n",
       "0          1    15634602  Hargrave          619    France  Female   42   \n",
       "1          2    15647311      Hill          608     Spain  Female   41   \n",
       "2          3    15619304      Onio          502    France  Female   42   \n",
       "3          4    15701354      Boni          699    France  Female   39   \n",
       "4          5    15737888  Mitchell          850     Spain  Female   43   \n",
       "\n",
       "   Tenure    Balance  NumOfProducts  HasCrCard  IsActiveMember  \\\n",
       "0     2.0       0.00              1          1               1   \n",
       "1     1.0   83807.86              1          0               1   \n",
       "2     8.0  159660.80              3          1               0   \n",
       "3     1.0       0.00              2          0               0   \n",
       "4     2.0  125510.82              1          1               1   \n",
       "\n",
       "   EstimatedSalary  Exited  \n",
       "0        101348.88       1  \n",
       "1        112542.58       0  \n",
       "2        113931.57       1  \n",
       "3         93826.63       0  \n",
       "4         79084.10       0  "
      ]
     },
     "execution_count": 4,
     "metadata": {},
     "output_type": "execute_result"
    }
   ],
   "source": [
    "import pandas as pd\n",
    "import numpy as np\n",
    "import seaborn as sns\n",
    "import matplotlib.pyplot as plt\n",
    "import random\n",
    "\n",
    "import warnings\n",
    "warnings.filterwarnings('ignore')\n",
    "\n",
    "from sklearn.preprocessing import StandardScaler\n",
    "from sklearn.model_selection import train_test_split, RandomizedSearchCV\n",
    "\n",
    "from sklearn.linear_model import LogisticRegression\n",
    "from sklearn.ensemble import RandomForestClassifier\n",
    "from sklearn.tree import DecisionTreeClassifier\n",
    "\n",
    "from sklearn.metrics import classification_report, roc_auc_score, roc_curve, confusion_matrix\n",
    "from scipy.stats import uniform\n",
    "from sklearn.utils import shuffle\n",
    "\n",
    "try:\n",
    "    table = pd.read_csv('/datasets/Churn.csv')\n",
    "except:\n",
    "    table = pd.read_csv('home/an4ouce/datasets/Churn.csv')\n",
    "\n",
    "table.head()"
   ]
  },
  {
   "cell_type": "code",
   "execution_count": 2,
   "metadata": {},
   "outputs": [
    {
     "name": "stdout",
     "output_type": "stream",
     "text": [
      "<class 'pandas.core.frame.DataFrame'>\n",
      "RangeIndex: 10000 entries, 0 to 9999\n",
      "Data columns (total 14 columns):\n",
      "RowNumber          10000 non-null int64\n",
      "CustomerId         10000 non-null int64\n",
      "Surname            10000 non-null object\n",
      "CreditScore        10000 non-null int64\n",
      "Geography          10000 non-null object\n",
      "Gender             10000 non-null object\n",
      "Age                10000 non-null int64\n",
      "Tenure             9091 non-null float64\n",
      "Balance            10000 non-null float64\n",
      "NumOfProducts      10000 non-null int64\n",
      "HasCrCard          10000 non-null int64\n",
      "IsActiveMember     10000 non-null int64\n",
      "EstimatedSalary    10000 non-null float64\n",
      "Exited             10000 non-null int64\n",
      "dtypes: float64(3), int64(8), object(3)\n",
      "memory usage: 1.1+ MB\n"
     ]
    }
   ],
   "source": [
    "table.info()"
   ]
  },
  {
   "cell_type": "code",
   "execution_count": 3,
   "metadata": {},
   "outputs": [
    {
     "data": {
      "text/html": [
       "<div>\n",
       "<style scoped>\n",
       "    .dataframe tbody tr th:only-of-type {\n",
       "        vertical-align: middle;\n",
       "    }\n",
       "\n",
       "    .dataframe tbody tr th {\n",
       "        vertical-align: top;\n",
       "    }\n",
       "\n",
       "    .dataframe thead th {\n",
       "        text-align: right;\n",
       "    }\n",
       "</style>\n",
       "<table border=\"1\" class=\"dataframe\">\n",
       "  <thead>\n",
       "    <tr style=\"text-align: right;\">\n",
       "      <th></th>\n",
       "      <th>RowNumber</th>\n",
       "      <th>CustomerId</th>\n",
       "      <th>CreditScore</th>\n",
       "      <th>Age</th>\n",
       "      <th>Tenure</th>\n",
       "      <th>Balance</th>\n",
       "      <th>NumOfProducts</th>\n",
       "      <th>HasCrCard</th>\n",
       "      <th>IsActiveMember</th>\n",
       "      <th>EstimatedSalary</th>\n",
       "      <th>Exited</th>\n",
       "    </tr>\n",
       "  </thead>\n",
       "  <tbody>\n",
       "    <tr>\n",
       "      <td>count</td>\n",
       "      <td>10000.00000</td>\n",
       "      <td>1.000000e+04</td>\n",
       "      <td>10000.000000</td>\n",
       "      <td>10000.000000</td>\n",
       "      <td>9091.000000</td>\n",
       "      <td>10000.000000</td>\n",
       "      <td>10000.000000</td>\n",
       "      <td>10000.00000</td>\n",
       "      <td>10000.000000</td>\n",
       "      <td>10000.000000</td>\n",
       "      <td>10000.000000</td>\n",
       "    </tr>\n",
       "    <tr>\n",
       "      <td>mean</td>\n",
       "      <td>5000.50000</td>\n",
       "      <td>1.569094e+07</td>\n",
       "      <td>650.528800</td>\n",
       "      <td>38.921800</td>\n",
       "      <td>4.997690</td>\n",
       "      <td>76485.889288</td>\n",
       "      <td>1.530200</td>\n",
       "      <td>0.70550</td>\n",
       "      <td>0.515100</td>\n",
       "      <td>100090.239881</td>\n",
       "      <td>0.203700</td>\n",
       "    </tr>\n",
       "    <tr>\n",
       "      <td>std</td>\n",
       "      <td>2886.89568</td>\n",
       "      <td>7.193619e+04</td>\n",
       "      <td>96.653299</td>\n",
       "      <td>10.487806</td>\n",
       "      <td>2.894723</td>\n",
       "      <td>62397.405202</td>\n",
       "      <td>0.581654</td>\n",
       "      <td>0.45584</td>\n",
       "      <td>0.499797</td>\n",
       "      <td>57510.492818</td>\n",
       "      <td>0.402769</td>\n",
       "    </tr>\n",
       "    <tr>\n",
       "      <td>min</td>\n",
       "      <td>1.00000</td>\n",
       "      <td>1.556570e+07</td>\n",
       "      <td>350.000000</td>\n",
       "      <td>18.000000</td>\n",
       "      <td>0.000000</td>\n",
       "      <td>0.000000</td>\n",
       "      <td>1.000000</td>\n",
       "      <td>0.00000</td>\n",
       "      <td>0.000000</td>\n",
       "      <td>11.580000</td>\n",
       "      <td>0.000000</td>\n",
       "    </tr>\n",
       "    <tr>\n",
       "      <td>25%</td>\n",
       "      <td>2500.75000</td>\n",
       "      <td>1.562853e+07</td>\n",
       "      <td>584.000000</td>\n",
       "      <td>32.000000</td>\n",
       "      <td>2.000000</td>\n",
       "      <td>0.000000</td>\n",
       "      <td>1.000000</td>\n",
       "      <td>0.00000</td>\n",
       "      <td>0.000000</td>\n",
       "      <td>51002.110000</td>\n",
       "      <td>0.000000</td>\n",
       "    </tr>\n",
       "    <tr>\n",
       "      <td>50%</td>\n",
       "      <td>5000.50000</td>\n",
       "      <td>1.569074e+07</td>\n",
       "      <td>652.000000</td>\n",
       "      <td>37.000000</td>\n",
       "      <td>5.000000</td>\n",
       "      <td>97198.540000</td>\n",
       "      <td>1.000000</td>\n",
       "      <td>1.00000</td>\n",
       "      <td>1.000000</td>\n",
       "      <td>100193.915000</td>\n",
       "      <td>0.000000</td>\n",
       "    </tr>\n",
       "    <tr>\n",
       "      <td>75%</td>\n",
       "      <td>7500.25000</td>\n",
       "      <td>1.575323e+07</td>\n",
       "      <td>718.000000</td>\n",
       "      <td>44.000000</td>\n",
       "      <td>7.000000</td>\n",
       "      <td>127644.240000</td>\n",
       "      <td>2.000000</td>\n",
       "      <td>1.00000</td>\n",
       "      <td>1.000000</td>\n",
       "      <td>149388.247500</td>\n",
       "      <td>0.000000</td>\n",
       "    </tr>\n",
       "    <tr>\n",
       "      <td>max</td>\n",
       "      <td>10000.00000</td>\n",
       "      <td>1.581569e+07</td>\n",
       "      <td>850.000000</td>\n",
       "      <td>92.000000</td>\n",
       "      <td>10.000000</td>\n",
       "      <td>250898.090000</td>\n",
       "      <td>4.000000</td>\n",
       "      <td>1.00000</td>\n",
       "      <td>1.000000</td>\n",
       "      <td>199992.480000</td>\n",
       "      <td>1.000000</td>\n",
       "    </tr>\n",
       "  </tbody>\n",
       "</table>\n",
       "</div>"
      ],
      "text/plain": [
       "         RowNumber    CustomerId   CreditScore           Age       Tenure  \\\n",
       "count  10000.00000  1.000000e+04  10000.000000  10000.000000  9091.000000   \n",
       "mean    5000.50000  1.569094e+07    650.528800     38.921800     4.997690   \n",
       "std     2886.89568  7.193619e+04     96.653299     10.487806     2.894723   \n",
       "min        1.00000  1.556570e+07    350.000000     18.000000     0.000000   \n",
       "25%     2500.75000  1.562853e+07    584.000000     32.000000     2.000000   \n",
       "50%     5000.50000  1.569074e+07    652.000000     37.000000     5.000000   \n",
       "75%     7500.25000  1.575323e+07    718.000000     44.000000     7.000000   \n",
       "max    10000.00000  1.581569e+07    850.000000     92.000000    10.000000   \n",
       "\n",
       "             Balance  NumOfProducts    HasCrCard  IsActiveMember  \\\n",
       "count   10000.000000   10000.000000  10000.00000    10000.000000   \n",
       "mean    76485.889288       1.530200      0.70550        0.515100   \n",
       "std     62397.405202       0.581654      0.45584        0.499797   \n",
       "min         0.000000       1.000000      0.00000        0.000000   \n",
       "25%         0.000000       1.000000      0.00000        0.000000   \n",
       "50%     97198.540000       1.000000      1.00000        1.000000   \n",
       "75%    127644.240000       2.000000      1.00000        1.000000   \n",
       "max    250898.090000       4.000000      1.00000        1.000000   \n",
       "\n",
       "       EstimatedSalary        Exited  \n",
       "count     10000.000000  10000.000000  \n",
       "mean     100090.239881      0.203700  \n",
       "std       57510.492818      0.402769  \n",
       "min          11.580000      0.000000  \n",
       "25%       51002.110000      0.000000  \n",
       "50%      100193.915000      0.000000  \n",
       "75%      149388.247500      0.000000  \n",
       "max      199992.480000      1.000000  "
      ]
     },
     "execution_count": 3,
     "metadata": {},
     "output_type": "execute_result"
    }
   ],
   "source": [
    "table.describe()"
   ]
  },
  {
   "cell_type": "markdown",
   "metadata": {},
   "source": [
    "Видим, что есть пропуски в столбце Tenure (количество недвижимости у клиента). Хорошо бы знать, насколько важен этот признак, но узнать это мы сможем только после обучения модели, с помощью future_importances_. Удалять данные не хотелось бы, так как среди тех клиентов, у кого стоит пропуск в столбце Tenure, есть немало с интересующим нас целевым признаком (Exited=1). Посмотрим, какие имеются значения в столбце Tenure:"
   ]
  },
  {
   "cell_type": "code",
   "execution_count": 4,
   "metadata": {},
   "outputs": [
    {
     "data": {
      "text/plain": [
       "1.0     952\n",
       "2.0     950\n",
       "8.0     933\n",
       "3.0     928\n",
       "5.0     927\n",
       "7.0     925\n",
       "4.0     885\n",
       "9.0     882\n",
       "6.0     881\n",
       "10.0    446\n",
       "0.0     382\n",
       "Name: Tenure, dtype: int64"
      ]
     },
     "execution_count": 4,
     "metadata": {},
     "output_type": "execute_result"
    }
   ],
   "source": [
    "table['Tenure'].value_counts()"
   ]
  },
  {
   "cell_type": "markdown",
   "metadata": {},
   "source": [
    "Взглянем на распределение признака:"
   ]
  },
  {
   "cell_type": "code",
   "execution_count": 5,
   "metadata": {},
   "outputs": [
    {
     "data": {
      "image/png": "[encoded data removed]",
      "text/plain": [
       "<Figure size 432x288 with 1 Axes>"
      ]
     },
     "metadata": {
      "needs_background": "light"
     },
     "output_type": "display_data"
    }
   ],
   "source": [
    "table['Tenure'].hist(bins=50)\n",
    "plt.title('Гистограмма Tenure с пропусками')\n",
    "plt.show()"
   ]
  },
  {
   "cell_type": "code",
   "execution_count": 6,
   "metadata": {},
   "outputs": [
    {
     "data": {
      "text/plain": [
       "4.997690023099769"
      ]
     },
     "execution_count": 6,
     "metadata": {},
     "output_type": "execute_result"
    }
   ],
   "source": [
    "table['Tenure'].mean()"
   ]
  },
  {
   "cell_type": "markdown",
   "metadata": {},
   "source": [
    "Видно, что если мы заменим пропуски на среднее/медиану или на ноль, то сильно изменим распределение. Заполним пропуски в столбце Tenure случайным числом в диапазоне от минимума до максимума значений в столбце и посмотрим, как изменится распределение."
   ]
  },
  {
   "cell_type": "code",
   "execution_count": 5,
   "metadata": {},
   "outputs": [],
   "source": [
    "table.loc[table['Tenure'].isna(), 'Tenure'] = [random.randint(0, 10) for i in range(sum(table['Tenure'].isna()))]"
   ]
  },
  {
   "cell_type": "code",
   "execution_count": 8,
   "metadata": {},
   "outputs": [
    {
     "data": {
      "image/png": "[encoded data removed]",
      "text/plain": [
       "<Figure size 432x288 with 1 Axes>"
      ]
     },
     "metadata": {
      "needs_background": "light"
     },
     "output_type": "display_data"
    }
   ],
   "source": [
    "table['Tenure'].hist(bins=50)\n",
    "plt.title('Гистограмма Tenure после заполнения пропусков')\n",
    "plt.show()"
   ]
  },
  {
   "cell_type": "markdown",
   "metadata": {},
   "source": [
    "Видим, что форма распределения не изменилась."
   ]
  },
  {
   "cell_type": "markdown",
   "metadata": {},
   "source": [
    "Согласно describe, есть аномалии в столбце EstimatedSalary - минимум 11.58 у.е. Взглянем на диаграмму размаха:"
   ]
  },
  {
   "cell_type": "code",
   "execution_count": 9,
   "metadata": {},
   "outputs": [
    {
     "data": {
      "image/png": "[encoded data removed]",
      "text/plain": [
       "<Figure size 432x288 with 1 Axes>"
      ]
     },
     "metadata": {
      "needs_background": "light"
     },
     "output_type": "display_data"
    }
   ],
   "source": [
    "sns.boxplot(table['EstimatedSalary'])\n",
    "plt.title('Диаграмма размаха EstimatedSalary', fontsize=14)\n",
    "plt.show()"
   ]
  },
  {
   "cell_type": "code",
   "execution_count": 10,
   "metadata": {},
   "outputs": [
    {
     "data": {
      "text/plain": [
       "59"
      ]
     },
     "execution_count": 10,
     "metadata": {},
     "output_type": "execute_result"
    }
   ],
   "source": [
    "table.query('11.58 <= EstimatedSalary < 1000')['EstimatedSalary'].count()"
   ]
  },
  {
   "cell_type": "code",
   "execution_count": 11,
   "metadata": {},
   "outputs": [
    {
     "data": {
      "image/png": "[encoded data removed]",
      "text/plain": [
       "<Figure size 432x288 with 1 Axes>"
      ]
     },
     "metadata": {
      "needs_background": "light"
     },
     "output_type": "display_data"
    }
   ],
   "source": [
    "table['EstimatedSalary'].plot(kind='hist', bins=100)\n",
    "plt.title('Гистограмма EstimatedSalary', fontsize=14)\n",
    "plt.show()"
   ]
  },
  {
   "cell_type": "markdown",
   "metadata": {},
   "source": [
    "Подозрительно странное распределение, возможно, данные созданы искусственно. Выбросов не наблюдается, у 59 клиентов зарплата до 1000 у.е. Столбец называется \"предполагаемая зарплата\", возможно, он сформирован по предсказаниям какой-нибудь модели. Оставим данные, как есть.\n",
    "\n",
    "Проверим баланс классов:"
   ]
  },
  {
   "cell_type": "code",
   "execution_count": 12,
   "metadata": {},
   "outputs": [
    {
     "data": {
      "text/html": [
       "<div>\n",
       "<style scoped>\n",
       "    .dataframe tbody tr th:only-of-type {\n",
       "        vertical-align: middle;\n",
       "    }\n",
       "\n",
       "    .dataframe tbody tr th {\n",
       "        vertical-align: top;\n",
       "    }\n",
       "\n",
       "    .dataframe thead th {\n",
       "        text-align: right;\n",
       "    }\n",
       "</style>\n",
       "<table border=\"1\" class=\"dataframe\">\n",
       "  <thead>\n",
       "    <tr style=\"text-align: right;\">\n",
       "      <th></th>\n",
       "      <th>Exited</th>\n",
       "    </tr>\n",
       "  </thead>\n",
       "  <tbody>\n",
       "    <tr>\n",
       "      <td>0</td>\n",
       "      <td>7963</td>\n",
       "    </tr>\n",
       "    <tr>\n",
       "      <td>1</td>\n",
       "      <td>2037</td>\n",
       "    </tr>\n",
       "  </tbody>\n",
       "</table>\n",
       "</div>"
      ],
      "text/plain": [
       "   Exited\n",
       "0    7963\n",
       "1    2037"
      ]
     },
     "execution_count": 12,
     "metadata": {},
     "output_type": "execute_result"
    }
   ],
   "source": [
    "table['Exited'].value_counts().to_frame()"
   ]
  },
  {
   "cell_type": "markdown",
   "metadata": {},
   "source": [
    "Больше значений '0' целевого признака, классы несбалансированы. Искомый целевой признак '1' (факт ухода клиента) приходится всего лишь на 20% данных.\n",
    "\n",
    "Признаки RowNumber, CustomerId, Surname будут мешать обучению модели, так как уникальны для каждого клиента. Есть, конечно, однофамильцы, но фамилия человека не влияет на вероятность его ухода из банка. Удалим эти признаки:"
   ]
  },
  {
   "cell_type": "code",
   "execution_count": 6,
   "metadata": {},
   "outputs": [
    {
     "data": {
      "text/html": [
       "<div>\n",
       "<style scoped>\n",
       "    .dataframe tbody tr th:only-of-type {\n",
       "        vertical-align: middle;\n",
       "    }\n",
       "\n",
       "    .dataframe tbody tr th {\n",
       "        vertical-align: top;\n",
       "    }\n",
       "\n",
       "    .dataframe thead th {\n",
       "        text-align: right;\n",
       "    }\n",
       "</style>\n",
       "<table border=\"1\" class=\"dataframe\">\n",
       "  <thead>\n",
       "    <tr style=\"text-align: right;\">\n",
       "      <th></th>\n",
       "      <th>CreditScore</th>\n",
       "      <th>Geography</th>\n",
       "      <th>Gender</th>\n",
       "      <th>Age</th>\n",
       "      <th>Tenure</th>\n",
       "      <th>Balance</th>\n",
       "      <th>NumOfProducts</th>\n",
       "      <th>HasCrCard</th>\n",
       "      <th>IsActiveMember</th>\n",
       "      <th>EstimatedSalary</th>\n",
       "      <th>Exited</th>\n",
       "    </tr>\n",
       "  </thead>\n",
       "  <tbody>\n",
       "    <tr>\n",
       "      <td>0</td>\n",
       "      <td>619</td>\n",
       "      <td>France</td>\n",
       "      <td>Female</td>\n",
       "      <td>42</td>\n",
       "      <td>2.0</td>\n",
       "      <td>0.00</td>\n",
       "      <td>1</td>\n",
       "      <td>1</td>\n",
       "      <td>1</td>\n",
       "      <td>101348.88</td>\n",
       "      <td>1</td>\n",
       "    </tr>\n",
       "    <tr>\n",
       "      <td>1</td>\n",
       "      <td>608</td>\n",
       "      <td>Spain</td>\n",
       "      <td>Female</td>\n",
       "      <td>41</td>\n",
       "      <td>1.0</td>\n",
       "      <td>83807.86</td>\n",
       "      <td>1</td>\n",
       "      <td>0</td>\n",
       "      <td>1</td>\n",
       "      <td>112542.58</td>\n",
       "      <td>0</td>\n",
       "    </tr>\n",
       "    <tr>\n",
       "      <td>2</td>\n",
       "      <td>502</td>\n",
       "      <td>France</td>\n",
       "      <td>Female</td>\n",
       "      <td>42</td>\n",
       "      <td>8.0</td>\n",
       "      <td>159660.80</td>\n",
       "      <td>3</td>\n",
       "      <td>1</td>\n",
       "      <td>0</td>\n",
       "      <td>113931.57</td>\n",
       "      <td>1</td>\n",
       "    </tr>\n",
       "    <tr>\n",
       "      <td>3</td>\n",
       "      <td>699</td>\n",
       "      <td>France</td>\n",
       "      <td>Female</td>\n",
       "      <td>39</td>\n",
       "      <td>1.0</td>\n",
       "      <td>0.00</td>\n",
       "      <td>2</td>\n",
       "      <td>0</td>\n",
       "      <td>0</td>\n",
       "      <td>93826.63</td>\n",
       "      <td>0</td>\n",
       "    </tr>\n",
       "    <tr>\n",
       "      <td>4</td>\n",
       "      <td>850</td>\n",
       "      <td>Spain</td>\n",
       "      <td>Female</td>\n",
       "      <td>43</td>\n",
       "      <td>2.0</td>\n",
       "      <td>125510.82</td>\n",
       "      <td>1</td>\n",
       "      <td>1</td>\n",
       "      <td>1</td>\n",
       "      <td>79084.10</td>\n",
       "      <td>0</td>\n",
       "    </tr>\n",
       "  </tbody>\n",
       "</table>\n",
       "</div>"
      ],
      "text/plain": [
       "   CreditScore Geography  Gender  Age  Tenure    Balance  NumOfProducts  \\\n",
       "0          619    France  Female   42     2.0       0.00              1   \n",
       "1          608     Spain  Female   41     1.0   83807.86              1   \n",
       "2          502    France  Female   42     8.0  159660.80              3   \n",
       "3          699    France  Female   39     1.0       0.00              2   \n",
       "4          850     Spain  Female   43     2.0  125510.82              1   \n",
       "\n",
       "   HasCrCard  IsActiveMember  EstimatedSalary  Exited  \n",
       "0          1               1        101348.88       1  \n",
       "1          0               1        112542.58       0  \n",
       "2          1               0        113931.57       1  \n",
       "3          0               0         93826.63       0  \n",
       "4          1               1         79084.10       0  "
      ]
     },
     "execution_count": 6,
     "metadata": {},
     "output_type": "execute_result"
    }
   ],
   "source": [
    "table = table.drop(['RowNumber', 'CustomerId', 'Surname'], axis=1)\n",
    "table.head()"
   ]
  },
  {
   "cell_type": "markdown",
   "metadata": {},
   "source": [
    "Рассмотрим признаки.\n",
    "\n",
    "Категориальные признаки:\n",
    "* Geography\n",
    "* Gender\n",
    "* HasCrCard\n",
    "* IsActiveMember\n",
    "\n",
    "Количественные признаки:\n",
    "* CreditScore\n",
    "* Age\n",
    "* Tenure\n",
    "* Balance\n",
    "* NumOfProducts\n",
    "* EstimatedSalary\n",
    "\n",
    "Проверим дубликаты:"
   ]
  },
  {
   "cell_type": "code",
   "execution_count": 14,
   "metadata": {},
   "outputs": [
    {
     "data": {
      "text/plain": [
       "0"
      ]
     },
     "execution_count": 14,
     "metadata": {},
     "output_type": "execute_result"
    }
   ],
   "source": [
    "table.duplicated().sum()"
   ]
  },
  {
   "cell_type": "markdown",
   "metadata": {},
   "source": [
    "Для удобства приведем названия столбцов к нижнему регистру:"
   ]
  },
  {
   "cell_type": "code",
   "execution_count": 7,
   "metadata": {},
   "outputs": [],
   "source": [
    "table.columns = table.columns.str.lower()"
   ]
  },
  {
   "cell_type": "markdown",
   "metadata": {},
   "source": [
    "Проверим признаки на мультиколлинеарность:"
   ]
  },
  {
   "cell_type": "code",
   "execution_count": 8,
   "metadata": {},
   "outputs": [
    {
     "data": {
      "image/png": "[encoded data removed]",
      "text/plain": [
       "<Figure size 432x288 with 2 Axes>"
      ]
     },
     "metadata": {},
     "output_type": "display_data"
    }
   ],
   "source": [
    "numeric = table.drop(['hascrcard', 'isactivemember', 'exited', 'geography', 'gender'], axis=1)\n",
    "sns.set(font_scale=1)\n",
    "sns.heatmap(numeric.corr(), cmap='RdYlGn', annot=True)\n",
    "plt.title('Корреляция числовых признаков', fontsize=14)\n",
    "\n",
    "plt.show()"
   ]
  },
  {
   "cell_type": "markdown",
   "metadata": {},
   "source": [
    "Мультиколлинеарность отсутствует, можно работать дальше."
   ]
  },
  {
   "cell_type": "markdown",
   "metadata": {},
   "source": [
    "Приведем данные в столбце tenure к целочисленному типу:"
   ]
  },
  {
   "cell_type": "code",
   "execution_count": 9,
   "metadata": {},
   "outputs": [
    {
     "name": "stdout",
     "output_type": "stream",
     "text": [
      "<class 'pandas.core.frame.DataFrame'>\n",
      "RangeIndex: 10000 entries, 0 to 9999\n",
      "Data columns (total 11 columns):\n",
      "creditscore        10000 non-null int64\n",
      "geography          10000 non-null object\n",
      "gender             10000 non-null object\n",
      "age                10000 non-null int64\n",
      "tenure             10000 non-null int64\n",
      "balance            10000 non-null float64\n",
      "numofproducts      10000 non-null int64\n",
      "hascrcard          10000 non-null int64\n",
      "isactivemember     10000 non-null int64\n",
      "estimatedsalary    10000 non-null float64\n",
      "exited             10000 non-null int64\n",
      "dtypes: float64(2), int64(7), object(2)\n",
      "memory usage: 859.5+ KB\n"
     ]
    }
   ],
   "source": [
    "table['tenure'] = table['tenure'].astype('int')\n",
    "table.info()"
   ]
  },
  {
   "cell_type": "markdown",
   "metadata": {},
   "source": [
    "**Вывод**: данные подготовлены, можно приступать к исследованию моделей."
   ]
  },
  {
   "cell_type": "markdown",
   "metadata": {},
   "source": [
    "## 3. Исследование задачи"
   ]
  },
  {
   "cell_type": "markdown",
   "metadata": {},
   "source": [
    "Так как у нас имеются категориальные признаки с типом данных 'object' (geography, gender), модель не сможет с ними работать. Для кодировки таких признаков воспользуемся техникой OHE(One-hot encoding), так как она подходит для всех моделей."
   ]
  },
  {
   "cell_type": "code",
   "execution_count": 10,
   "metadata": {},
   "outputs": [
    {
     "name": "stdout",
     "output_type": "stream",
     "text": [
      "<class 'pandas.core.frame.DataFrame'>\n",
      "RangeIndex: 10000 entries, 0 to 9999\n",
      "Data columns (total 12 columns):\n",
      "creditscore          10000 non-null int64\n",
      "age                  10000 non-null int64\n",
      "tenure               10000 non-null int64\n",
      "balance              10000 non-null float64\n",
      "numofproducts        10000 non-null int64\n",
      "hascrcard            10000 non-null int64\n",
      "isactivemember       10000 non-null int64\n",
      "estimatedsalary      10000 non-null float64\n",
      "exited               10000 non-null int64\n",
      "geography_Germany    10000 non-null uint8\n",
      "geography_Spain      10000 non-null uint8\n",
      "gender_Male          10000 non-null uint8\n",
      "dtypes: float64(2), int64(7), uint8(3)\n",
      "memory usage: 732.5 KB\n"
     ]
    }
   ],
   "source": [
    "table_ohe = pd.get_dummies(table, drop_first=True)\n",
    "table_ohe.info()"
   ]
  },
  {
   "cell_type": "code",
   "execution_count": 11,
   "metadata": {},
   "outputs": [],
   "source": [
    "target = table_ohe['exited']\n",
    "features = table_ohe.drop('exited', axis = 1)"
   ]
  },
  {
   "cell_type": "markdown",
   "metadata": {},
   "source": [
    "Разделим наши данные на обучающую, валидационную и тестовую выборки. Для тестовой выборки возьмем 20% данных."
   ]
  },
  {
   "cell_type": "code",
   "execution_count": 12,
   "metadata": {},
   "outputs": [],
   "source": [
    "features_common, features_test, target_common, target_test = train_test_split(features, target,\n",
    "                                                                              test_size=0.2,\n",
    "                                                                              random_state = 12345,\n",
    "                                                                              stratify=target)"
   ]
  },
  {
   "cell_type": "code",
   "execution_count": 21,
   "metadata": {},
   "outputs": [
    {
     "data": {
      "text/html": [
       "<div>\n",
       "<style scoped>\n",
       "    .dataframe tbody tr th:only-of-type {\n",
       "        vertical-align: middle;\n",
       "    }\n",
       "\n",
       "    .dataframe tbody tr th {\n",
       "        vertical-align: top;\n",
       "    }\n",
       "\n",
       "    .dataframe thead th {\n",
       "        text-align: right;\n",
       "    }\n",
       "</style>\n",
       "<table border=\"1\" class=\"dataframe\">\n",
       "  <thead>\n",
       "    <tr style=\"text-align: right;\">\n",
       "      <th></th>\n",
       "      <th>exited</th>\n",
       "    </tr>\n",
       "  </thead>\n",
       "  <tbody>\n",
       "    <tr>\n",
       "      <td>0</td>\n",
       "      <td>1593</td>\n",
       "    </tr>\n",
       "    <tr>\n",
       "      <td>1</td>\n",
       "      <td>407</td>\n",
       "    </tr>\n",
       "  </tbody>\n",
       "</table>\n",
       "</div>"
      ],
      "text/plain": [
       "   exited\n",
       "0    1593\n",
       "1     407"
      ]
     },
     "execution_count": 21,
     "metadata": {},
     "output_type": "execute_result"
    }
   ],
   "source": [
    "target_test.value_counts().to_frame()"
   ]
  },
  {
   "cell_type": "markdown",
   "metadata": {},
   "source": [
    "Теперь разделим оставшиеся данные на обучающую и валидационную выборки. Размер валидационной выборки - 20% данных."
   ]
  },
  {
   "cell_type": "code",
   "execution_count": 13,
   "metadata": {},
   "outputs": [],
   "source": [
    "features_train, features_valid, target_train, target_valid = train_test_split(features_common,\n",
    "                                                                              target_common,\n",
    "                                                                              test_size=0.25,\n",
    "                                                                              random_state = 12345,\n",
    "                                                                              stratify = target_common)"
   ]
  },
  {
   "cell_type": "code",
   "execution_count": 23,
   "metadata": {},
   "outputs": [
    {
     "data": {
      "text/html": [
       "<div>\n",
       "<style scoped>\n",
       "    .dataframe tbody tr th:only-of-type {\n",
       "        vertical-align: middle;\n",
       "    }\n",
       "\n",
       "    .dataframe tbody tr th {\n",
       "        vertical-align: top;\n",
       "    }\n",
       "\n",
       "    .dataframe thead th {\n",
       "        text-align: right;\n",
       "    }\n",
       "</style>\n",
       "<table border=\"1\" class=\"dataframe\">\n",
       "  <thead>\n",
       "    <tr style=\"text-align: right;\">\n",
       "      <th></th>\n",
       "      <th>exited</th>\n",
       "    </tr>\n",
       "  </thead>\n",
       "  <tbody>\n",
       "    <tr>\n",
       "      <td>0</td>\n",
       "      <td>1593</td>\n",
       "    </tr>\n",
       "    <tr>\n",
       "      <td>1</td>\n",
       "      <td>407</td>\n",
       "    </tr>\n",
       "  </tbody>\n",
       "</table>\n",
       "</div>"
      ],
      "text/plain": [
       "   exited\n",
       "0    1593\n",
       "1     407"
      ]
     },
     "execution_count": 23,
     "metadata": {},
     "output_type": "execute_result"
    }
   ],
   "source": [
    "target_valid.value_counts().to_frame()"
   ]
  },
  {
   "cell_type": "markdown",
   "metadata": {},
   "source": [
    "Размер обучающей выборки:"
   ]
  },
  {
   "cell_type": "code",
   "execution_count": 24,
   "metadata": {},
   "outputs": [
    {
     "data": {
      "text/html": [
       "<div>\n",
       "<style scoped>\n",
       "    .dataframe tbody tr th:only-of-type {\n",
       "        vertical-align: middle;\n",
       "    }\n",
       "\n",
       "    .dataframe tbody tr th {\n",
       "        vertical-align: top;\n",
       "    }\n",
       "\n",
       "    .dataframe thead th {\n",
       "        text-align: right;\n",
       "    }\n",
       "</style>\n",
       "<table border=\"1\" class=\"dataframe\">\n",
       "  <thead>\n",
       "    <tr style=\"text-align: right;\">\n",
       "      <th></th>\n",
       "      <th>exited</th>\n",
       "    </tr>\n",
       "  </thead>\n",
       "  <tbody>\n",
       "    <tr>\n",
       "      <td>0</td>\n",
       "      <td>4777</td>\n",
       "    </tr>\n",
       "    <tr>\n",
       "      <td>1</td>\n",
       "      <td>1223</td>\n",
       "    </tr>\n",
       "  </tbody>\n",
       "</table>\n",
       "</div>"
      ],
      "text/plain": [
       "   exited\n",
       "0    4777\n",
       "1    1223"
      ]
     },
     "execution_count": 24,
     "metadata": {},
     "output_type": "execute_result"
    }
   ],
   "source": [
    "target_train.value_counts().to_frame()"
   ]
  },
  {
   "cell_type": "markdown",
   "metadata": {},
   "source": [
    "Некоторые числовые признаки имеют разный масштаб: \n",
    "* возраст - от 18 до 92 лет;\n",
    "* кредитный рейтинг - от 350 до 850;\n",
    "* сумма на балансе - от 0 до 251 000 у.е.;\n",
    "* зарплата - от 11.58 до 200 000 у.е.\n",
    "\n",
    "Если не привести данные к единому масштабу, модель будет думать, что самые важные признаки - сумма на балансе счета и зарплата клиента. Хотя важны все признаки. Произведем масштабирование:"
   ]
  },
  {
   "cell_type": "code",
   "execution_count": 14,
   "metadata": {},
   "outputs": [
    {
     "data": {
      "text/html": [
       "<div>\n",
       "<style scoped>\n",
       "    .dataframe tbody tr th:only-of-type {\n",
       "        vertical-align: middle;\n",
       "    }\n",
       "\n",
       "    .dataframe tbody tr th {\n",
       "        vertical-align: top;\n",
       "    }\n",
       "\n",
       "    .dataframe thead th {\n",
       "        text-align: right;\n",
       "    }\n",
       "</style>\n",
       "<table border=\"1\" class=\"dataframe\">\n",
       "  <thead>\n",
       "    <tr style=\"text-align: right;\">\n",
       "      <th></th>\n",
       "      <th>creditscore</th>\n",
       "      <th>age</th>\n",
       "      <th>tenure</th>\n",
       "      <th>balance</th>\n",
       "      <th>numofproducts</th>\n",
       "      <th>hascrcard</th>\n",
       "      <th>isactivemember</th>\n",
       "      <th>estimatedsalary</th>\n",
       "      <th>geography_Germany</th>\n",
       "      <th>geography_Spain</th>\n",
       "      <th>gender_Male</th>\n",
       "    </tr>\n",
       "  </thead>\n",
       "  <tbody>\n",
       "    <tr>\n",
       "      <td>5536</td>\n",
       "      <td>-0.143332</td>\n",
       "      <td>0.577533</td>\n",
       "      <td>2</td>\n",
       "      <td>-1.220573</td>\n",
       "      <td>2</td>\n",
       "      <td>1</td>\n",
       "      <td>1</td>\n",
       "      <td>1.029613</td>\n",
       "      <td>0</td>\n",
       "      <td>1</td>\n",
       "      <td>1</td>\n",
       "    </tr>\n",
       "    <tr>\n",
       "      <td>8530</td>\n",
       "      <td>1.632702</td>\n",
       "      <td>-0.564119</td>\n",
       "      <td>2</td>\n",
       "      <td>0.435807</td>\n",
       "      <td>1</td>\n",
       "      <td>1</td>\n",
       "      <td>0</td>\n",
       "      <td>0.237986</td>\n",
       "      <td>0</td>\n",
       "      <td>0</td>\n",
       "      <td>0</td>\n",
       "    </tr>\n",
       "    <tr>\n",
       "      <td>1762</td>\n",
       "      <td>1.116413</td>\n",
       "      <td>-0.468981</td>\n",
       "      <td>1</td>\n",
       "      <td>1.245822</td>\n",
       "      <td>1</td>\n",
       "      <td>1</td>\n",
       "      <td>1</td>\n",
       "      <td>-0.686104</td>\n",
       "      <td>0</td>\n",
       "      <td>0</td>\n",
       "      <td>0</td>\n",
       "    </tr>\n",
       "    <tr>\n",
       "      <td>9090</td>\n",
       "      <td>1.643028</td>\n",
       "      <td>0.006707</td>\n",
       "      <td>5</td>\n",
       "      <td>-1.220573</td>\n",
       "      <td>1</td>\n",
       "      <td>1</td>\n",
       "      <td>0</td>\n",
       "      <td>-0.391097</td>\n",
       "      <td>0</td>\n",
       "      <td>0</td>\n",
       "      <td>0</td>\n",
       "    </tr>\n",
       "    <tr>\n",
       "      <td>8777</td>\n",
       "      <td>-0.484083</td>\n",
       "      <td>-1.420358</td>\n",
       "      <td>1</td>\n",
       "      <td>1.421989</td>\n",
       "      <td>2</td>\n",
       "      <td>1</td>\n",
       "      <td>0</td>\n",
       "      <td>-1.361559</td>\n",
       "      <td>0</td>\n",
       "      <td>1</td>\n",
       "      <td>1</td>\n",
       "    </tr>\n",
       "  </tbody>\n",
       "</table>\n",
       "</div>"
      ],
      "text/plain": [
       "      creditscore       age  tenure   balance  numofproducts  hascrcard  \\\n",
       "5536    -0.143332  0.577533       2 -1.220573              2          1   \n",
       "8530     1.632702 -0.564119       2  0.435807              1          1   \n",
       "1762     1.116413 -0.468981       1  1.245822              1          1   \n",
       "9090     1.643028  0.006707       5 -1.220573              1          1   \n",
       "8777    -0.484083 -1.420358       1  1.421989              2          1   \n",
       "\n",
       "      isactivemember  estimatedsalary  geography_Germany  geography_Spain  \\\n",
       "5536               1         1.029613                  0                1   \n",
       "8530               0         0.237986                  0                0   \n",
       "1762               1        -0.686104                  0                0   \n",
       "9090               0        -0.391097                  0                0   \n",
       "8777               0        -1.361559                  0                1   \n",
       "\n",
       "      gender_Male  \n",
       "5536            1  \n",
       "8530            0  \n",
       "1762            0  \n",
       "9090            0  \n",
       "8777            1  "
      ]
     },
     "execution_count": 14,
     "metadata": {},
     "output_type": "execute_result"
    }
   ],
   "source": [
    "numeric = ['creditscore', 'age', 'balance', 'estimatedsalary']\n",
    "\n",
    "scaler = StandardScaler()\n",
    "scaler.fit(features_train[numeric])\n",
    "\n",
    "features_train[numeric] = scaler.transform(features_train[numeric])\n",
    "features_valid[numeric] = scaler.transform(features_valid[numeric])\n",
    "features_test[numeric] = scaler.transform(features_test[numeric])\n",
    "\n",
    "features_train.head()"
   ]
  },
  {
   "cell_type": "code",
   "execution_count": 15,
   "metadata": {},
   "outputs": [
    {
     "data": {
      "text/html": [
       "<div>\n",
       "<style scoped>\n",
       "    .dataframe tbody tr th:only-of-type {\n",
       "        vertical-align: middle;\n",
       "    }\n",
       "\n",
       "    .dataframe tbody tr th {\n",
       "        vertical-align: top;\n",
       "    }\n",
       "\n",
       "    .dataframe thead th {\n",
       "        text-align: right;\n",
       "    }\n",
       "</style>\n",
       "<table border=\"1\" class=\"dataframe\">\n",
       "  <thead>\n",
       "    <tr style=\"text-align: right;\">\n",
       "      <th></th>\n",
       "      <th>creditscore</th>\n",
       "      <th>age</th>\n",
       "      <th>tenure</th>\n",
       "      <th>balance</th>\n",
       "      <th>numofproducts</th>\n",
       "      <th>hascrcard</th>\n",
       "      <th>isactivemember</th>\n",
       "      <th>estimatedsalary</th>\n",
       "      <th>geography_Germany</th>\n",
       "      <th>geography_Spain</th>\n",
       "      <th>gender_Male</th>\n",
       "    </tr>\n",
       "  </thead>\n",
       "  <tbody>\n",
       "    <tr>\n",
       "      <td>9375</td>\n",
       "      <td>0.094161</td>\n",
       "      <td>0.862946</td>\n",
       "      <td>4</td>\n",
       "      <td>0.757050</td>\n",
       "      <td>2</td>\n",
       "      <td>1</td>\n",
       "      <td>0</td>\n",
       "      <td>-0.308325</td>\n",
       "      <td>1</td>\n",
       "      <td>0</td>\n",
       "      <td>1</td>\n",
       "    </tr>\n",
       "    <tr>\n",
       "      <td>9536</td>\n",
       "      <td>-1.031349</td>\n",
       "      <td>0.292120</td>\n",
       "      <td>10</td>\n",
       "      <td>0.838881</td>\n",
       "      <td>1</td>\n",
       "      <td>1</td>\n",
       "      <td>0</td>\n",
       "      <td>-0.645029</td>\n",
       "      <td>1</td>\n",
       "      <td>0</td>\n",
       "      <td>0</td>\n",
       "    </tr>\n",
       "    <tr>\n",
       "      <td>6344</td>\n",
       "      <td>2.066384</td>\n",
       "      <td>0.196983</td>\n",
       "      <td>3</td>\n",
       "      <td>-1.220573</td>\n",
       "      <td>2</td>\n",
       "      <td>1</td>\n",
       "      <td>0</td>\n",
       "      <td>0.498373</td>\n",
       "      <td>0</td>\n",
       "      <td>0</td>\n",
       "      <td>1</td>\n",
       "    </tr>\n",
       "    <tr>\n",
       "      <td>4357</td>\n",
       "      <td>1.085435</td>\n",
       "      <td>-0.278706</td>\n",
       "      <td>8</td>\n",
       "      <td>-1.220573</td>\n",
       "      <td>2</td>\n",
       "      <td>1</td>\n",
       "      <td>0</td>\n",
       "      <td>1.331035</td>\n",
       "      <td>0</td>\n",
       "      <td>0</td>\n",
       "      <td>1</td>\n",
       "    </tr>\n",
       "    <tr>\n",
       "      <td>9120</td>\n",
       "      <td>0.548495</td>\n",
       "      <td>1.814323</td>\n",
       "      <td>4</td>\n",
       "      <td>0.266421</td>\n",
       "      <td>1</td>\n",
       "      <td>0</td>\n",
       "      <td>1</td>\n",
       "      <td>-0.261760</td>\n",
       "      <td>0</td>\n",
       "      <td>1</td>\n",
       "      <td>1</td>\n",
       "    </tr>\n",
       "  </tbody>\n",
       "</table>\n",
       "</div>"
      ],
      "text/plain": [
       "      creditscore       age  tenure   balance  numofproducts  hascrcard  \\\n",
       "9375     0.094161  0.862946       4  0.757050              2          1   \n",
       "9536    -1.031349  0.292120      10  0.838881              1          1   \n",
       "6344     2.066384  0.196983       3 -1.220573              2          1   \n",
       "4357     1.085435 -0.278706       8 -1.220573              2          1   \n",
       "9120     0.548495  1.814323       4  0.266421              1          0   \n",
       "\n",
       "      isactivemember  estimatedsalary  geography_Germany  geography_Spain  \\\n",
       "9375               0        -0.308325                  1                0   \n",
       "9536               0        -0.645029                  1                0   \n",
       "6344               0         0.498373                  0                0   \n",
       "4357               0         1.331035                  0                0   \n",
       "9120               1        -0.261760                  0                1   \n",
       "\n",
       "      gender_Male  \n",
       "9375            1  \n",
       "9536            0  \n",
       "6344            1  \n",
       "4357            1  \n",
       "9120            1  "
      ]
     },
     "execution_count": 15,
     "metadata": {},
     "output_type": "execute_result"
    }
   ],
   "source": [
    "features_valid.head()"
   ]
  },
  {
   "cell_type": "markdown",
   "metadata": {},
   "source": [
    "Сначала обучим различные модели без учета дисбаланса классов, применив метод поиска оптимальных гиперпараметров RandomizedSearchCV."
   ]
  },
  {
   "cell_type": "markdown",
   "metadata": {},
   "source": [
    "### 3.1. Логистическая регрессия"
   ]
  },
  {
   "cell_type": "code",
   "execution_count": 26,
   "metadata": {},
   "outputs": [
    {
     "data": {
      "text/plain": [
       "{'C': 1.4729661593621919, 'penalty': 'l2'}"
      ]
     },
     "execution_count": 26,
     "metadata": {},
     "output_type": "execute_result"
    }
   ],
   "source": [
    "model_regress = LogisticRegression(solver='liblinear', random_state=0)\n",
    "\n",
    "penalty = ['l1', 'l2']\n",
    "C = uniform(loc=0, scale=4)\n",
    "hyperparameters = dict(C=C, penalty=penalty)\n",
    "\n",
    "rs_regress = RandomizedSearchCV(model_regress, \n",
    "                        hyperparameters, \n",
    "                        n_iter = 100, \n",
    "                        cv = 5, \n",
    "                        verbose = 0, \n",
    "                        n_jobs=1,\n",
    "                        random_state=0,\n",
    "                        scoring='f1')\n",
    "rs_regress.fit(features_train, target_train)\n",
    "rs_regress.best_params_"
   ]
  },
  {
   "cell_type": "markdown",
   "metadata": {},
   "source": [
    "Получим предсказания модели и выведем сводный отчет о метриках accuracy, precision, recall, f1-score."
   ]
  },
  {
   "cell_type": "code",
   "execution_count": 27,
   "metadata": {},
   "outputs": [
    {
     "name": "stdout",
     "output_type": "stream",
     "text": [
      "              precision  recall  f1-score  support\n",
      "0                  0.83    0.97      0.90  1593.00\n",
      "1                  0.67    0.21      0.32   407.00\n",
      "accuracy           0.82    0.82      0.82     0.82\n",
      "macro avg          0.75    0.59      0.61  2000.00\n",
      "weighted avg       0.80    0.82      0.78  2000.00\n"
     ]
    }
   ],
   "source": [
    "predictions_regress = rs_regress.predict(features_valid)\n",
    "\n",
    "report_regress = classification_report(target_valid, predictions_regress, output_dict=True)\n",
    "report_regress = pd.DataFrame(report_regress).transpose()\n",
    "pd.set_option('display.float_format', '{:.2f}'.format)\n",
    "print(report_regress)"
   ]
  },
  {
   "cell_type": "markdown",
   "metadata": {},
   "source": [
    "Accuracy получилось довольно большим, но как мы знаем, выборка несбалансирована, потому эта метрика в данном случае не говорит ни о чем. Полнота признака '1' низкая, значит, модель плохо разобралась в отличиях классов (объяснимо, ведь училась она в основном на нулях). Точность признака '1' выше, чем полнота. Значение F1 (среднее гармоническое полноты и точности) низкое. Модель никуда не годится.\n",
    "\n",
    "Взглянем на матрицу ошибок:"
   ]
  },
  {
   "cell_type": "code",
   "execution_count": 28,
   "metadata": {},
   "outputs": [
    {
     "data": {
      "image/png": "[encoded data removed]",
      "text/plain": [
       "<Figure size 432x288 with 2 Axes>"
      ]
     },
     "metadata": {},
     "output_type": "display_data"
    }
   ],
   "source": [
    "df_cm_regress = pd.DataFrame(confusion_matrix(target_valid, predictions_regress))\n",
    "sns.set(font_scale=1)\n",
    "sns.heatmap(df_cm_regress, annot=True, cmap='YlGnBu', fmt='d', annot_kws={'fontsize':12})\n",
    "plt.title('Матрица ошибок логистической регрессии', fontsize=14)\n",
    "plt.xlabel('Предсказания', fontsize=12)\n",
    "plt.ylabel('Ответы', fontsize=12)\n",
    "\n",
    "plt.show()"
   ]
  },
  {
   "cell_type": "markdown",
   "metadata": {},
   "source": [
    "Модель хорошо определила отрицательный класс, но очень плохо разобралась с положительным. FN-значений много, то есть модель не смогла распознать ушедших клиентов, и это полный провал. Скорее всего, причина в несбалансированности классов."
   ]
  },
  {
   "cell_type": "markdown",
   "metadata": {},
   "source": [
    "### 3.2. Случайный лес"
   ]
  },
  {
   "cell_type": "code",
   "execution_count": 29,
   "metadata": {},
   "outputs": [
    {
     "data": {
      "text/plain": [
       "{'n_estimators': 20,\n",
       " 'min_samples_split': 23,\n",
       " 'min_samples_leaf': 1,\n",
       " 'max_features': 'sqrt',\n",
       " 'max_depth': 14,\n",
       " 'criterion': 'entropy'}"
      ]
     },
     "execution_count": 29,
     "metadata": {},
     "output_type": "execute_result"
    }
   ],
   "source": [
    "model_forest = RandomForestClassifier(random_state=0)\n",
    "                                     \n",
    "n_estimators = [int(x) for x in np.linspace(start = 5, stop = 50, num = 10)]\n",
    "max_features = ['log2', 'sqrt']\n",
    "max_depth = [int(x) for x in np.linspace(start = 1, stop = 15, num = 15)]\n",
    "min_samples_split = [int(x) for x in np.linspace(start = 2, stop = 50, num = 10)]\n",
    "min_samples_leaf = [int(x) for x in np.linspace(start = 1, stop = 50, num = 10)]\n",
    "criterion = ['gini', 'entropy']\n",
    "\n",
    "param_dist = {'n_estimators': n_estimators,\n",
    "               'max_features': max_features,\n",
    "               'max_depth': max_depth,\n",
    "               'min_samples_split': min_samples_split,\n",
    "               'min_samples_leaf': min_samples_leaf,\n",
    "               'criterion': criterion}\n",
    "\n",
    "rs_forest = RandomizedSearchCV(model_forest,\n",
    "                               param_dist,\n",
    "                               n_iter = 100,\n",
    "                               cv = 3,\n",
    "                               verbose = 0, \n",
    "                               n_jobs= 1, \n",
    "                               random_state=0,\n",
    "                               scoring = 'f1')\n",
    "\n",
    "rs_forest.fit(features_train, target_train)\n",
    "rs_forest.best_params_                                "
   ]
  },
  {
   "cell_type": "markdown",
   "metadata": {},
   "source": [
    "Получим предсказания модели случайного леса и выведем сводный отчет о метриках accuracy, precision, recall, f1-score."
   ]
  },
  {
   "cell_type": "code",
   "execution_count": 30,
   "metadata": {},
   "outputs": [
    {
     "name": "stdout",
     "output_type": "stream",
     "text": [
      "              precision  recall  f1-score  support\n",
      "0                  0.87    0.97      0.92  1593.00\n",
      "1                  0.80    0.45      0.57   407.00\n",
      "accuracy           0.86    0.86      0.86     0.86\n",
      "macro avg          0.84    0.71      0.75  2000.00\n",
      "weighted avg       0.86    0.86      0.85  2000.00\n"
     ]
    }
   ],
   "source": [
    "predictions_forest = rs_forest.predict(features_valid)\n",
    "\n",
    "report_forest = classification_report(target_valid, predictions_forest, output_dict=True)\n",
    "report_forest = pd.DataFrame(report_forest).transpose()\n",
    "pd.set_option('display.float_format', '{:.2f}'.format)\n",
    "print(report_forest)"
   ]
  },
  {
   "cell_type": "markdown",
   "metadata": {},
   "source": [
    "Эта модель определенно лучше. Все метрики (точность, полнота, F1-мера) выше, чем у логистической регрессии.\n",
    "\n",
    "Взглянем на матрицу ошибок:"
   ]
  },
  {
   "cell_type": "code",
   "execution_count": 31,
   "metadata": {},
   "outputs": [
    {
     "data": {
      "image/png": "[encoded data removed]",
      "text/plain": [
       "<Figure size 432x288 with 2 Axes>"
      ]
     },
     "metadata": {},
     "output_type": "display_data"
    }
   ],
   "source": [
    "df_cm_forest = pd.DataFrame(confusion_matrix(target_valid, predictions_forest))\n",
    "sns.set(font_scale=1)\n",
    "sns.heatmap(df_cm_forest, annot=True, cmap='YlGnBu', fmt='d', annot_kws={'fontsize':12})\n",
    "plt.title('Матрица ошибок случайного леса', fontsize=14)\n",
    "plt.xlabel('Предсказания', fontsize=12)\n",
    "plt.ylabel('Ответы', fontsize=12)\n",
    "plt.show()"
   ]
  },
  {
   "cell_type": "markdown",
   "metadata": {},
   "source": [
    "Модель хорошо определила отрицательный класс, и получше, чем предыдущая модель, разобралась с положительным. И все равно FN-значений довольно много, модель тоже плохо распознает ушедших клиентов."
   ]
  },
  {
   "cell_type": "markdown",
   "metadata": {},
   "source": [
    "### 3.3. Решающее дерево"
   ]
  },
  {
   "cell_type": "code",
   "execution_count": 32,
   "metadata": {},
   "outputs": [
    {
     "data": {
      "text/plain": [
       "{'splitter': 'best',\n",
       " 'min_samples_split': 7,\n",
       " 'min_samples_leaf': 6,\n",
       " 'max_features': 'sqrt',\n",
       " 'max_depth': 10,\n",
       " 'criterion': 'gini'}"
      ]
     },
     "execution_count": 32,
     "metadata": {},
     "output_type": "execute_result"
    }
   ],
   "source": [
    "model_tree = DecisionTreeClassifier(random_state=0)\n",
    "                                     \n",
    "max_features = ['sqrt', 'log2']\n",
    "splitter = ['best', 'random']\n",
    "criterion = ['gini', 'entropy']\n",
    "max_depth = [int(x) for x in np.linspace(start = 1, stop = 15, num = 15)]\n",
    "min_samples_split = [int(x) for x in np.linspace(start = 2, stop = 50, num = 10)]\n",
    "min_samples_leaf = [int(x) for x in np.linspace(start = 1, stop = 50, num = 10)]\n",
    "\n",
    "param_dist = {'criterion': criterion,\n",
    "               'max_features': max_features,\n",
    "               'max_depth': max_depth,\n",
    "               'min_samples_split': min_samples_split,\n",
    "               'min_samples_leaf': min_samples_leaf,\n",
    "               'splitter': splitter}\n",
    "\n",
    "rs_tree = RandomizedSearchCV(model_tree, \n",
    "                        param_dist,  \n",
    "                        cv = 5,\n",
    "                        n_iter=100,\n",
    "                        verbose = 0, \n",
    "                        n_jobs=1,\n",
    "                        scoring='f1',\n",
    "                        random_state=0)\n",
    "\n",
    "rs_tree.fit(features_train, target_train)\n",
    "rs_tree.best_params_                                "
   ]
  },
  {
   "cell_type": "markdown",
   "metadata": {},
   "source": [
    "Получим предсказания модели решающего дерева и выведем сводный отчет о метриках accuracy, precision, recall, f1-score."
   ]
  },
  {
   "cell_type": "code",
   "execution_count": 33,
   "metadata": {},
   "outputs": [
    {
     "name": "stdout",
     "output_type": "stream",
     "text": [
      "              precision  recall  f1-score  support\n",
      "0                  0.86    0.95      0.90  1593.00\n",
      "1                  0.66    0.37      0.47   407.00\n",
      "accuracy           0.83    0.83      0.83     0.83\n",
      "macro avg          0.76    0.66      0.69  2000.00\n",
      "weighted avg       0.82    0.83      0.81  2000.00\n"
     ]
    }
   ],
   "source": [
    "predictions_tree = rs_tree.predict(features_valid)\n",
    "\n",
    "report_tree = classification_report(target_valid, predictions_tree, output_dict=True)\n",
    "report_tree = pd.DataFrame(report_tree).transpose()\n",
    "pd.set_option('display.float_format', '{:.2f}'.format)\n",
    "print(report_tree)"
   ]
  },
  {
   "cell_type": "markdown",
   "metadata": {},
   "source": [
    "У этой модели метрика F1 ниже, чем у случайного леса, но работает модель быстрее всех.\n",
    "\n",
    "Взглянем на матрицу ошибок:"
   ]
  },
  {
   "cell_type": "code",
   "execution_count": 34,
   "metadata": {},
   "outputs": [
    {
     "data": {
      "image/png": "[encoded data removed]",
      "text/plain": [
       "<Figure size 432x288 with 2 Axes>"
      ]
     },
     "metadata": {},
     "output_type": "display_data"
    }
   ],
   "source": [
    "df_cm_tree = pd.DataFrame(confusion_matrix(target_valid, predictions_tree))\n",
    "sns.set(font_scale=1)\n",
    "sns.heatmap(df_cm_tree, annot=True, cmap='YlGnBu', fmt='d', annot_kws={'fontsize':12})\n",
    "plt.title('Матрица ошибок решающего дерева', fontsize=14)\n",
    "plt.xlabel('Предсказания', fontsize=12)\n",
    "plt.ylabel('Ответы', fontsize=12)\n",
    "plt.show()"
   ]
  },
  {
   "cell_type": "markdown",
   "metadata": {},
   "source": [
    "Модель все также переусердсвует с FN.\n",
    "\n",
    "Построим ROC-кривые всех исследованных моделей и посчитаем метрику AUC-ROC."
   ]
  },
  {
   "cell_type": "code",
   "execution_count": 35,
   "metadata": {},
   "outputs": [
    {
     "data": {
      "image/png": "[encoded data removed]",
      "text/plain": [
       "<Figure size 504x360 with 1 Axes>"
      ]
     },
     "metadata": {},
     "output_type": "display_data"
    }
   ],
   "source": [
    "fpr1, tpr1, thresholds1 = roc_curve(target_valid, rs_regress.predict_proba(features_valid)[:,1], pos_label=1)\n",
    "fpr2, tpr2, thresholds2 = roc_curve(target_valid, rs_forest.predict_proba(features_valid)[:,1], pos_label=1)\n",
    "fpr3, tpr3, thresholds3 = roc_curve(target_valid, rs_tree.predict_proba(features_valid)[:,1], pos_label=1)\n",
    "\n",
    "auc_regress = roc_auc_score(target_valid, rs_regress.predict_proba(features_valid)[:,1])\n",
    "auc_forest = roc_auc_score(target_valid, rs_forest.predict_proba(features_valid)[:,1])\n",
    "auc_tree = roc_auc_score(target_valid, rs_tree.predict_proba(features_valid)[:,1])\n",
    "\n",
    "lw=2\n",
    "fig, ax = plt.subplots(figsize=(7,5))\n",
    "ax.plot(fpr1, tpr1, lw=lw, label= 'LogisticRegression, AUC-ROC = %.2f' %auc_regress)\n",
    "ax.plot(fpr2, tpr2, lw=lw, label= 'RandomForest, AUC-ROC = %.2f' %auc_forest)\n",
    "ax.plot(fpr3, tpr3, lw=lw, label= 'DecisionTree, AUC-ROC = %.2f' %auc_tree)\n",
    "\n",
    "plt.title('ROC-кривые моделей', fontsize=16)\n",
    "plt.legend(loc='lower right')\n",
    "plt.plot([0,1], [0,1])\n",
    "plt.xlim([0.0, 1.0])\n",
    "plt.xlabel('FPR', fontsize=16)\n",
    "plt.ylabel('TPR', fontsize=16)\n",
    "plt.ylim([0.0, 1.05])\n",
    "plt.tick_params(which='major', labelsize=14)\n",
    "plt.show()"
   ]
  },
  {
   "cell_type": "markdown",
   "metadata": {},
   "source": [
    "В лидерах случайный лес. Сделаем сводный отчет метрик всех трех моделей."
   ]
  },
  {
   "cell_type": "code",
   "execution_count": 36,
   "metadata": {},
   "outputs": [
    {
     "name": "stdout",
     "output_type": "stream",
     "text": [
      "                         accuracy  precision  recall   F1  AUC-ROC\n",
      "Логистическая регрессия      0.82       0.67    0.21 0.32     0.79\n",
      "Случайный лес                0.86       0.80    0.45 0.57     0.86\n",
      "Решающее дерево              0.83       0.66    0.37 0.47     0.82\n"
     ]
    }
   ],
   "source": [
    "data = {'accuracy':[report_regress.loc['accuracy', 'support'], report_forest.loc['accuracy', 'support'], report_tree.loc['accuracy', 'support']],\n",
    "        'precision':[report_regress.loc['1', 'precision'], report_forest.loc['1', 'precision'], report_tree.loc['1', 'precision']],\n",
    "        'recall':[report_regress.loc['1', 'recall'], report_forest.loc['1', 'recall'], report_tree.loc['1', 'recall']],\n",
    "        'F1':[report_regress.loc['1', 'f1-score'], report_forest.loc['1', 'f1-score'], report_tree.loc['1', 'f1-score']],\n",
    "       'AUC-ROC': [auc_regress, auc_forest, auc_tree]}\n",
    "\n",
    "table_compare = pd.DataFrame(data)\n",
    "pd.set_option('display.float_format', '{:.2f}'.format)\n",
    "table_compare.index = ['Логистическая регрессия', 'Случайный лес', 'Решающее дерево']\n",
    "print(table_compare)"
   ]
  },
  {
   "cell_type": "markdown",
   "metadata": {},
   "source": [
    "По итогам исследования можно сказать следующее.\n",
    "\n",
    "Мы имели дело с сильным дисбалансом классов (80/20), что сыграло свою роль в обучении моделей.\n",
    "Из всех рассмотренных моделей лучшая - случайный лес, все метрики у нее самые высокие. Но эта модель пока не решает поставленную задачу, путается в классах. Необходимо сбалансировать классы и сравнить результаты.\n",
    "\n",
    "Визуализируем важность признаков на примере лучшей модели:"
   ]
  },
  {
   "cell_type": "code",
   "execution_count": 37,
   "metadata": {},
   "outputs": [
    {
     "data": {
      "image/png": "[encoded data removed]",
      "text/plain": [
       "<Figure size 2160x1080 with 1 Axes>"
      ]
     },
     "metadata": {},
     "output_type": "display_data"
    }
   ],
   "source": [
    "top_params = rs_forest.best_params_\n",
    "model_forest = RandomForestClassifier(n_estimators = top_params['n_estimators'],\n",
    "                                     min_samples_split = top_params['min_samples_split'],\n",
    "                                     min_samples_leaf = top_params['min_samples_leaf'],\n",
    "                                     max_features = top_params['max_features'],\n",
    "                                     max_depth = top_params['max_depth'],\n",
    "                                     criterion = top_params['criterion'])\n",
    "model_forest.fit(features_train, target_train)\n",
    "feats = {}\n",
    "for feature, importance in zip(features.columns, model_forest.feature_importances_):\n",
    "    feats[feature] = importance\n",
    "importances = pd.DataFrame.from_dict(feats, orient='index').rename(columns={0: 'Gini-Importance'})\n",
    "importances = importances.sort_values(by='Gini-Importance', ascending=False)\n",
    "importances = importances.reset_index()\n",
    "importances = importances.rename(columns={'index': 'Features'})\n",
    "sns.set(font_scale = 5)\n",
    "sns.set(style=\"whitegrid\", color_codes=True, font_scale = 1.7)\n",
    "fig, ax = plt.subplots()\n",
    "fig.set_size_inches(30,15)\n",
    "sns.barplot(x=importances['Gini-Importance'], y=importances['Features'], data=importances, color='skyblue')\n",
    "plt.xlabel('Importance', fontsize=25, weight = 'bold')\n",
    "plt.ylabel('Features', fontsize=25, weight = 'bold')\n",
    "plt.title('Feature Importance', fontsize=25, weight = 'bold')\n",
    "plt.show()"
   ]
  },
  {
   "cell_type": "markdown",
   "metadata": {},
   "source": [
    "Как видно, самый важный признак - возраст клиента. За ним следуют: количество банковских продуктов, сумма на балансе счета, кредитный рейтинг, предполагаемая зарплата. Количество недвижимости у клиента не в топе признаков.\n",
    "\n",
    "**Вывод:** мы исследовали модели без учета дисбаланса классов, потому все модели показали не лучшие результаты - хорошо предсказывают отрицательный класс, но плохо - положительный. Из всех рассмотренных моделей лучшая - случайный лес, но и она не решает поставленную задачу. Далее рассмотрим несколько способов борьбы с дисбалансом, результаты должны улучшиться."
   ]
  },
  {
   "cell_type": "markdown",
   "metadata": {},
   "source": [
    "## 4. Борьба с дисбалансом"
   ]
  },
  {
   "cell_type": "markdown",
   "metadata": {},
   "source": [
    "Применим следующие способы борьбы с дисбалансом: взвешивание классов, увеличение выборки, уменьшение выборки."
   ]
  },
  {
   "cell_type": "markdown",
   "metadata": {},
   "source": [
    "### 4.1. Взвешивание классов"
   ]
  },
  {
   "cell_type": "markdown",
   "metadata": {},
   "source": [
    "Для каждой модели добавим параметр class_weight = 'balanced' и выполним переобучение."
   ]
  },
  {
   "cell_type": "markdown",
   "metadata": {},
   "source": [
    "### 4.1.1. Логистическая регрессия при взвешивании классов"
   ]
  },
  {
   "cell_type": "code",
   "execution_count": 38,
   "metadata": {},
   "outputs": [
    {
     "data": {
      "text/plain": [
       "{'C': 0.018781904770188262, 'penalty': 'l2'}"
      ]
     },
     "execution_count": 38,
     "metadata": {},
     "output_type": "execute_result"
    }
   ],
   "source": [
    "model_regress_balanced = LogisticRegression(solver='liblinear', class_weight='balanced', random_state=0)\n",
    "\n",
    "penalty = ['l1', 'l2']\n",
    "C = uniform(loc=0, scale=4)\n",
    "hyperparameters = dict(C=C, penalty=penalty)\n",
    "\n",
    "rs_regress_balanced = RandomizedSearchCV(model_regress_balanced, \n",
    "                        hyperparameters, \n",
    "                        n_iter = 100, \n",
    "                        cv = 5, \n",
    "                        verbose = 0, \n",
    "                        n_jobs= 1,\n",
    "                        random_state=0,\n",
    "                        scoring='f1')\n",
    "\n",
    "rs_regress_balanced.fit(features_train, target_train)\n",
    "rs_regress_balanced.best_params_"
   ]
  },
  {
   "cell_type": "markdown",
   "metadata": {},
   "source": [
    "Составим отчет о метриках:"
   ]
  },
  {
   "cell_type": "code",
   "execution_count": 39,
   "metadata": {},
   "outputs": [
    {
     "name": "stdout",
     "output_type": "stream",
     "text": [
      "              precision  recall  f1-score  support\n",
      "0                  0.91    0.73      0.81  1593.00\n",
      "1                  0.41    0.72      0.52   407.00\n",
      "accuracy           0.73    0.73      0.73     0.73\n",
      "macro avg          0.66    0.73      0.67  2000.00\n",
      "weighted avg       0.81    0.73      0.75  2000.00\n"
     ]
    }
   ],
   "source": [
    "predictions_regress_balanced = rs_regress_balanced.predict(features_valid)\n",
    "\n",
    "report_regress_balanced = classification_report(target_valid, predictions_regress_balanced, output_dict=True)\n",
    "report_regress_balanced = pd.DataFrame(report_regress_balanced).transpose()\n",
    "pd.set_option('display.float_format', '{:.2f}'.format)\n",
    "print(report_regress_balanced)"
   ]
  },
  {
   "cell_type": "markdown",
   "metadata": {},
   "source": [
    "Взглянем на матрицу ошибок:"
   ]
  },
  {
   "cell_type": "code",
   "execution_count": 40,
   "metadata": {},
   "outputs": [
    {
     "data": {
      "image/png": "[encoded data removed]",
      "text/plain": [
       "<Figure size 432x288 with 2 Axes>"
      ]
     },
     "metadata": {},
     "output_type": "display_data"
    }
   ],
   "source": [
    "df_cm_regress = pd.DataFrame(confusion_matrix(target_valid, predictions_tree))\n",
    "sns.set(font_scale=1)\n",
    "sns.heatmap(df_cm_regress, annot=True, cmap='YlGnBu', fmt='d', annot_kws={'fontsize':12})\n",
    "plt.title('Матрица ошибок лог.регрессии (взвешивание классов)', fontsize=14)\n",
    "plt.xlabel('Предсказания', fontsize=12)\n",
    "plt.ylabel('Ответы', fontsize=12)\n",
    "plt.show()"
   ]
  },
  {
   "cell_type": "markdown",
   "metadata": {},
   "source": [
    "У логистической регрессии метрика F1 значительно увеличилась. Модель стала луше предсказывать положительный класс, но переусердствует в присвоении FN. Точность снизилась."
   ]
  },
  {
   "cell_type": "markdown",
   "metadata": {},
   "source": [
    "### 4.1.2. Случайный лес при взвешивании классов"
   ]
  },
  {
   "cell_type": "code",
   "execution_count": 41,
   "metadata": {},
   "outputs": [
    {
     "data": {
      "text/plain": [
       "{'n_estimators': 35,\n",
       " 'min_samples_split': 12,\n",
       " 'min_samples_leaf': 1,\n",
       " 'max_features': 'sqrt',\n",
       " 'max_depth': 13,\n",
       " 'criterion': 'entropy'}"
      ]
     },
     "execution_count": 41,
     "metadata": {},
     "output_type": "execute_result"
    }
   ],
   "source": [
    "model_forest_balanced = RandomForestClassifier(random_state=0, class_weight='balanced')\n",
    "                                     \n",
    "n_estimators = [int(x) for x in np.linspace(start = 5, stop = 50, num = 10)]\n",
    "max_features = ['log2', 'sqrt']\n",
    "max_depth = [int(x) for x in np.linspace(start = 1, stop = 15, num = 15)]\n",
    "min_samples_split = [int(x) for x in np.linspace(start = 2, stop = 50, num = 10)]\n",
    "min_samples_leaf = [int(x) for x in np.linspace(start = 1, stop = 50, num = 10)]\n",
    "criterion = ['gini', 'entropy']\n",
    "\n",
    "param_dist = {'n_estimators': n_estimators,\n",
    "               'max_features': max_features,\n",
    "               'max_depth': max_depth,\n",
    "               'min_samples_split': min_samples_split,\n",
    "               'min_samples_leaf': min_samples_leaf,\n",
    "               'criterion': criterion}\n",
    "\n",
    "rs_forest_balanced = RandomizedSearchCV(model_forest_balanced,\n",
    "                               param_dist,\n",
    "                               n_iter = 100,\n",
    "                               cv = 3,\n",
    "                               verbose = 0, \n",
    "                               n_jobs= 1, \n",
    "                               random_state=0,\n",
    "                               scoring = 'f1')\n",
    "\n",
    "rs_forest_balanced.fit(features_train, target_train)\n",
    "rs_forest_balanced.best_params_                                "
   ]
  },
  {
   "cell_type": "markdown",
   "metadata": {},
   "source": [
    "Получим отчет о метриках:"
   ]
  },
  {
   "cell_type": "code",
   "execution_count": 42,
   "metadata": {},
   "outputs": [
    {
     "name": "stdout",
     "output_type": "stream",
     "text": [
      "              precision  recall  f1-score  support\n",
      "0                  0.91    0.90      0.91  1593.00\n",
      "1                  0.63    0.66      0.64   407.00\n",
      "accuracy           0.85    0.85      0.85     0.85\n",
      "macro avg          0.77    0.78      0.77  2000.00\n",
      "weighted avg       0.85    0.85      0.85  2000.00\n"
     ]
    }
   ],
   "source": [
    "predictions_forest_balanced = rs_forest_balanced.predict(features_valid)\n",
    "\n",
    "report_forest_balanced = classification_report(target_valid, predictions_forest_balanced, output_dict=True)\n",
    "report_forest_balanced = pd.DataFrame(report_forest_balanced).transpose()\n",
    "pd.set_option('display.float_format', '{:.2f}'.format)\n",
    "print(report_forest_balanced)"
   ]
  },
  {
   "cell_type": "code",
   "execution_count": 43,
   "metadata": {},
   "outputs": [
    {
     "data": {
      "image/png": "[encoded data removed]",
      "text/plain": [
       "<Figure size 432x288 with 2 Axes>"
      ]
     },
     "metadata": {},
     "output_type": "display_data"
    }
   ],
   "source": [
    "df_cm_forest_balanced = pd.DataFrame(confusion_matrix(target_valid, predictions_forest_balanced))\n",
    "sns.set(font_scale=1)\n",
    "sns.heatmap(df_cm_forest_balanced, annot=True, cmap='YlGnBu', fmt='d', annot_kws={'fontsize':12})\n",
    "plt.title('Матрица ошибок случ.леса (взвешивание классов)', fontsize=14)\n",
    "plt.xlabel('Предсказания', fontsize=12)\n",
    "plt.ylabel('Ответы', fontsize=12)\n",
    "plt.show()"
   ]
  },
  {
   "cell_type": "markdown",
   "metadata": {},
   "source": [
    "Неплохой результат. Метрика F1 увеличилась. Модель стала лучше стала предсказывать положительный класс, но не без ошибок. Увеличилась полнота, но снизилась точность."
   ]
  },
  {
   "cell_type": "markdown",
   "metadata": {},
   "source": [
    "### 4.1.3. Решающее дерево при взвешивании классов"
   ]
  },
  {
   "cell_type": "code",
   "execution_count": 44,
   "metadata": {},
   "outputs": [
    {
     "data": {
      "text/plain": [
       "{'splitter': 'random',\n",
       " 'min_samples_split': 2,\n",
       " 'min_samples_leaf': 11,\n",
       " 'max_features': 'sqrt',\n",
       " 'max_depth': 5,\n",
       " 'criterion': 'gini'}"
      ]
     },
     "execution_count": 44,
     "metadata": {},
     "output_type": "execute_result"
    }
   ],
   "source": [
    "model_tree_balanced = DecisionTreeClassifier(random_state=0, class_weight='balanced')\n",
    "                                     \n",
    "max_features = ['sqrt', 'log2']\n",
    "splitter = ['best', 'random']\n",
    "criterion = ['gini', 'entropy']\n",
    "max_depth = [int(x) for x in np.linspace(start = 1, stop = 15, num = 15)]\n",
    "min_samples_split = [int(x) for x in np.linspace(start = 2, stop = 50, num = 10)]\n",
    "min_samples_leaf = [int(x) for x in np.linspace(start = 1, stop = 50, num = 10)]\n",
    "\n",
    "param_dist = {'criterion': criterion,\n",
    "               'max_features': max_features,\n",
    "               'max_depth': max_depth,\n",
    "               'min_samples_split': min_samples_split,\n",
    "               'min_samples_leaf': min_samples_leaf,\n",
    "               'splitter': splitter}\n",
    "\n",
    "rs_tree_balanced = RandomizedSearchCV(model_tree_balanced, \n",
    "                        param_dist, \n",
    "                        n_iter = 100, \n",
    "                        cv = 3, \n",
    "                        verbose = 0, \n",
    "                        n_jobs= 1, \n",
    "                        random_state=0,\n",
    "                        scoring = 'f1')\n",
    "\n",
    "rs_tree_balanced.fit(features_train, target_train)\n",
    "rs_tree_balanced.best_params_                                "
   ]
  },
  {
   "cell_type": "code",
   "execution_count": 45,
   "metadata": {},
   "outputs": [
    {
     "name": "stdout",
     "output_type": "stream",
     "text": [
      "              precision  recall  f1-score  support\n",
      "0                  0.90    0.79      0.84  1593.00\n",
      "1                  0.45    0.67      0.54   407.00\n",
      "accuracy           0.77    0.77      0.77     0.77\n",
      "macro avg          0.68    0.73      0.69  2000.00\n",
      "weighted avg       0.81    0.77      0.78  2000.00\n"
     ]
    }
   ],
   "source": [
    "predictions_tree_balanced = rs_tree_balanced.predict(features_valid)\n",
    "\n",
    "report_tree_balanced = classification_report(target_valid, predictions_tree_balanced, output_dict=True)\n",
    "report_tree_balanced = pd.DataFrame(report_tree_balanced).transpose()\n",
    "pd.set_option('display.float_format', '{:.2f}'.format)\n",
    "print(report_tree_balanced)"
   ]
  },
  {
   "cell_type": "code",
   "execution_count": 46,
   "metadata": {},
   "outputs": [
    {
     "data": {
      "image/png": "[encoded data removed]",
      "text/plain": [
       "<Figure size 432x288 with 2 Axes>"
      ]
     },
     "metadata": {},
     "output_type": "display_data"
    }
   ],
   "source": [
    "df_cm_tree_balanced = pd.DataFrame(confusion_matrix(target_valid, predictions_tree_balanced))\n",
    "sns.set(font_scale=1)\n",
    "sns.heatmap(df_cm_tree_balanced, annot=True, cmap='YlGnBu', fmt='d', annot_kws={'fontsize':12})\n",
    "plt.title('Матрица ошибок реш.дерева (взвешивание классов)', fontsize=14)\n",
    "plt.xlabel('Предсказания', fontsize=12)\n",
    "plt.ylabel('Ответы', fontsize=12)\n",
    "plt.show()"
   ]
  },
  {
   "cell_type": "markdown",
   "metadata": {},
   "source": [
    "У решающего дерева метрика F1 увеличилась, но теперь модель стала переусердствовать в присвоении FP. Увеличилась полнота, но снизилась точность."
   ]
  },
  {
   "cell_type": "code",
   "execution_count": 47,
   "metadata": {},
   "outputs": [
    {
     "data": {
      "image/png": "[encoded data removed]",
      "text/plain": [
       "<Figure size 504x360 with 1 Axes>"
      ]
     },
     "metadata": {},
     "output_type": "display_data"
    }
   ],
   "source": [
    "fpr1, tpr1, thresholds1 = roc_curve(target_valid, rs_regress_balanced.predict_proba(features_valid)[:,1], pos_label=1)\n",
    "fpr2, tpr2, thresholds2 = roc_curve(target_valid, rs_forest_balanced.predict_proba(features_valid)[:,1], pos_label=1)\n",
    "fpr3, tpr3, thresholds3 = roc_curve(target_valid, rs_tree_balanced.predict_proba(features_valid)[:,1], pos_label=1)\n",
    "\n",
    "auc_regress_balanced = roc_auc_score(target_valid, rs_regress_balanced.predict_proba(features_valid)[:,1])\n",
    "auc_forest_balanced = roc_auc_score(target_valid, rs_forest_balanced.predict_proba(features_valid)[:,1])\n",
    "auc_tree_balanced = roc_auc_score(target_valid, rs_tree_balanced.predict_proba(features_valid)[:,1])\n",
    "\n",
    "lw=2\n",
    "fig, ax = plt.subplots(figsize=(7,5))\n",
    "ax.plot(fpr1, tpr1, lw=lw, label= 'LogisticRegression, AUC-ROC = %.2f' %auc_regress_balanced)\n",
    "ax.plot(fpr2, tpr2, lw=lw, label= 'RandomForest, AUC-ROC = %.2f' %auc_forest_balanced)\n",
    "ax.plot(fpr3, tpr3, lw=lw, label= 'DecisionTree, AUC-ROC = %.2f' %auc_tree_balanced)\n",
    "\n",
    "plt.title('ROC-кривые моделей (взвешивание классов)', fontsize=16)\n",
    "plt.legend(loc='lower right', prop={'size':12})\n",
    "plt.plot([0,1], [0,1])\n",
    "plt.xlim([0.0, 1.0])\n",
    "plt.xlabel('FPR', fontsize=16)\n",
    "plt.ylabel('TPR', fontsize=16)\n",
    "plt.ylim([0.0, 1.05])\n",
    "plt.tick_params(which='major', labelsize=14)\n",
    "plt.show()"
   ]
  },
  {
   "cell_type": "markdown",
   "metadata": {},
   "source": [
    "И снова в лидерах - случайный лес."
   ]
  },
  {
   "cell_type": "markdown",
   "metadata": {},
   "source": [
    "Составим сводный отчет метрик моделей после взвешивания классов."
   ]
  },
  {
   "cell_type": "code",
   "execution_count": 48,
   "metadata": {},
   "outputs": [
    {
     "name": "stdout",
     "output_type": "stream",
     "text": [
      "                         accuracy  precision  recall   F1  AUC-ROC\n",
      "Логистическая регрессия      0.73       0.41    0.72 0.52     0.79\n",
      "Случайный лес                0.85       0.63    0.66 0.64     0.86\n",
      "Решающее дерево              0.77       0.45    0.67 0.54     0.80\n"
     ]
    }
   ],
   "source": [
    "data = {'accuracy':[report_regress_balanced.loc['accuracy', 'support'], report_forest_balanced.loc['accuracy', 'support'], report_tree_balanced.loc['accuracy', 'support']],\n",
    "        'precision':[report_regress_balanced.loc['1', 'precision'], report_forest_balanced.loc['1', 'precision'], report_tree_balanced.loc['1', 'precision']],\n",
    "        'recall':[report_regress_balanced.loc['1', 'recall'], report_forest_balanced.loc['1', 'recall'], report_tree_balanced.loc['1', 'recall']],\n",
    "        'F1':[report_regress_balanced.loc['1', 'f1-score'], report_forest_balanced.loc['1', 'f1-score'], report_tree_balanced.loc['1', 'f1-score']],\n",
    "       'AUC-ROC': [auc_regress_balanced, auc_forest_balanced, auc_tree_balanced]}\n",
    "\n",
    "table_compare = pd.DataFrame(data)\n",
    "\n",
    "table_compare.index = ['Логистическая регрессия', 'Случайный лес', 'Решающее дерево']\n",
    "print(table_compare)"
   ]
  },
  {
   "cell_type": "markdown",
   "metadata": {},
   "source": [
    "По совокупности метрик лучшим снова получается случайный лес. \n",
    "\n",
    "Теперь применим методы увеличения и уменьшения выборок."
   ]
  },
  {
   "cell_type": "markdown",
   "metadata": {},
   "source": [
    "### 4.2. Увеличение выборки"
   ]
  },
  {
   "cell_type": "markdown",
   "metadata": {},
   "source": [
    "Для увеличения выборки воспользуемся техникой Upsampling: разделим обучающую выборку на положительные и отрицательные объекты, несколько раз скопируем положительные объекты, создадим новую выборку с учетом скопированных данных и выполним перемешивание."
   ]
  },
  {
   "cell_type": "code",
   "execution_count": 49,
   "metadata": {},
   "outputs": [],
   "source": [
    "def upsample(features, target, repeat):\n",
    "    features_zeros = features[target == 0]\n",
    "    features_ones = features[target == 1]\n",
    "    target_zeros = target[target == 0]\n",
    "    target_ones = target[target == 1]\n",
    "\n",
    "    features_upsampled = pd.concat([features_zeros] + [features_ones] * repeat)\n",
    "    target_upsampled = pd.concat([target_zeros] + [target_ones] * repeat)\n",
    "    \n",
    "    features_upsampled, target_upsampled = shuffle(\n",
    "        features_upsampled, target_upsampled, random_state=12345)\n",
    "    \n",
    "    return features_upsampled, target_upsampled\n",
    "\n",
    "features_upsampled, target_upsampled = upsample(features_train, target_train, 4)"
   ]
  },
  {
   "cell_type": "markdown",
   "metadata": {},
   "source": [
    "Целевой признак до увеличения выборки:"
   ]
  },
  {
   "cell_type": "code",
   "execution_count": 50,
   "metadata": {},
   "outputs": [
    {
     "data": {
      "text/plain": [
       "0    4777\n",
       "1    1223\n",
       "Name: exited, dtype: int64"
      ]
     },
     "execution_count": 50,
     "metadata": {},
     "output_type": "execute_result"
    }
   ],
   "source": [
    "target_train.value_counts()"
   ]
  },
  {
   "cell_type": "markdown",
   "metadata": {},
   "source": [
    "Целевой признак после увеличения выборки:"
   ]
  },
  {
   "cell_type": "code",
   "execution_count": 51,
   "metadata": {},
   "outputs": [
    {
     "data": {
      "text/plain": [
       "1    4892\n",
       "0    4777\n",
       "Name: exited, dtype: int64"
      ]
     },
     "execution_count": 51,
     "metadata": {},
     "output_type": "execute_result"
    }
   ],
   "source": [
    "target_upsampled.value_counts()"
   ]
  },
  {
   "cell_type": "markdown",
   "metadata": {},
   "source": [
    "### 4.2.1. Логистическая регрессия при увеличении выборки"
   ]
  },
  {
   "cell_type": "code",
   "execution_count": 52,
   "metadata": {},
   "outputs": [
    {
     "data": {
      "text/plain": [
       "{'C': 0.018781904770188262, 'penalty': 'l2'}"
      ]
     },
     "execution_count": 52,
     "metadata": {},
     "output_type": "execute_result"
    }
   ],
   "source": [
    "model_regress_up = LogisticRegression(solver='liblinear', random_state=0)\n",
    "\n",
    "penalty = ['l1', 'l2']\n",
    "C = uniform(loc=0, scale=4)\n",
    "hyperparameters = dict(C=C, penalty=penalty)\n",
    "\n",
    "rs_regress_up = RandomizedSearchCV(model_regress_up, \n",
    "                        hyperparameters, \n",
    "                        n_iter = 100, \n",
    "                        cv = 5, \n",
    "                        verbose = 0, \n",
    "                        n_jobs= 1,\n",
    "                        random_state=0,\n",
    "                        scoring='f1')\n",
    "rs_regress_up.fit(features_upsampled, target_upsampled)\n",
    "rs_regress_up.best_params_"
   ]
  },
  {
   "cell_type": "code",
   "execution_count": 53,
   "metadata": {},
   "outputs": [
    {
     "name": "stdout",
     "output_type": "stream",
     "text": [
      "              precision  recall  f1-score  support\n",
      "0                  0.91    0.72      0.80  1593.00\n",
      "1                  0.40    0.73      0.52   407.00\n",
      "accuracy           0.72    0.72      0.72     0.72\n",
      "macro avg          0.66    0.73      0.66  2000.00\n",
      "weighted avg       0.81    0.72      0.74  2000.00\n"
     ]
    }
   ],
   "source": [
    "predictions_regress_up = rs_regress_up.predict(features_valid)\n",
    "\n",
    "report_regress_up = classification_report(target_valid, predictions_regress_up, output_dict=True)\n",
    "report_regress_up = pd.DataFrame(report_regress_up).transpose()\n",
    "pd.set_option('display.float_format', '{:.2f}'.format)\n",
    "print(report_regress_up)"
   ]
  },
  {
   "cell_type": "code",
   "execution_count": 54,
   "metadata": {},
   "outputs": [
    {
     "data": {
      "image/png": "[encoded data removed]",
      "text/plain": [
       "<Figure size 432x288 with 2 Axes>"
      ]
     },
     "metadata": {},
     "output_type": "display_data"
    }
   ],
   "source": [
    "df_cm_regress_up = pd.DataFrame(confusion_matrix(target_valid, predictions_regress_up))\n",
    "sns.set(font_scale=1)\n",
    "sns.heatmap(df_cm_regress_up, annot=True, cmap='YlGnBu', fmt='d', annot_kws={'fontsize':12})\n",
    "plt.title('Матрица ошибок лог. регрессии (увеличение выборки)', fontsize=14)\n",
    "plt.xlabel('Предсказания', fontsize=12)\n",
    "plt.ylabel('Ответы', fontsize=12)\n",
    "plt.show()"
   ]
  },
  {
   "cell_type": "markdown",
   "metadata": {},
   "source": [
    "При увеличении выборки логистическая регрессия стала очень много клиентов записывать в уходящие."
   ]
  },
  {
   "cell_type": "markdown",
   "metadata": {},
   "source": [
    "### 4.2.2. Случайный лес при увеличении выборки"
   ]
  },
  {
   "cell_type": "code",
   "execution_count": 55,
   "metadata": {},
   "outputs": [
    {
     "data": {
      "text/plain": [
       "{'n_estimators': 35,\n",
       " 'min_samples_split': 12,\n",
       " 'min_samples_leaf': 1,\n",
       " 'max_features': 'sqrt',\n",
       " 'max_depth': 13,\n",
       " 'criterion': 'entropy'}"
      ]
     },
     "execution_count": 55,
     "metadata": {},
     "output_type": "execute_result"
    }
   ],
   "source": [
    "model_forest_up = RandomForestClassifier(random_state=0)\n",
    "                                     \n",
    "n_estimators = [int(x) for x in np.linspace(start = 5, stop = 50, num = 10)]\n",
    "max_features = ['log2', 'sqrt']\n",
    "max_depth = [int(x) for x in np.linspace(start = 1, stop = 15, num = 15)]\n",
    "min_samples_split = [int(x) for x in np.linspace(start = 2, stop = 50, num = 10)]\n",
    "min_samples_leaf = [int(x) for x in np.linspace(start = 1, stop = 50, num = 10)]\n",
    "criterion = ['gini', 'entropy']\n",
    "\n",
    "param_dist = {'n_estimators': n_estimators,\n",
    "               'max_features': max_features,\n",
    "               'max_depth': max_depth,\n",
    "               'min_samples_split': min_samples_split,\n",
    "               'min_samples_leaf': min_samples_leaf,\n",
    "               'criterion': criterion}\n",
    "\n",
    "rs_forest_up = RandomizedSearchCV(model_forest_up,\n",
    "                               param_dist,\n",
    "                               n_iter = 100,\n",
    "                               cv = 3,\n",
    "                               verbose = 0, \n",
    "                               n_jobs= 1, \n",
    "                               random_state=0,\n",
    "                               scoring='f1')\n",
    "\n",
    "rs_forest_up.fit(features_upsampled, target_upsampled)\n",
    "rs_forest_up.best_params_"
   ]
  },
  {
   "cell_type": "code",
   "execution_count": 56,
   "metadata": {},
   "outputs": [
    {
     "name": "stdout",
     "output_type": "stream",
     "text": [
      "              precision  recall  f1-score  support\n",
      "0                  0.91    0.88      0.90  1593.00\n",
      "1                  0.59    0.68      0.63   407.00\n",
      "accuracy           0.84    0.84      0.84     0.84\n",
      "macro avg          0.75    0.78      0.76  2000.00\n",
      "weighted avg       0.85    0.84      0.84  2000.00\n"
     ]
    }
   ],
   "source": [
    "predictions_forest_up = rs_forest_up.predict(features_valid)\n",
    "\n",
    "report_forest_up = classification_report(target_valid, predictions_forest_up, output_dict=True)\n",
    "report_forest_up = pd.DataFrame(report_forest_up).transpose()\n",
    "\n",
    "print(report_forest_up)"
   ]
  },
  {
   "cell_type": "code",
   "execution_count": 57,
   "metadata": {},
   "outputs": [
    {
     "data": {
      "image/png": "[encoded data removed]",
      "text/plain": [
       "<Figure size 432x288 with 2 Axes>"
      ]
     },
     "metadata": {},
     "output_type": "display_data"
    }
   ],
   "source": [
    "df_cm_forest_up = pd.DataFrame(confusion_matrix(target_valid, predictions_forest_up))\n",
    "sns.set(font_scale=1)\n",
    "sns.heatmap(df_cm_forest_up, annot=True, cmap='YlGnBu', fmt='d', annot_kws={'fontsize':12})\n",
    "plt.title('Матрица ошибок случ. леса (увеличение выборки)', fontsize=14)\n",
    "plt.xlabel('Предсказания', fontsize=12)\n",
    "plt.ylabel('Ответы', fontsize=12)\n",
    "plt.show()"
   ]
  },
  {
   "cell_type": "markdown",
   "metadata": {},
   "source": [
    "Случайный лес немного полуше разобрался в данных, но все-таки много клиентов записывает в уходящие."
   ]
  },
  {
   "cell_type": "markdown",
   "metadata": {},
   "source": [
    "### 4.2.3. Решающее дерево при увеличении выборки"
   ]
  },
  {
   "cell_type": "code",
   "execution_count": 58,
   "metadata": {},
   "outputs": [
    {
     "data": {
      "text/plain": [
       "{'splitter': 'best',\n",
       " 'min_samples_split': 2,\n",
       " 'min_samples_leaf': 6,\n",
       " 'max_features': 'sqrt',\n",
       " 'max_depth': 12,\n",
       " 'criterion': 'gini'}"
      ]
     },
     "execution_count": 58,
     "metadata": {},
     "output_type": "execute_result"
    }
   ],
   "source": [
    "model_tree_up = DecisionTreeClassifier(random_state=0)\n",
    "                                     \n",
    "max_features = ['sqrt', 'log2']\n",
    "splitter = ['best', 'random']\n",
    "criterion = ['gini', 'entropy']\n",
    "max_depth = [int(x) for x in np.linspace(start = 1, stop = 15, num = 15)]\n",
    "min_samples_split = [int(x) for x in np.linspace(start = 2, stop = 50, num = 10)]\n",
    "min_samples_leaf = [int(x) for x in np.linspace(start = 1, stop = 50, num = 10)]\n",
    "\n",
    "param_dist = {'criterion': criterion,\n",
    "               'max_features': max_features,\n",
    "               'max_depth': max_depth,\n",
    "               'min_samples_split': min_samples_split,\n",
    "               'min_samples_leaf': min_samples_leaf,\n",
    "               'splitter': splitter}\n",
    "\n",
    "rs_tree_up = RandomizedSearchCV(model_tree_up, \n",
    "                        param_dist, \n",
    "                        n_iter = 100, \n",
    "                        cv = 3, \n",
    "                        verbose = 0, \n",
    "                        n_jobs= 1, \n",
    "                        random_state=0,\n",
    "                        scoring='f1')\n",
    "\n",
    "rs_tree_up.fit(features_upsampled, target_upsampled)\n",
    "rs_tree_up.best_params_                                "
   ]
  },
  {
   "cell_type": "code",
   "execution_count": 59,
   "metadata": {},
   "outputs": [
    {
     "name": "stdout",
     "output_type": "stream",
     "text": [
      "              precision  recall  f1-score  support\n",
      "0                  0.91    0.77      0.83  1593.00\n",
      "1                  0.43    0.70      0.53   407.00\n",
      "accuracy           0.75    0.75      0.75     0.75\n",
      "macro avg          0.67    0.73      0.68  2000.00\n",
      "weighted avg       0.81    0.75      0.77  2000.00\n"
     ]
    }
   ],
   "source": [
    "predictions_tree_up = rs_tree_up.predict(features_valid)\n",
    "\n",
    "report_tree_up = classification_report(target_valid, predictions_tree_up, output_dict=True)\n",
    "report_tree_up = pd.DataFrame(report_tree_up).transpose()\n",
    "\n",
    "print(report_tree_up)"
   ]
  },
  {
   "cell_type": "code",
   "execution_count": 60,
   "metadata": {},
   "outputs": [
    {
     "data": {
      "image/png": "[encoded data removed]",
      "text/plain": [
       "<Figure size 432x288 with 2 Axes>"
      ]
     },
     "metadata": {},
     "output_type": "display_data"
    }
   ],
   "source": [
    "df_cm_tree_up = pd.DataFrame(confusion_matrix(target_valid, predictions_tree_up))\n",
    "sns.set(font_scale=1)\n",
    "sns.heatmap(df_cm_tree_up, annot=True, cmap='YlGnBu', fmt='d', annot_kws={'fontsize':12})\n",
    "plt.title('Матрица ошибок реш. дерева (увеличение выборки)', fontsize=14)\n",
    "plt.xlabel('Предсказания', fontsize=12)\n",
    "plt.ylabel('Ответы', fontsize=12)\n",
    "plt.show()"
   ]
  },
  {
   "cell_type": "markdown",
   "metadata": {},
   "source": [
    "У решающего дерева при увеличении выборки также выпосла доля FP.\n",
    "\n",
    "Взглянем на ROC-кривые и посчитаем метрику ROC-AUC:"
   ]
  },
  {
   "cell_type": "code",
   "execution_count": 61,
   "metadata": {},
   "outputs": [
    {
     "data": {
      "image/png": "[encoded data removed]",
      "text/plain": [
       "<Figure size 504x360 with 1 Axes>"
      ]
     },
     "metadata": {},
     "output_type": "display_data"
    }
   ],
   "source": [
    "fpr1, tpr1, thresholds1 = roc_curve(target_valid, rs_regress_up.predict_proba(features_valid)[:,1], pos_label=1)\n",
    "fpr2, tpr2, thresholds2 = roc_curve(target_valid, rs_forest_up.predict_proba(features_valid)[:,1], pos_label=1)\n",
    "fpr3, tpr3, thresholds3 = roc_curve(target_valid, rs_tree_up.predict_proba(features_valid)[:,1], pos_label=1)\n",
    "\n",
    "auc_regress_up = roc_auc_score(target_valid, rs_regress_up.predict_proba(features_valid)[:,1])\n",
    "auc_forest_up = roc_auc_score(target_valid, rs_forest_up.predict_proba(features_valid)[:,1])\n",
    "auc_tree_up = roc_auc_score(target_valid, rs_tree_up.predict_proba(features_valid)[:,1])\n",
    "\n",
    "lw=2\n",
    "fig, ax = plt.subplots(figsize=(7,5))\n",
    "ax.plot(fpr1, tpr1, lw=lw, label= 'LogisticRegression, AUC-ROC = %.2f' %auc_regress_up)\n",
    "ax.plot(fpr2, tpr2, lw=lw, label= 'RandomForest, AUC-ROC = %.2f' %auc_forest_up)\n",
    "ax.plot(fpr3, tpr3, lw=lw, label= 'DecisionTree, AUC-ROC = %.2f' %auc_tree_up)\n",
    "\n",
    "plt.title('ROC-кривые моделей (увеличение выборки)', fontsize=16)\n",
    "plt.legend(loc='lower right', prop={'size':12})\n",
    "plt.plot([0,1], [0,1])\n",
    "plt.xlim([0.0, 1.0])\n",
    "plt.xlabel('FPR', fontsize=16)\n",
    "plt.ylabel('TPR', fontsize=16)\n",
    "plt.ylim([0.0, 1.05])\n",
    "plt.tick_params(which='major', labelsize=14)\n",
    "plt.show()"
   ]
  },
  {
   "cell_type": "code",
   "execution_count": 62,
   "metadata": {},
   "outputs": [
    {
     "name": "stdout",
     "output_type": "stream",
     "text": [
      "                         accuracy  precision  recall   F1  AUC-ROC\n",
      "Логистическая регрессия      0.72       0.40    0.73 0.52     0.79\n",
      "Случайный лес                0.84       0.59    0.68 0.63     0.86\n",
      "Решающее дерево              0.75       0.43    0.70 0.53     0.79\n"
     ]
    }
   ],
   "source": [
    "data = {'accuracy':[report_regress_up.loc['accuracy', 'support'], report_forest_up.loc['accuracy', 'support'], report_tree_up.loc['accuracy', 'support']],\n",
    "        'precision':[report_regress_up.loc['1', 'precision'], report_forest_up.loc['1', 'precision'], report_tree_up.loc['1', 'precision']],\n",
    "        'recall':[report_regress_up.loc['1', 'recall'], report_forest_up.loc['1', 'recall'], report_tree_up.loc['1', 'recall']],\n",
    "        'F1':[report_regress_up.loc['1', 'f1-score'], report_forest_up.loc['1', 'f1-score'], report_tree_up.loc['1', 'f1-score']],\n",
    "       'AUC-ROC': [auc_regress_up, auc_forest_up, auc_tree_up]}\n",
    "\n",
    "table_compare = pd.DataFrame(data)\n",
    "\n",
    "table_compare.index = ['Логистическая регрессия', 'Случайный лес', 'Решающее дерево']\n",
    "print(table_compare)"
   ]
  },
  {
   "cell_type": "markdown",
   "metadata": {},
   "source": [
    "И снова по совокупности метрик побеждает случайный лес."
   ]
  },
  {
   "cell_type": "markdown",
   "metadata": {},
   "source": [
    "### 4.3. Уменьшение выборки"
   ]
  },
  {
   "cell_type": "markdown",
   "metadata": {},
   "source": [
    "Воспользуемся методом уменьшения выборки Downsampling: разделим обучающую выборку на положительные и отрицательные объекты, случайным образом отбросим часть отрицательных объектов, создадим новую обучающую выборку и выполним перемешивание."
   ]
  },
  {
   "cell_type": "code",
   "execution_count": 63,
   "metadata": {},
   "outputs": [],
   "source": [
    "def downsample(features, target, fraction):\n",
    "    features_zeros = features[target == 0]\n",
    "    features_ones = features[target == 1]\n",
    "    target_zeros = target[target == 0]\n",
    "    target_ones = target[target == 1]\n",
    "\n",
    "    features_downsampled = pd.concat(\n",
    "        [features_zeros.sample(frac=fraction, random_state=12345)] + [features_ones])\n",
    "    target_downsampled = pd.concat(\n",
    "        [target_zeros.sample(frac=fraction, random_state=12345)] + [target_ones])\n",
    "    \n",
    "    features_downsampled, target_downsampled = shuffle(\n",
    "        features_downsampled, target_downsampled, random_state=12345)\n",
    "    \n",
    "    return features_downsampled, target_downsampled\n",
    "\n",
    "features_downsampled, target_downsampled = downsample(features_train, target_train, 0.27)"
   ]
  },
  {
   "cell_type": "markdown",
   "metadata": {},
   "source": [
    "Целевой признак до уменьшения выборки:"
   ]
  },
  {
   "cell_type": "code",
   "execution_count": 64,
   "metadata": {},
   "outputs": [
    {
     "data": {
      "text/plain": [
       "0    4777\n",
       "1    1223\n",
       "Name: exited, dtype: int64"
      ]
     },
     "execution_count": 64,
     "metadata": {},
     "output_type": "execute_result"
    }
   ],
   "source": [
    "target_train.value_counts()"
   ]
  },
  {
   "cell_type": "markdown",
   "metadata": {},
   "source": [
    "Целевой признак после уменьшения выборки:"
   ]
  },
  {
   "cell_type": "code",
   "execution_count": 65,
   "metadata": {},
   "outputs": [
    {
     "data": {
      "text/plain": [
       "0    1290\n",
       "1    1223\n",
       "Name: exited, dtype: int64"
      ]
     },
     "execution_count": 65,
     "metadata": {},
     "output_type": "execute_result"
    }
   ],
   "source": [
    "target_downsampled.value_counts()"
   ]
  },
  {
   "cell_type": "markdown",
   "metadata": {},
   "source": [
    "### 4.3.1. Логистическая регрессия при уменьшении выборки"
   ]
  },
  {
   "cell_type": "code",
   "execution_count": 66,
   "metadata": {},
   "outputs": [
    {
     "data": {
      "text/plain": [
       "{'C': 0.1345003739953281, 'penalty': 'l1'}"
      ]
     },
     "execution_count": 66,
     "metadata": {},
     "output_type": "execute_result"
    }
   ],
   "source": [
    "model_regress_down = LogisticRegression(solver='liblinear', random_state=0)\n",
    "\n",
    "penalty = ['l1', 'l2']\n",
    "C = uniform(loc=0, scale=4)\n",
    "hyperparameters = dict(C=C, penalty=penalty)\n",
    "\n",
    "rs_regress_down = RandomizedSearchCV(model_regress_down, \n",
    "                        hyperparameters, \n",
    "                        n_iter = 100, \n",
    "                        cv = 5, \n",
    "                        verbose = 0, \n",
    "                        n_jobs= 1,\n",
    "                        random_state=0,\n",
    "                        scoring='f1')\n",
    "\n",
    "rs_regress_down.fit(features_downsampled, target_downsampled)\n",
    "rs_regress_down.best_params_"
   ]
  },
  {
   "cell_type": "code",
   "execution_count": 67,
   "metadata": {},
   "outputs": [
    {
     "name": "stdout",
     "output_type": "stream",
     "text": [
      "              precision  recall  f1-score  support\n",
      "0                  0.91    0.74      0.81  1593.00\n",
      "1                  0.41    0.70      0.51   407.00\n",
      "accuracy           0.73    0.73      0.73     0.73\n",
      "macro avg          0.66    0.72      0.66  2000.00\n",
      "weighted avg       0.80    0.73      0.75  2000.00\n"
     ]
    }
   ],
   "source": [
    "predictions_regress_down = rs_regress_down.predict(features_valid)\n",
    "\n",
    "report_regress_down = classification_report(target_valid, predictions_regress_down, output_dict=True)\n",
    "report_regress_down = pd.DataFrame(report_regress_down).transpose()\n",
    "\n",
    "print(report_regress_down)"
   ]
  },
  {
   "cell_type": "code",
   "execution_count": 68,
   "metadata": {},
   "outputs": [
    {
     "data": {
      "image/png": "[encoded data removed]",
      "text/plain": [
       "<Figure size 432x288 with 2 Axes>"
      ]
     },
     "metadata": {},
     "output_type": "display_data"
    }
   ],
   "source": [
    "df_cm_regress_down = pd.DataFrame(confusion_matrix(target_valid, predictions_regress_down))\n",
    "sns.set(font_scale=1)\n",
    "sns.heatmap(df_cm_regress_down, annot=True, cmap='YlGnBu', fmt='d', annot_kws={'fontsize':12})\n",
    "plt.title('Матрица ошибок лог. регрессии (уменьшение выборки)', fontsize=14)\n",
    "plt.xlabel('Предсказания', fontsize=12)\n",
    "plt.ylabel('Ответы', fontsize=12)\n",
    "plt.show()"
   ]
  },
  {
   "cell_type": "markdown",
   "metadata": {},
   "source": [
    "Логистическая регрессия стала меньше ошибаться, доля FP стала меньше. Но до решения поставленной задачи далеко."
   ]
  },
  {
   "cell_type": "markdown",
   "metadata": {},
   "source": [
    "### 4.3.2. Случайный лес при уменьшении выборки"
   ]
  },
  {
   "cell_type": "code",
   "execution_count": 69,
   "metadata": {},
   "outputs": [
    {
     "data": {
      "text/plain": [
       "{'n_estimators': 30,\n",
       " 'min_samples_split': 23,\n",
       " 'min_samples_leaf': 1,\n",
       " 'max_features': 'sqrt',\n",
       " 'max_depth': 15,\n",
       " 'criterion': 'entropy'}"
      ]
     },
     "execution_count": 69,
     "metadata": {},
     "output_type": "execute_result"
    }
   ],
   "source": [
    "model_forest_down = RandomForestClassifier(random_state=0)\n",
    "                                     \n",
    "n_estimators = [int(x) for x in np.linspace(start = 5, stop = 50, num = 10)]\n",
    "max_features = ['log2', 'sqrt']\n",
    "max_depth = [int(x) for x in np.linspace(start = 1, stop = 15, num = 15)]\n",
    "min_samples_split = [int(x) for x in np.linspace(start = 2, stop = 50, num = 10)]\n",
    "min_samples_leaf = [int(x) for x in np.linspace(start = 1, stop = 50, num = 10)]\n",
    "criterion = ['gini', 'entropy']\n",
    "\n",
    "param_dist = {'n_estimators': n_estimators,\n",
    "               'max_features': max_features,\n",
    "               'max_depth': max_depth,\n",
    "               'min_samples_split': min_samples_split,\n",
    "               'min_samples_leaf': min_samples_leaf,\n",
    "               'criterion': criterion}\n",
    "\n",
    "rs_forest_down = RandomizedSearchCV(model_forest_down,\n",
    "                               param_dist,\n",
    "                               n_iter = 100,\n",
    "                               cv = 3,\n",
    "                               verbose = 0, \n",
    "                               n_jobs= 1, \n",
    "                               random_state=0,\n",
    "                               scoring='f1')\n",
    "\n",
    "rs_forest_down.fit(features_downsampled, target_downsampled)\n",
    "rs_forest_down.best_params_"
   ]
  },
  {
   "cell_type": "code",
   "execution_count": 70,
   "metadata": {},
   "outputs": [
    {
     "name": "stdout",
     "output_type": "stream",
     "text": [
      "              precision  recall  f1-score  support\n",
      "0                  0.93    0.82      0.87  1593.00\n",
      "1                  0.52    0.76      0.62   407.00\n",
      "accuracy           0.81    0.81      0.81     0.81\n",
      "macro avg          0.72    0.79      0.74  2000.00\n",
      "weighted avg       0.85    0.81      0.82  2000.00\n"
     ]
    }
   ],
   "source": [
    "predictions_forest_down = rs_forest_down.predict(features_valid)\n",
    "\n",
    "report_forest_down = classification_report(target_valid, predictions_forest_down, output_dict=True)\n",
    "report_forest_down = pd.DataFrame(report_forest_down).transpose()\n",
    "\n",
    "print(report_forest_down)"
   ]
  },
  {
   "cell_type": "code",
   "execution_count": 71,
   "metadata": {},
   "outputs": [
    {
     "data": {
      "image/png": "[encoded data removed]",
      "text/plain": [
       "<Figure size 432x288 with 2 Axes>"
      ]
     },
     "metadata": {},
     "output_type": "display_data"
    }
   ],
   "source": [
    "df_cm_forest_down = pd.DataFrame(confusion_matrix(target_valid, predictions_forest_down))\n",
    "sns.set(font_scale=1)\n",
    "sns.heatmap(df_cm_forest_down, annot=True, cmap='YlGnBu', fmt='d', annot_kws={'fontsize':12})\n",
    "plt.title('Матрица ошибок случ. леса (уменьшение выборки)', fontsize=14)\n",
    "plt.xlabel('Предсказания', fontsize=12)\n",
    "plt.ylabel('Ответы', fontsize=12)\n",
    "plt.show()"
   ]
  },
  {
   "cell_type": "markdown",
   "metadata": {},
   "source": [
    "Уменьшение выборки увеличило полноту случайного леса, потому модель стала больше присваивать FP."
   ]
  },
  {
   "cell_type": "markdown",
   "metadata": {},
   "source": [
    "### 4.3.3. Решающее дерево при уменьшении выборки"
   ]
  },
  {
   "cell_type": "code",
   "execution_count": 72,
   "metadata": {},
   "outputs": [
    {
     "data": {
      "text/plain": [
       "{'splitter': 'best',\n",
       " 'min_samples_split': 7,\n",
       " 'min_samples_leaf': 6,\n",
       " 'max_features': 'log2',\n",
       " 'max_depth': 7,\n",
       " 'criterion': 'entropy'}"
      ]
     },
     "execution_count": 72,
     "metadata": {},
     "output_type": "execute_result"
    }
   ],
   "source": [
    "model_tree_down = DecisionTreeClassifier(random_state=0)\n",
    "                                     \n",
    "max_features = ['sqrt', 'log2']\n",
    "splitter = ['best', 'random']\n",
    "criterion = ['gini', 'entropy']\n",
    "max_depth = [int(x) for x in np.linspace(start = 1, stop = 15, num = 15)]\n",
    "min_samples_split = [int(x) for x in np.linspace(start = 2, stop = 50, num = 10)]\n",
    "min_samples_leaf = [int(x) for x in np.linspace(start = 1, stop = 50, num = 10)]\n",
    "\n",
    "param_dist = {'criterion': criterion,\n",
    "               'max_features': max_features,\n",
    "               'max_depth': max_depth,\n",
    "               'min_samples_split': min_samples_split,\n",
    "               'min_samples_leaf': min_samples_leaf,\n",
    "               'splitter': splitter}\n",
    "\n",
    "rs_tree_down = RandomizedSearchCV(model_tree_down, \n",
    "                        param_dist, \n",
    "                        n_iter = 100, \n",
    "                        cv = 3, \n",
    "                        verbose = 0, \n",
    "                        n_jobs= 1,\n",
    "                        random_state=0,\n",
    "                        scoring='f1')\n",
    "\n",
    "rs_tree_down.fit(features_downsampled, target_downsampled)\n",
    "rs_tree_down.best_params_                                "
   ]
  },
  {
   "cell_type": "code",
   "execution_count": 73,
   "metadata": {},
   "outputs": [
    {
     "name": "stdout",
     "output_type": "stream",
     "text": [
      "              precision  recall  f1-score  support\n",
      "0                  0.92    0.74      0.82  1593.00\n",
      "1                  0.43    0.74      0.54   407.00\n",
      "accuracy           0.74    0.74      0.74     0.74\n",
      "macro avg          0.67    0.74      0.68  2000.00\n",
      "weighted avg       0.82    0.74      0.77  2000.00\n"
     ]
    }
   ],
   "source": [
    "predictions_tree_down = rs_tree_down.predict(features_valid)\n",
    "\n",
    "report_tree_down = classification_report(target_valid, predictions_tree_down, output_dict=True)\n",
    "report_tree_down = pd.DataFrame(report_tree_down).transpose()\n",
    "\n",
    "print(report_tree_down)"
   ]
  },
  {
   "cell_type": "code",
   "execution_count": 74,
   "metadata": {},
   "outputs": [
    {
     "data": {
      "image/png": "[encoded data removed]",
      "text/plain": [
       "<Figure size 432x288 with 2 Axes>"
      ]
     },
     "metadata": {},
     "output_type": "display_data"
    }
   ],
   "source": [
    "df_cm_tree_down = pd.DataFrame(confusion_matrix(target_valid, predictions_tree_down))\n",
    "sns.set(font_scale=1)\n",
    "sns.heatmap(df_cm_tree_down, annot=True, cmap='YlGnBu', fmt='d', annot_kws={'fontsize':12})\n",
    "plt.title('Матрица ошибок реш. дерева (уменьшение выборки)', fontsize=14)\n",
    "plt.xlabel('Предсказания', fontsize=12)\n",
    "plt.ylabel('Ответы', fontsize=12)\n",
    "plt.show()"
   ]
  },
  {
   "cell_type": "markdown",
   "metadata": {},
   "source": [
    "И снова сыграла роль увеличенная полнота - много FP. Взглянем на ROC-кривые:"
   ]
  },
  {
   "cell_type": "code",
   "execution_count": 75,
   "metadata": {},
   "outputs": [
    {
     "data": {
      "image/png": "[encoded data removed]",
      "text/plain": [
       "<Figure size 504x360 with 1 Axes>"
      ]
     },
     "metadata": {},
     "output_type": "display_data"
    }
   ],
   "source": [
    "fpr1, tpr1, thresholds1 = roc_curve(target_valid, rs_regress_down.predict_proba(features_valid)[:,1], pos_label=1)\n",
    "fpr2, tpr2, thresholds2 = roc_curve(target_valid, rs_forest_down.predict_proba(features_valid)[:,1], pos_label=1)\n",
    "fpr3, tpr3, thresholds3 = roc_curve(target_valid, rs_tree_down.predict_proba(features_valid)[:,1], pos_label=1)\n",
    "\n",
    "auc_regress_down = roc_auc_score(target_valid, rs_regress_down.predict_proba(features_valid)[:,1])\n",
    "auc_forest_down = roc_auc_score(target_valid, rs_forest_down.predict_proba(features_valid)[:,1])\n",
    "auc_tree_down = roc_auc_score(target_valid, rs_tree_down.predict_proba(features_valid)[:,1])\n",
    "\n",
    "lw=2\n",
    "fig, ax = plt.subplots(figsize=(7,5))\n",
    "ax.plot(fpr1, tpr1, lw=lw, label= 'LogisticRegression, AUC-ROC = %.2f' %auc_regress_down)\n",
    "ax.plot(fpr2, tpr2, lw=lw, label= 'RandomForest, AUC-ROC = %.2f' %auc_forest_down)\n",
    "ax.plot(fpr3, tpr3, lw=lw, label= 'DecisionTree, AUC-ROC = %.2f' %auc_tree_down)\n",
    "\n",
    "plt.title('ROC-кривые моделей (уменьшение выборки)', fontsize=16)\n",
    "plt.legend(loc='lower right', prop={'size':12})\n",
    "plt.plot([0,1], [0,1])\n",
    "plt.xlim([0.0, 1.0])\n",
    "plt.xlabel('FPR', fontsize=16)\n",
    "plt.ylabel('TPR', fontsize=16)\n",
    "plt.ylim([0.0, 1.05])\n",
    "plt.tick_params(which='major', labelsize=14)\n",
    "plt.show()"
   ]
  },
  {
   "cell_type": "code",
   "execution_count": 76,
   "metadata": {},
   "outputs": [
    {
     "name": "stdout",
     "output_type": "stream",
     "text": [
      "                         accuracy  precision  recall   F1\n",
      "Логистическая регрессия      0.73       0.41    0.70 0.51\n",
      "Случайный лес                0.81       0.52    0.76 0.62\n",
      "Решающее дерево              0.74       0.43    0.74 0.54\n"
     ]
    }
   ],
   "source": [
    "data = {'accuracy':[report_regress_down.loc['accuracy', 'support'], report_forest_down.loc['accuracy', 'support'], report_tree_down.loc['accuracy', 'support']],\n",
    "        'precision':[report_regress_down.loc['1', 'precision'], report_forest_down.loc['1', 'precision'], report_tree_down.loc['1', 'precision']],\n",
    "        'recall':[report_regress_down.loc['1', 'recall'], report_forest_down.loc['1', 'recall'], report_tree_down.loc['1', 'recall']],\n",
    "        'F1':[report_regress_down.loc['1', 'f1-score'], report_forest_down.loc['1', 'f1-score'], report_tree_down.loc['1', 'f1-score']]}\n",
    "\n",
    "table_compare = pd.DataFrame(data)\n",
    "\n",
    "table_compare.index = ['Логистическая регрессия', 'Случайный лес', 'Решающее дерево']\n",
    "print(table_compare)"
   ]
  },
  {
   "cell_type": "markdown",
   "metadata": {},
   "source": [
    "При уменьшении выборки у всех моделей снизилась точность и увеличилась полнота. Модель стала \"осторожничать\", записывая оставшихся клиентов в уходящие. По F1-мере побеждает случайный лес."
   ]
  },
  {
   "cell_type": "markdown",
   "metadata": {},
   "source": [
    "**Вывод:** все модели чувствительны к дисбалансу классов. Мы применили несколько способов борьбы с дисбалансом, в каждом выбрали лушую модель. Теперь настало время выбрать лучшую модель среди всех и проверить ее на тестовой выборке."
   ]
  },
  {
   "cell_type": "markdown",
   "metadata": {},
   "source": [
    "## 5. Выбор модели"
   ]
  },
  {
   "cell_type": "code",
   "execution_count": 81,
   "metadata": {},
   "outputs": [
    {
     "name": "stdout",
     "output_type": "stream",
     "text": [
      "                                accuracy  precision  recall   F1\n",
      "Дисбаланс (случ.лес)                0.86       0.80    0.45 0.57\n",
      "Взвешивание классов (случ.лес)      0.85       0.63    0.66 0.64\n",
      "Увеличение выборки (случ.лес)       0.84       0.59    0.68 0.63\n",
      "Уменьшение выборки (случ.лес)       0.81       0.52    0.76 0.62\n"
     ]
    }
   ],
   "source": [
    "data = {'accuracy':[report_forest.loc['accuracy', 'support'], report_forest_balanced.loc['accuracy', 'support'], report_forest_up.loc['accuracy', 'support'], report_forest_down.loc['accuracy', 'support']],\n",
    "        'precision':[report_forest.loc['1', 'precision'], report_forest_balanced.loc['1', 'precision'], report_forest_up.loc['1', 'precision'], report_forest_down.loc['1', 'precision']],\n",
    "        'recall':[report_forest.loc['1', 'recall'], report_forest_balanced.loc['1', 'recall'], report_forest_up.loc['1', 'recall'], report_forest_down.loc['1', 'recall']],\n",
    "        'F1':[report_forest.loc['1', 'f1-score'], report_forest_balanced.loc['1', 'f1-score'], report_forest_up.loc['1', 'f1-score'], report_forest_down.loc['1', 'f1-score']]}\n",
    "\n",
    "table_compare = pd.DataFrame(data)\n",
    "\n",
    "table_compare.index = ['Дисбаланс (случ.лес)', 'Взвешивание классов (случ.лес)', 'Увеличение выборки (случ.лес)', 'Уменьшение выборки (случ.лес)']\n",
    "print(table_compare)"
   ]
  },
  {
   "cell_type": "markdown",
   "metadata": {},
   "source": [
    "Как видно, лучшие результаты показал случайный лес при взвешивании классов. Самая высокая F1-мера, хороший баланс точность/полнота. Проверим модель на тестовой выборке."
   ]
  },
  {
   "cell_type": "markdown",
   "metadata": {},
   "source": [
    "## 6. Тестирование модели"
   ]
  },
  {
   "cell_type": "code",
   "execution_count": 82,
   "metadata": {},
   "outputs": [
    {
     "name": "stdout",
     "output_type": "stream",
     "text": [
      "              precision  recall  f1-score  support\n",
      "0                  0.90    0.91      0.90  1593.00\n",
      "1                  0.63    0.60      0.61   407.00\n",
      "accuracy           0.85    0.85      0.85     0.85\n",
      "macro avg          0.76    0.76      0.76  2000.00\n",
      "weighted avg       0.84    0.85      0.84  2000.00\n"
     ]
    }
   ],
   "source": [
    "predictions_forest_balanced_test = rs_forest_balanced.predict(features_test)\n",
    "\n",
    "report_forest_balanced_test = classification_report(target_test, predictions_forest_balanced_test, output_dict=True)\n",
    "report_forest_balanced_test = pd.DataFrame(report_forest_balanced_test).transpose()\n",
    "\n",
    "print(report_forest_balanced_test)"
   ]
  },
  {
   "cell_type": "markdown",
   "metadata": {},
   "source": [
    "На тестовой выборке модель показала себя неплохо, удалось достичь требуемого значения F1-меры.\n",
    "\n",
    "Взглянем на матрицу ошибок:"
   ]
  },
  {
   "cell_type": "code",
   "execution_count": 79,
   "metadata": {},
   "outputs": [
    {
     "data": {
      "image/png": "[encoded data removed]",
      "text/plain": [
       "<Figure size 432x288 with 2 Axes>"
      ]
     },
     "metadata": {},
     "output_type": "display_data"
    }
   ],
   "source": [
    "df_cm_forest_test = pd.DataFrame(confusion_matrix(target_test, predictions_forest_balanced_test))\n",
    "sns.set(font_scale=1)\n",
    "sns.heatmap(df_cm_forest_test, annot=True, cmap='YlGnBu', fmt='d', annot_kws={'fontsize':12})\n",
    "plt.title('Матрица ошибок на тестовой выборке', fontsize=14)\n",
    "plt.xlabel('Предсказания', fontsize=12)\n",
    "plt.ylabel('Ответы', fontsize=12)\n",
    "plt.show()"
   ]
  },
  {
   "cell_type": "markdown",
   "metadata": {},
   "source": [
    "Неплохо, но модель еще допускает ошибки, но главное, что их примерно поровну (FP, FN)."
   ]
  },
  {
   "cell_type": "code",
   "execution_count": 80,
   "metadata": {},
   "outputs": [
    {
     "data": {
      "image/png": "[encoded data removed]",
      "text/plain": [
       "<Figure size 432x288 with 1 Axes>"
      ]
     },
     "metadata": {},
     "output_type": "display_data"
    }
   ],
   "source": [
    "fpr, tpr, thresholds = roc_curve(target_test, rs_forest_balanced.predict_proba(features_test)[:,1], pos_label=1)\n",
    "auc_forest_test = roc_auc_score(target_test, rs_forest_balanced.predict_proba(features_test)[:,1])\n",
    "lw=2\n",
    "plt.plot(fpr, tpr, lw=lw, label= 'RandomForest, AUC-ROC = %.2f' %auc_forest_test)\n",
    "\n",
    "plt.title('ROC-кривая на тестовой выборке', fontsize=16)\n",
    "plt.legend(loc='lower right', prop={'size':12})\n",
    "plt.plot([0,1], [0,1])\n",
    "plt.xlim([0.0, 1.0])\n",
    "plt.xlabel('FPR', fontsize=16)\n",
    "plt.ylabel('TPR', fontsize=16)\n",
    "plt.ylim([0.0, 1.05])\n",
    "plt.tick_params(which='major', labelsize=14)\n",
    "plt.show()"
   ]
  },
  {
   "cell_type": "markdown",
   "metadata": {},
   "source": [
    "На тестовой выборке лучшая модель показала хороший результат. Удалось достичь требуемой метрики F1. Кроме того, accuracy и AUC-ROC получились высокими, а также соблюден баланс между точностью и полнотой. Для нашей бизнес-задачи важно как не упустить клиента, который хочет уйти, так и не принять остающегося клиента за уходящего. Теперь, когда мы представляем, какие клиенты действительно могут уйти, нужно работать с ними: предложить скидку на обслуживание, более лояльные условия по кредиту или кредитной карте. Но если раздавать скидки направо и налево всем клиентам, даже тем, кто не собирается уходить, банк может нести убытки. Потому в данной задаче так важен баланс точности и полноты, и наша модель поставленной задаче удовлетворяет."
   ]
  }
 ],
 "metadata": {
  "kernelspec": {
   "display_name": "Python 3",
   "language": "python",
   "name": "python3"
  },
  "language_info": {
   "codemirror_mode": {
    "name": "ipython",
    "version": 3
   },
   "file_extension": ".py",
   "mimetype": "text/x-python",
   "name": "python",
   "nbconvert_exporter": "python",
   "pygments_lexer": "ipython3",
   "version": "3.8.5"
  },
  "toc": {
   "base_numbering": 1,
   "nav_menu": {},
   "number_sections": false,
   "sideBar": true,
   "skip_h1_title": true,
   "title_cell": "Table of Contents",
   "title_sidebar": "Contents",
   "toc_cell": false,
   "toc_position": {},
   "toc_section_display": true,
   "toc_window_display": false
  }
 },
 "nbformat": 4,
 "nbformat_minor": 2
}
