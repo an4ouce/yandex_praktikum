{
 "cells": [
  {
   "cell_type": "markdown",
   "metadata": {},
   "source": [
    "<h1>Содержание<span class=\"tocSkip\"></span></h1>\n",
    "<div class=\"toc\"><ul class=\"toc-item\"><li><span><a href=\"#Описание-данных\" data-toc-modified-id=\"Описание-данных-1\"><span class=\"toc-item-num\">1&nbsp;&nbsp;</span>Описание данных</a></span></li><li><span><a href=\"#Подготовка-данных\" data-toc-modified-id=\"Подготовка-данных-2\"><span class=\"toc-item-num\">2&nbsp;&nbsp;</span>Подготовка данных</a></span></li><li><span><a href=\"#Подготовка-к-обучению-моделей\" data-toc-modified-id=\"Подготовка-к-обучению-моделей-3\"><span class=\"toc-item-num\">3&nbsp;&nbsp;</span>Подготовка к обучению моделей</a></span></li><li><span><a href=\"#Обучение-моделей\" data-toc-modified-id=\"Обучение-моделей-4\"><span class=\"toc-item-num\">4&nbsp;&nbsp;</span>Обучение моделей</a></span></li><li><span><a href=\"#Анализ-моделей\" data-toc-modified-id=\"Анализ-моделей-5\"><span class=\"toc-item-num\">5&nbsp;&nbsp;</span>Анализ моделей</a></span></li><li><span><a href=\"#Общий-вывод\" data-toc-modified-id=\"Общий-вывод-6\"><span class=\"toc-item-num\">6&nbsp;&nbsp;</span>Общий вывод</a></span></li></ul></div>"
   ]
  },
  {
   "cell_type": "markdown",
   "metadata": {},
   "source": [
    "# Определение стоимости автомобилей"
   ]
  },
  {
   "cell_type": "markdown",
   "metadata": {},
   "source": [
    "Сервис по продаже автомобилей с пробегом «Не бит, не крашен» разрабатывает приложение для привлечения новых клиентов. В нём можно быстро узнать рыночную стоимость своего автомобиля. В нашем распоряжении исторические данные: технические характеристики, комплектации и цены автомобилей. Необходимо построить модель для определения стоимости. \n",
    "\n",
    "Заказчику важны:\n",
    "\n",
    "- качество предсказания;\n",
    "- скорость предсказания;\n",
    "- время обучения."
   ]
  },
  {
   "cell_type": "markdown",
   "metadata": {},
   "source": [
    "## Описание данных"
   ]
  },
  {
   "cell_type": "markdown",
   "metadata": {},
   "source": [
    "**_Признаки:_**\n",
    "\n",
    "* DateCrawled — дата скачивания анкеты из базы\n",
    "* VehicleType — тип автомобильного кузова\n",
    "* RegistrationYear — год регистрации автомобиля\n",
    "* Gearbox — тип коробки передач\n",
    "* Power — мощность (л. с.)\n",
    "* Model — модель автомобиля\n",
    "* Kilometer — пробег (км)\n",
    "* RegistrationMonth — месяц регистрации автомобиля\n",
    "* FuelType — тип топлива\n",
    "* Brand — марка автомобиля\n",
    "* NotRepaired — была машина в ремонте или нет\n",
    "* DateCreated — дата создания анкеты\n",
    "* NumberOfPictures — количество фотографий автомобиля\n",
    "* PostalCode — почтовый индекс владельца анкеты (пользователя)\n",
    "* LastSeen — дата последней активности пользователя\n",
    "\n",
    "**_Целевой признак:_**\n",
    "\n",
    "* Price — цена (евро)"
   ]
  },
  {
   "cell_type": "markdown",
   "metadata": {},
   "source": [
    "## Подготовка данных"
   ]
  },
  {
   "cell_type": "code",
   "execution_count": 1,
   "metadata": {},
   "outputs": [],
   "source": [
    "import time\n",
    "import pandas as pd\n",
    "import numpy as np\n",
    "import seaborn as sns\n",
    "import matplotlib.pyplot as plt\n",
    "from IPython.display import display\n",
    "import itertools\n",
    "import warnings\n",
    "warnings.filterwarnings('ignore')\n",
    "\n",
    "from sklearn.model_selection import train_test_split, GridSearchCV\n",
    "from sklearn.preprocessing import StandardScaler\n",
    "from sklearn.metrics import mean_squared_error\n",
    "\n",
    "from sklearn.dummy import DummyRegressor\n",
    "from sklearn.linear_model import LinearRegression, Ridge\n",
    "from lightgbm import LGBMRegressor\n",
    "from catboost import CatBoostRegressor\n",
    "\n",
    "try:\n",
    "    autos = pd.read_csv('/datasets/autos.csv')\n",
    "except:\n",
    "    autos = pd.read_csv('home/an4ouce/datasets/autos.csv')"
   ]
  },
  {
   "cell_type": "code",
   "execution_count": 2,
   "metadata": {
    "scrolled": false
   },
   "outputs": [
    {
     "data": {
      "text/html": [
       "<div>\n",
       "<style scoped>\n",
       "    .dataframe tbody tr th:only-of-type {\n",
       "        vertical-align: middle;\n",
       "    }\n",
       "\n",
       "    .dataframe tbody tr th {\n",
       "        vertical-align: top;\n",
       "    }\n",
       "\n",
       "    .dataframe thead th {\n",
       "        text-align: right;\n",
       "    }\n",
       "</style>\n",
       "<table border=\"1\" class=\"dataframe\">\n",
       "  <thead>\n",
       "    <tr style=\"text-align: right;\">\n",
       "      <th></th>\n",
       "      <th>DateCrawled</th>\n",
       "      <th>Price</th>\n",
       "      <th>VehicleType</th>\n",
       "      <th>RegistrationYear</th>\n",
       "      <th>Gearbox</th>\n",
       "      <th>Power</th>\n",
       "      <th>Model</th>\n",
       "      <th>Kilometer</th>\n",
       "      <th>RegistrationMonth</th>\n",
       "      <th>FuelType</th>\n",
       "      <th>Brand</th>\n",
       "      <th>NotRepaired</th>\n",
       "      <th>DateCreated</th>\n",
       "      <th>NumberOfPictures</th>\n",
       "      <th>PostalCode</th>\n",
       "      <th>LastSeen</th>\n",
       "    </tr>\n",
       "  </thead>\n",
       "  <tbody>\n",
       "    <tr>\n",
       "      <td>0</td>\n",
       "      <td>2016-03-24 11:52:17</td>\n",
       "      <td>480</td>\n",
       "      <td>NaN</td>\n",
       "      <td>1993</td>\n",
       "      <td>manual</td>\n",
       "      <td>0</td>\n",
       "      <td>golf</td>\n",
       "      <td>150000</td>\n",
       "      <td>0</td>\n",
       "      <td>petrol</td>\n",
       "      <td>volkswagen</td>\n",
       "      <td>NaN</td>\n",
       "      <td>2016-03-24 00:00:00</td>\n",
       "      <td>0</td>\n",
       "      <td>70435</td>\n",
       "      <td>2016-04-07 03:16:57</td>\n",
       "    </tr>\n",
       "    <tr>\n",
       "      <td>1</td>\n",
       "      <td>2016-03-24 10:58:45</td>\n",
       "      <td>18300</td>\n",
       "      <td>coupe</td>\n",
       "      <td>2011</td>\n",
       "      <td>manual</td>\n",
       "      <td>190</td>\n",
       "      <td>NaN</td>\n",
       "      <td>125000</td>\n",
       "      <td>5</td>\n",
       "      <td>gasoline</td>\n",
       "      <td>audi</td>\n",
       "      <td>yes</td>\n",
       "      <td>2016-03-24 00:00:00</td>\n",
       "      <td>0</td>\n",
       "      <td>66954</td>\n",
       "      <td>2016-04-07 01:46:50</td>\n",
       "    </tr>\n",
       "    <tr>\n",
       "      <td>2</td>\n",
       "      <td>2016-03-14 12:52:21</td>\n",
       "      <td>9800</td>\n",
       "      <td>suv</td>\n",
       "      <td>2004</td>\n",
       "      <td>auto</td>\n",
       "      <td>163</td>\n",
       "      <td>grand</td>\n",
       "      <td>125000</td>\n",
       "      <td>8</td>\n",
       "      <td>gasoline</td>\n",
       "      <td>jeep</td>\n",
       "      <td>NaN</td>\n",
       "      <td>2016-03-14 00:00:00</td>\n",
       "      <td>0</td>\n",
       "      <td>90480</td>\n",
       "      <td>2016-04-05 12:47:46</td>\n",
       "    </tr>\n",
       "    <tr>\n",
       "      <td>3</td>\n",
       "      <td>2016-03-17 16:54:04</td>\n",
       "      <td>1500</td>\n",
       "      <td>small</td>\n",
       "      <td>2001</td>\n",
       "      <td>manual</td>\n",
       "      <td>75</td>\n",
       "      <td>golf</td>\n",
       "      <td>150000</td>\n",
       "      <td>6</td>\n",
       "      <td>petrol</td>\n",
       "      <td>volkswagen</td>\n",
       "      <td>no</td>\n",
       "      <td>2016-03-17 00:00:00</td>\n",
       "      <td>0</td>\n",
       "      <td>91074</td>\n",
       "      <td>2016-03-17 17:40:17</td>\n",
       "    </tr>\n",
       "    <tr>\n",
       "      <td>4</td>\n",
       "      <td>2016-03-31 17:25:20</td>\n",
       "      <td>3600</td>\n",
       "      <td>small</td>\n",
       "      <td>2008</td>\n",
       "      <td>manual</td>\n",
       "      <td>69</td>\n",
       "      <td>fabia</td>\n",
       "      <td>90000</td>\n",
       "      <td>7</td>\n",
       "      <td>gasoline</td>\n",
       "      <td>skoda</td>\n",
       "      <td>no</td>\n",
       "      <td>2016-03-31 00:00:00</td>\n",
       "      <td>0</td>\n",
       "      <td>60437</td>\n",
       "      <td>2016-04-06 10:17:21</td>\n",
       "    </tr>\n",
       "  </tbody>\n",
       "</table>\n",
       "</div>"
      ],
      "text/plain": [
       "           DateCrawled  Price VehicleType  RegistrationYear Gearbox  Power  \\\n",
       "0  2016-03-24 11:52:17    480         NaN              1993  manual      0   \n",
       "1  2016-03-24 10:58:45  18300       coupe              2011  manual    190   \n",
       "2  2016-03-14 12:52:21   9800         suv              2004    auto    163   \n",
       "3  2016-03-17 16:54:04   1500       small              2001  manual     75   \n",
       "4  2016-03-31 17:25:20   3600       small              2008  manual     69   \n",
       "\n",
       "   Model  Kilometer  RegistrationMonth  FuelType       Brand NotRepaired  \\\n",
       "0   golf     150000                  0    petrol  volkswagen         NaN   \n",
       "1    NaN     125000                  5  gasoline        audi         yes   \n",
       "2  grand     125000                  8  gasoline        jeep         NaN   \n",
       "3   golf     150000                  6    petrol  volkswagen          no   \n",
       "4  fabia      90000                  7  gasoline       skoda          no   \n",
       "\n",
       "           DateCreated  NumberOfPictures  PostalCode             LastSeen  \n",
       "0  2016-03-24 00:00:00                 0       70435  2016-04-07 03:16:57  \n",
       "1  2016-03-24 00:00:00                 0       66954  2016-04-07 01:46:50  \n",
       "2  2016-03-14 00:00:00                 0       90480  2016-04-05 12:47:46  \n",
       "3  2016-03-17 00:00:00                 0       91074  2016-03-17 17:40:17  \n",
       "4  2016-03-31 00:00:00                 0       60437  2016-04-06 10:17:21  "
      ]
     },
     "metadata": {},
     "output_type": "display_data"
    },
    {
     "name": "stdout",
     "output_type": "stream",
     "text": [
      "<class 'pandas.core.frame.DataFrame'>\n",
      "RangeIndex: 354369 entries, 0 to 354368\n",
      "Data columns (total 16 columns):\n",
      "DateCrawled          354369 non-null object\n",
      "Price                354369 non-null int64\n",
      "VehicleType          316879 non-null object\n",
      "RegistrationYear     354369 non-null int64\n",
      "Gearbox              334536 non-null object\n",
      "Power                354369 non-null int64\n",
      "Model                334664 non-null object\n",
      "Kilometer            354369 non-null int64\n",
      "RegistrationMonth    354369 non-null int64\n",
      "FuelType             321474 non-null object\n",
      "Brand                354369 non-null object\n",
      "NotRepaired          283215 non-null object\n",
      "DateCreated          354369 non-null object\n",
      "NumberOfPictures     354369 non-null int64\n",
      "PostalCode           354369 non-null int64\n",
      "LastSeen             354369 non-null object\n",
      "dtypes: int64(7), object(9)\n",
      "memory usage: 43.3+ MB\n"
     ]
    },
    {
     "data": {
      "text/plain": [
       "None"
      ]
     },
     "metadata": {},
     "output_type": "display_data"
    },
    {
     "data": {
      "text/html": [
       "<div>\n",
       "<style scoped>\n",
       "    .dataframe tbody tr th:only-of-type {\n",
       "        vertical-align: middle;\n",
       "    }\n",
       "\n",
       "    .dataframe tbody tr th {\n",
       "        vertical-align: top;\n",
       "    }\n",
       "\n",
       "    .dataframe thead th {\n",
       "        text-align: right;\n",
       "    }\n",
       "</style>\n",
       "<table border=\"1\" class=\"dataframe\">\n",
       "  <thead>\n",
       "    <tr style=\"text-align: right;\">\n",
       "      <th></th>\n",
       "      <th>Price</th>\n",
       "      <th>RegistrationYear</th>\n",
       "      <th>Power</th>\n",
       "      <th>Kilometer</th>\n",
       "      <th>RegistrationMonth</th>\n",
       "      <th>NumberOfPictures</th>\n",
       "      <th>PostalCode</th>\n",
       "    </tr>\n",
       "  </thead>\n",
       "  <tbody>\n",
       "    <tr>\n",
       "      <td>count</td>\n",
       "      <td>354369.000000</td>\n",
       "      <td>354369.000000</td>\n",
       "      <td>354369.000000</td>\n",
       "      <td>354369.000000</td>\n",
       "      <td>354369.000000</td>\n",
       "      <td>354369.0</td>\n",
       "      <td>354369.000000</td>\n",
       "    </tr>\n",
       "    <tr>\n",
       "      <td>mean</td>\n",
       "      <td>4416.656776</td>\n",
       "      <td>2004.234448</td>\n",
       "      <td>110.094337</td>\n",
       "      <td>128211.172535</td>\n",
       "      <td>5.714645</td>\n",
       "      <td>0.0</td>\n",
       "      <td>50508.689087</td>\n",
       "    </tr>\n",
       "    <tr>\n",
       "      <td>std</td>\n",
       "      <td>4514.158514</td>\n",
       "      <td>90.227958</td>\n",
       "      <td>189.850405</td>\n",
       "      <td>37905.341530</td>\n",
       "      <td>3.726421</td>\n",
       "      <td>0.0</td>\n",
       "      <td>25783.096248</td>\n",
       "    </tr>\n",
       "    <tr>\n",
       "      <td>min</td>\n",
       "      <td>0.000000</td>\n",
       "      <td>1000.000000</td>\n",
       "      <td>0.000000</td>\n",
       "      <td>5000.000000</td>\n",
       "      <td>0.000000</td>\n",
       "      <td>0.0</td>\n",
       "      <td>1067.000000</td>\n",
       "    </tr>\n",
       "    <tr>\n",
       "      <td>25%</td>\n",
       "      <td>1050.000000</td>\n",
       "      <td>1999.000000</td>\n",
       "      <td>69.000000</td>\n",
       "      <td>125000.000000</td>\n",
       "      <td>3.000000</td>\n",
       "      <td>0.0</td>\n",
       "      <td>30165.000000</td>\n",
       "    </tr>\n",
       "    <tr>\n",
       "      <td>50%</td>\n",
       "      <td>2700.000000</td>\n",
       "      <td>2003.000000</td>\n",
       "      <td>105.000000</td>\n",
       "      <td>150000.000000</td>\n",
       "      <td>6.000000</td>\n",
       "      <td>0.0</td>\n",
       "      <td>49413.000000</td>\n",
       "    </tr>\n",
       "    <tr>\n",
       "      <td>75%</td>\n",
       "      <td>6400.000000</td>\n",
       "      <td>2008.000000</td>\n",
       "      <td>143.000000</td>\n",
       "      <td>150000.000000</td>\n",
       "      <td>9.000000</td>\n",
       "      <td>0.0</td>\n",
       "      <td>71083.000000</td>\n",
       "    </tr>\n",
       "    <tr>\n",
       "      <td>max</td>\n",
       "      <td>20000.000000</td>\n",
       "      <td>9999.000000</td>\n",
       "      <td>20000.000000</td>\n",
       "      <td>150000.000000</td>\n",
       "      <td>12.000000</td>\n",
       "      <td>0.0</td>\n",
       "      <td>99998.000000</td>\n",
       "    </tr>\n",
       "  </tbody>\n",
       "</table>\n",
       "</div>"
      ],
      "text/plain": [
       "               Price  RegistrationYear          Power      Kilometer  \\\n",
       "count  354369.000000     354369.000000  354369.000000  354369.000000   \n",
       "mean     4416.656776       2004.234448     110.094337  128211.172535   \n",
       "std      4514.158514         90.227958     189.850405   37905.341530   \n",
       "min         0.000000       1000.000000       0.000000    5000.000000   \n",
       "25%      1050.000000       1999.000000      69.000000  125000.000000   \n",
       "50%      2700.000000       2003.000000     105.000000  150000.000000   \n",
       "75%      6400.000000       2008.000000     143.000000  150000.000000   \n",
       "max     20000.000000       9999.000000   20000.000000  150000.000000   \n",
       "\n",
       "       RegistrationMonth  NumberOfPictures     PostalCode  \n",
       "count      354369.000000          354369.0  354369.000000  \n",
       "mean            5.714645               0.0   50508.689087  \n",
       "std             3.726421               0.0   25783.096248  \n",
       "min             0.000000               0.0    1067.000000  \n",
       "25%             3.000000               0.0   30165.000000  \n",
       "50%             6.000000               0.0   49413.000000  \n",
       "75%             9.000000               0.0   71083.000000  \n",
       "max            12.000000               0.0   99998.000000  "
      ]
     },
     "metadata": {},
     "output_type": "display_data"
    }
   ],
   "source": [
    "display(autos.head())\n",
    "display(autos.info())\n",
    "display(autos.describe())"
   ]
  },
  {
   "cell_type": "markdown",
   "metadata": {},
   "source": [
    "Сразу видим аномалию цены - ноль. Посмотрим, много ли таких объектов в датафрейме:"
   ]
  },
  {
   "cell_type": "code",
   "execution_count": 3,
   "metadata": {},
   "outputs": [
    {
     "data": {
      "text/html": [
       "<div>\n",
       "<style scoped>\n",
       "    .dataframe tbody tr th:only-of-type {\n",
       "        vertical-align: middle;\n",
       "    }\n",
       "\n",
       "    .dataframe tbody tr th {\n",
       "        vertical-align: top;\n",
       "    }\n",
       "\n",
       "    .dataframe thead th {\n",
       "        text-align: right;\n",
       "    }\n",
       "</style>\n",
       "<table border=\"1\" class=\"dataframe\">\n",
       "  <thead>\n",
       "    <tr style=\"text-align: right;\">\n",
       "      <th></th>\n",
       "      <th>datecrawled</th>\n",
       "      <th>price</th>\n",
       "      <th>vehicletype</th>\n",
       "      <th>registrationyear</th>\n",
       "      <th>gearbox</th>\n",
       "      <th>power</th>\n",
       "      <th>model</th>\n",
       "      <th>kilometer</th>\n",
       "      <th>registrationmonth</th>\n",
       "      <th>fueltype</th>\n",
       "      <th>brand</th>\n",
       "      <th>notrepaired</th>\n",
       "      <th>datecreated</th>\n",
       "      <th>numberofpictures</th>\n",
       "      <th>postalcode</th>\n",
       "      <th>lastseen</th>\n",
       "    </tr>\n",
       "  </thead>\n",
       "  <tbody>\n",
       "    <tr>\n",
       "      <td>7</td>\n",
       "      <td>2016-03-21 18:54:38</td>\n",
       "      <td>0</td>\n",
       "      <td>sedan</td>\n",
       "      <td>1980</td>\n",
       "      <td>manual</td>\n",
       "      <td>50</td>\n",
       "      <td>other</td>\n",
       "      <td>40000</td>\n",
       "      <td>7</td>\n",
       "      <td>petrol</td>\n",
       "      <td>volkswagen</td>\n",
       "      <td>no</td>\n",
       "      <td>2016-03-21 00:00:00</td>\n",
       "      <td>0</td>\n",
       "      <td>19348</td>\n",
       "      <td>2016-03-25 16:47:58</td>\n",
       "    </tr>\n",
       "    <tr>\n",
       "      <td>40</td>\n",
       "      <td>2016-03-26 22:06:17</td>\n",
       "      <td>0</td>\n",
       "      <td>NaN</td>\n",
       "      <td>1990</td>\n",
       "      <td>NaN</td>\n",
       "      <td>0</td>\n",
       "      <td>corsa</td>\n",
       "      <td>150000</td>\n",
       "      <td>1</td>\n",
       "      <td>petrol</td>\n",
       "      <td>opel</td>\n",
       "      <td>NaN</td>\n",
       "      <td>2016-03-26 00:00:00</td>\n",
       "      <td>0</td>\n",
       "      <td>56412</td>\n",
       "      <td>2016-03-27 17:43:34</td>\n",
       "    </tr>\n",
       "    <tr>\n",
       "      <td>111</td>\n",
       "      <td>2016-03-19 18:40:12</td>\n",
       "      <td>0</td>\n",
       "      <td>NaN</td>\n",
       "      <td>2017</td>\n",
       "      <td>manual</td>\n",
       "      <td>0</td>\n",
       "      <td>golf</td>\n",
       "      <td>5000</td>\n",
       "      <td>12</td>\n",
       "      <td>petrol</td>\n",
       "      <td>volkswagen</td>\n",
       "      <td>NaN</td>\n",
       "      <td>2016-03-19 00:00:00</td>\n",
       "      <td>0</td>\n",
       "      <td>21698</td>\n",
       "      <td>2016-04-01 08:47:05</td>\n",
       "    </tr>\n",
       "    <tr>\n",
       "      <td>115</td>\n",
       "      <td>2016-03-20 18:53:27</td>\n",
       "      <td>0</td>\n",
       "      <td>small</td>\n",
       "      <td>1999</td>\n",
       "      <td>NaN</td>\n",
       "      <td>0</td>\n",
       "      <td>NaN</td>\n",
       "      <td>5000</td>\n",
       "      <td>0</td>\n",
       "      <td>petrol</td>\n",
       "      <td>volkswagen</td>\n",
       "      <td>NaN</td>\n",
       "      <td>2016-03-20 00:00:00</td>\n",
       "      <td>0</td>\n",
       "      <td>37520</td>\n",
       "      <td>2016-04-07 02:45:22</td>\n",
       "    </tr>\n",
       "    <tr>\n",
       "      <td>152</td>\n",
       "      <td>2016-03-11 18:55:53</td>\n",
       "      <td>0</td>\n",
       "      <td>bus</td>\n",
       "      <td>2004</td>\n",
       "      <td>manual</td>\n",
       "      <td>101</td>\n",
       "      <td>meriva</td>\n",
       "      <td>150000</td>\n",
       "      <td>10</td>\n",
       "      <td>lpg</td>\n",
       "      <td>opel</td>\n",
       "      <td>yes</td>\n",
       "      <td>2016-03-11 00:00:00</td>\n",
       "      <td>0</td>\n",
       "      <td>27432</td>\n",
       "      <td>2016-03-12 23:47:10</td>\n",
       "    </tr>\n",
       "    <tr>\n",
       "      <td>...</td>\n",
       "      <td>...</td>\n",
       "      <td>...</td>\n",
       "      <td>...</td>\n",
       "      <td>...</td>\n",
       "      <td>...</td>\n",
       "      <td>...</td>\n",
       "      <td>...</td>\n",
       "      <td>...</td>\n",
       "      <td>...</td>\n",
       "      <td>...</td>\n",
       "      <td>...</td>\n",
       "      <td>...</td>\n",
       "      <td>...</td>\n",
       "      <td>...</td>\n",
       "      <td>...</td>\n",
       "      <td>...</td>\n",
       "    </tr>\n",
       "    <tr>\n",
       "      <td>354205</td>\n",
       "      <td>2016-03-09 15:56:30</td>\n",
       "      <td>0</td>\n",
       "      <td>NaN</td>\n",
       "      <td>2000</td>\n",
       "      <td>manual</td>\n",
       "      <td>65</td>\n",
       "      <td>corsa</td>\n",
       "      <td>150000</td>\n",
       "      <td>0</td>\n",
       "      <td>NaN</td>\n",
       "      <td>opel</td>\n",
       "      <td>yes</td>\n",
       "      <td>2016-03-09 00:00:00</td>\n",
       "      <td>0</td>\n",
       "      <td>23758</td>\n",
       "      <td>2016-03-30 11:16:08</td>\n",
       "    </tr>\n",
       "    <tr>\n",
       "      <td>354238</td>\n",
       "      <td>2016-03-20 14:55:07</td>\n",
       "      <td>0</td>\n",
       "      <td>small</td>\n",
       "      <td>2002</td>\n",
       "      <td>manual</td>\n",
       "      <td>60</td>\n",
       "      <td>fiesta</td>\n",
       "      <td>150000</td>\n",
       "      <td>3</td>\n",
       "      <td>petrol</td>\n",
       "      <td>ford</td>\n",
       "      <td>NaN</td>\n",
       "      <td>2016-03-20 00:00:00</td>\n",
       "      <td>0</td>\n",
       "      <td>33659</td>\n",
       "      <td>2016-04-06 18:45:23</td>\n",
       "    </tr>\n",
       "    <tr>\n",
       "      <td>354248</td>\n",
       "      <td>2016-03-24 13:48:05</td>\n",
       "      <td>0</td>\n",
       "      <td>small</td>\n",
       "      <td>1999</td>\n",
       "      <td>manual</td>\n",
       "      <td>53</td>\n",
       "      <td>swift</td>\n",
       "      <td>150000</td>\n",
       "      <td>3</td>\n",
       "      <td>petrol</td>\n",
       "      <td>suzuki</td>\n",
       "      <td>NaN</td>\n",
       "      <td>2016-03-24 00:00:00</td>\n",
       "      <td>0</td>\n",
       "      <td>42329</td>\n",
       "      <td>2016-04-07 05:17:24</td>\n",
       "    </tr>\n",
       "    <tr>\n",
       "      <td>354277</td>\n",
       "      <td>2016-03-10 22:55:50</td>\n",
       "      <td>0</td>\n",
       "      <td>small</td>\n",
       "      <td>1999</td>\n",
       "      <td>manual</td>\n",
       "      <td>37</td>\n",
       "      <td>arosa</td>\n",
       "      <td>150000</td>\n",
       "      <td>7</td>\n",
       "      <td>petrol</td>\n",
       "      <td>seat</td>\n",
       "      <td>yes</td>\n",
       "      <td>2016-03-10 00:00:00</td>\n",
       "      <td>0</td>\n",
       "      <td>22559</td>\n",
       "      <td>2016-03-12 23:46:32</td>\n",
       "    </tr>\n",
       "    <tr>\n",
       "      <td>354364</td>\n",
       "      <td>2016-03-21 09:50:58</td>\n",
       "      <td>0</td>\n",
       "      <td>NaN</td>\n",
       "      <td>2005</td>\n",
       "      <td>manual</td>\n",
       "      <td>0</td>\n",
       "      <td>colt</td>\n",
       "      <td>150000</td>\n",
       "      <td>7</td>\n",
       "      <td>petrol</td>\n",
       "      <td>mitsubishi</td>\n",
       "      <td>yes</td>\n",
       "      <td>2016-03-21 00:00:00</td>\n",
       "      <td>0</td>\n",
       "      <td>2694</td>\n",
       "      <td>2016-03-21 10:42:49</td>\n",
       "    </tr>\n",
       "  </tbody>\n",
       "</table>\n",
       "<p>10772 rows × 16 columns</p>\n",
       "</div>"
      ],
      "text/plain": [
       "                datecrawled  price vehicletype  registrationyear gearbox  \\\n",
       "7       2016-03-21 18:54:38      0       sedan              1980  manual   \n",
       "40      2016-03-26 22:06:17      0         NaN              1990     NaN   \n",
       "111     2016-03-19 18:40:12      0         NaN              2017  manual   \n",
       "115     2016-03-20 18:53:27      0       small              1999     NaN   \n",
       "152     2016-03-11 18:55:53      0         bus              2004  manual   \n",
       "...                     ...    ...         ...               ...     ...   \n",
       "354205  2016-03-09 15:56:30      0         NaN              2000  manual   \n",
       "354238  2016-03-20 14:55:07      0       small              2002  manual   \n",
       "354248  2016-03-24 13:48:05      0       small              1999  manual   \n",
       "354277  2016-03-10 22:55:50      0       small              1999  manual   \n",
       "354364  2016-03-21 09:50:58      0         NaN              2005  manual   \n",
       "\n",
       "        power   model  kilometer  registrationmonth fueltype       brand  \\\n",
       "7          50   other      40000                  7   petrol  volkswagen   \n",
       "40          0   corsa     150000                  1   petrol        opel   \n",
       "111         0    golf       5000                 12   petrol  volkswagen   \n",
       "115         0     NaN       5000                  0   petrol  volkswagen   \n",
       "152       101  meriva     150000                 10      lpg        opel   \n",
       "...       ...     ...        ...                ...      ...         ...   \n",
       "354205     65   corsa     150000                  0      NaN        opel   \n",
       "354238     60  fiesta     150000                  3   petrol        ford   \n",
       "354248     53   swift     150000                  3   petrol      suzuki   \n",
       "354277     37   arosa     150000                  7   petrol        seat   \n",
       "354364      0    colt     150000                  7   petrol  mitsubishi   \n",
       "\n",
       "       notrepaired          datecreated  numberofpictures  postalcode  \\\n",
       "7               no  2016-03-21 00:00:00                 0       19348   \n",
       "40             NaN  2016-03-26 00:00:00                 0       56412   \n",
       "111            NaN  2016-03-19 00:00:00                 0       21698   \n",
       "115            NaN  2016-03-20 00:00:00                 0       37520   \n",
       "152            yes  2016-03-11 00:00:00                 0       27432   \n",
       "...            ...                  ...               ...         ...   \n",
       "354205         yes  2016-03-09 00:00:00                 0       23758   \n",
       "354238         NaN  2016-03-20 00:00:00                 0       33659   \n",
       "354248         NaN  2016-03-24 00:00:00                 0       42329   \n",
       "354277         yes  2016-03-10 00:00:00                 0       22559   \n",
       "354364         yes  2016-03-21 00:00:00                 0        2694   \n",
       "\n",
       "                   lastseen  \n",
       "7       2016-03-25 16:47:58  \n",
       "40      2016-03-27 17:43:34  \n",
       "111     2016-04-01 08:47:05  \n",
       "115     2016-04-07 02:45:22  \n",
       "152     2016-03-12 23:47:10  \n",
       "...                     ...  \n",
       "354205  2016-03-30 11:16:08  \n",
       "354238  2016-04-06 18:45:23  \n",
       "354248  2016-04-07 05:17:24  \n",
       "354277  2016-03-12 23:46:32  \n",
       "354364  2016-03-21 10:42:49  \n",
       "\n",
       "[10772 rows x 16 columns]"
      ]
     },
     "execution_count": 3,
     "metadata": {},
     "output_type": "execute_result"
    }
   ],
   "source": [
    "autos.columns = autos.columns.str.lower()\n",
    "\n",
    "autos.query('price == 0')"
   ]
  },
  {
   "cell_type": "markdown",
   "metadata": {},
   "source": [
    "Имеет смысл удалить 10772 объекта, так как это наш целевой признак, и дополнительный шум нам не нужен."
   ]
  },
  {
   "cell_type": "code",
   "execution_count": 4,
   "metadata": {},
   "outputs": [
    {
     "name": "stdout",
     "output_type": "stream",
     "text": [
      "<class 'pandas.core.frame.DataFrame'>\n",
      "Int64Index: 343597 entries, 0 to 354368\n",
      "Data columns (total 16 columns):\n",
      "datecrawled          343597 non-null object\n",
      "price                343597 non-null int64\n",
      "vehicletype          309847 non-null object\n",
      "registrationyear     343597 non-null int64\n",
      "gearbox              326242 non-null object\n",
      "power                343597 non-null int64\n",
      "model                326076 non-null object\n",
      "kilometer            343597 non-null int64\n",
      "registrationmonth    343597 non-null int64\n",
      "fueltype             314138 non-null object\n",
      "brand                343597 non-null object\n",
      "notrepaired          277731 non-null object\n",
      "datecreated          343597 non-null object\n",
      "numberofpictures     343597 non-null int64\n",
      "postalcode           343597 non-null int64\n",
      "lastseen             343597 non-null object\n",
      "dtypes: int64(7), object(9)\n",
      "memory usage: 44.6+ MB\n"
     ]
    }
   ],
   "source": [
    "autos = autos.query('price != 0')\n",
    "autos.info()"
   ]
  },
  {
   "cell_type": "markdown",
   "metadata": {},
   "source": [
    "Удалили. Теперь визуализируем количество пропусков по столбцам:"
   ]
  },
  {
   "cell_type": "code",
   "execution_count": 5,
   "metadata": {},
   "outputs": [
    {
     "data": {
      "image/png": "[encoded data removed]",
      "text/plain": [
       "<Figure size 864x576 with 1 Axes>"
      ]
     },
     "metadata": {
      "needs_background": "light"
     },
     "output_type": "display_data"
    }
   ],
   "source": [
    "total_data = autos.shape[0]\n",
    "columns_data = autos.columns.values.tolist()\n",
    "\n",
    "nan = []\n",
    "\n",
    "for col in columns_data:\n",
    "    quantity_not_nan = autos[col].count()\n",
    "    percent_nan = ((total_data - quantity_not_nan) / total_data) * 100\n",
    "    nan.append(percent_nan)\n",
    "    \n",
    "nan_percent = pd.Series(nan, index=columns_data)\n",
    "nan_percent_mean = nan_percent.mean()\n",
    "nan_percent.sort_values(ascending=True, inplace=True)\n",
    "\n",
    "fig, ax = plt.subplots(figsize=(12,8))\n",
    "ax.barh(nan_percent.index, nan_percent.values)\n",
    "ax.set_title('% пропусков по столбцам')\n",
    "\n",
    "#построим линию, показывающую средний % пропусков по столбцам\n",
    "plt.axvline(\n",
    "    x=nan_percent_mean, linewidth=2,\n",
    "    label='Средний % пропусков по столбцам = {}'.format(round(nan_percent_mean, 2)),\n",
    "    color='r', linestyle='--')\n",
    "\n",
    "plt.legend()\n",
    "\n",
    "for i in ax.patches:\n",
    "    plt.text(i.get_width()+0.1,\n",
    "    i.get_y()+0.2, str(round(i.get_width(),2)),\n",
    "    fontsize=10, fontweight='bold', color='black')\n",
    "\n",
    "plt.show()"
   ]
  },
  {
   "cell_type": "markdown",
   "metadata": {},
   "source": [
    "Больше всего пропусков (19,17%) имеет столбец **notrepaired**. Корректно заполнить его мы не сможем, потому заполним пропуска значением 'unknown'. \n",
    "\n",
    "В столбце **vehicletype** пропусков меньше - 9,82%. Заменим пропуски на 'unknown'.\n",
    "\n",
    "В столбце **fueltype** 8,57% пропусков. Большинство автомобилей на бензине, гибриды и электрокары появились совсем недавно, потому логично заменить пропуски на 'petrol'.\n",
    "\n",
    "Столбцы **model** и **gearbox** содержат 5,1% и 5,05% пропусков соответственно. Заполним 'unknown', так как никак не определить, на механике автомобиль или на автомате, да и модель по другим признакам тоже."
   ]
  },
  {
   "cell_type": "code",
   "execution_count": 6,
   "metadata": {},
   "outputs": [],
   "source": [
    "change_list = ['notrepaired', 'vehicletype', 'model', 'gearbox']\n",
    "for col in change_list:\n",
    "    autos[col].fillna('unknown', inplace=True)"
   ]
  },
  {
   "cell_type": "code",
   "execution_count": 7,
   "metadata": {},
   "outputs": [
    {
     "data": {
      "text/plain": [
       "petrol      210765\n",
       "gasoline     97168\n",
       "lpg           5166\n",
       "cng            554\n",
       "hybrid         227\n",
       "other          170\n",
       "electric        88\n",
       "Name: fueltype, dtype: int64"
      ]
     },
     "execution_count": 7,
     "metadata": {},
     "output_type": "execute_result"
    }
   ],
   "source": [
    "autos['fueltype'].value_counts()"
   ]
  },
  {
   "cell_type": "markdown",
   "metadata": {},
   "source": [
    "Действительно, как и предполагалось, большинство автомобилей на бензине. Заменим пропуски на 'petrol':"
   ]
  },
  {
   "cell_type": "code",
   "execution_count": 8,
   "metadata": {},
   "outputs": [
    {
     "data": {
      "text/plain": [
       "0"
      ]
     },
     "execution_count": 8,
     "metadata": {},
     "output_type": "execute_result"
    }
   ],
   "source": [
    "autos['fueltype'].fillna('petrol', inplace=True)\n",
    "autos['fueltype'].isna().sum()"
   ]
  },
  {
   "cell_type": "code",
   "execution_count": 9,
   "metadata": {},
   "outputs": [
    {
     "name": "stdout",
     "output_type": "stream",
     "text": [
      "<class 'pandas.core.frame.DataFrame'>\n",
      "Int64Index: 343597 entries, 0 to 354368\n",
      "Data columns (total 16 columns):\n",
      "datecrawled          343597 non-null object\n",
      "price                343597 non-null int64\n",
      "vehicletype          343597 non-null object\n",
      "registrationyear     343597 non-null int64\n",
      "gearbox              343597 non-null object\n",
      "power                343597 non-null int64\n",
      "model                343597 non-null object\n",
      "kilometer            343597 non-null int64\n",
      "registrationmonth    343597 non-null int64\n",
      "fueltype             343597 non-null object\n",
      "brand                343597 non-null object\n",
      "notrepaired          343597 non-null object\n",
      "datecreated          343597 non-null object\n",
      "numberofpictures     343597 non-null int64\n",
      "postalcode           343597 non-null int64\n",
      "lastseen             343597 non-null object\n",
      "dtypes: int64(7), object(9)\n",
      "memory usage: 44.6+ MB\n"
     ]
    }
   ],
   "source": [
    "autos.info()"
   ]
  },
  {
   "cell_type": "markdown",
   "metadata": {},
   "source": [
    "Пропущенные значения заполнили. Теперь займемся поиском аномалий."
   ]
  },
  {
   "cell_type": "code",
   "execution_count": 10,
   "metadata": {},
   "outputs": [
    {
     "data": {
      "image/png": "[encoded data removed]",
      "text/plain": [
       "<Figure size 432x288 with 1 Axes>"
      ]
     },
     "metadata": {
      "needs_background": "light"
     },
     "output_type": "display_data"
    }
   ],
   "source": [
    "autos['price'].hist(bins=50)\n",
    "plt.title('Гистограмма Price', fontsize=14)\n",
    "plt.show()"
   ]
  },
  {
   "cell_type": "markdown",
   "metadata": {},
   "source": [
    "Взглянем поближе:"
   ]
  },
  {
   "cell_type": "code",
   "execution_count": 11,
   "metadata": {},
   "outputs": [
    {
     "data": {
      "image/png": "[encoded data removed]",
      "text/plain": [
       "<Figure size 432x288 with 1 Axes>"
      ]
     },
     "metadata": {
      "needs_background": "light"
     },
     "output_type": "display_data"
    }
   ],
   "source": [
    "autos['price'].hist(bins=50)\n",
    "plt.title('Гистограмма Price', fontsize=14)\n",
    "plt.xlim(0, 2500)\n",
    "plt.show()"
   ]
  },
  {
   "cell_type": "markdown",
   "metadata": {},
   "source": [
    "Порядка 22000 автомобилей с ценой до 400 евро. Посмотрим на боксплот:"
   ]
  },
  {
   "cell_type": "code",
   "execution_count": 12,
   "metadata": {},
   "outputs": [
    {
     "data": {
      "image/png": "[encoded data removed]",
      "text/plain": [
       "<Figure size 432x288 with 1 Axes>"
      ]
     },
     "metadata": {
      "needs_background": "light"
     },
     "output_type": "display_data"
    }
   ],
   "source": [
    "sns.boxplot(autos['price'])\n",
    "plt.title('Диаграмма размаха Price')\n",
    "plt.show()"
   ]
  },
  {
   "cell_type": "markdown",
   "metadata": {},
   "source": [
    "Значения до 400 евро похожи на выбросы, значения свыше 15000 евро - уже нет; скорее всего, там собраны элитные автомобили. Удалим из датафрема объекты с ценой менее 400 евро:"
   ]
  },
  {
   "cell_type": "code",
   "execution_count": 13,
   "metadata": {},
   "outputs": [
    {
     "name": "stdout",
     "output_type": "stream",
     "text": [
      "<class 'pandas.core.frame.DataFrame'>\n",
      "Int64Index: 321908 entries, 0 to 354368\n",
      "Data columns (total 16 columns):\n",
      "datecrawled          321908 non-null object\n",
      "price                321908 non-null int64\n",
      "vehicletype          321908 non-null object\n",
      "registrationyear     321908 non-null int64\n",
      "gearbox              321908 non-null object\n",
      "power                321908 non-null int64\n",
      "model                321908 non-null object\n",
      "kilometer            321908 non-null int64\n",
      "registrationmonth    321908 non-null int64\n",
      "fueltype             321908 non-null object\n",
      "brand                321908 non-null object\n",
      "notrepaired          321908 non-null object\n",
      "datecreated          321908 non-null object\n",
      "numberofpictures     321908 non-null int64\n",
      "postalcode           321908 non-null int64\n",
      "lastseen             321908 non-null object\n",
      "dtypes: int64(7), object(9)\n",
      "memory usage: 41.8+ MB\n"
     ]
    }
   ],
   "source": [
    "autos = autos.query('price > 400')\n",
    "autos.info()"
   ]
  },
  {
   "cell_type": "markdown",
   "metadata": {},
   "source": [
    "В датафрейме также есть аномалия нуля в столбце **power**. Рассмотрим подробнее:"
   ]
  },
  {
   "cell_type": "code",
   "execution_count": 14,
   "metadata": {},
   "outputs": [
    {
     "data": {
      "image/png": "[encoded data removed]",
      "text/plain": [
       "<Figure size 432x288 with 1 Axes>"
      ]
     },
     "metadata": {
      "needs_background": "light"
     },
     "output_type": "display_data"
    }
   ],
   "source": [
    "sns.boxplot(autos['power'])\n",
    "plt.title('Диаграмма размаха Power')\n",
    "plt.xlim(0,2500)\n",
    "plt.show()"
   ]
  },
  {
   "cell_type": "markdown",
   "metadata": {},
   "source": [
    "В нашем датафрейме есть автомобиль Trabant, его мощность 23 л.с. Будем считать его самым маломощным. Что касается самого мощного - едва ли обычные серийные автомобили превышают мощность в 500 л.с. По диаграмме размаха видно, что значения свыше 550 л.с. уже можно считать выбросами. Удалим значения до 23 л.с. и свыше 550 л.с.:"
   ]
  },
  {
   "cell_type": "code",
   "execution_count": 15,
   "metadata": {},
   "outputs": [
    {
     "name": "stdout",
     "output_type": "stream",
     "text": [
      "<class 'pandas.core.frame.DataFrame'>\n",
      "Int64Index: 291619 entries, 1 to 354368\n",
      "Data columns (total 16 columns):\n",
      "datecrawled          291619 non-null object\n",
      "price                291619 non-null int64\n",
      "vehicletype          291619 non-null object\n",
      "registrationyear     291619 non-null int64\n",
      "gearbox              291619 non-null object\n",
      "power                291619 non-null int64\n",
      "model                291619 non-null object\n",
      "kilometer            291619 non-null int64\n",
      "registrationmonth    291619 non-null int64\n",
      "fueltype             291619 non-null object\n",
      "brand                291619 non-null object\n",
      "notrepaired          291619 non-null object\n",
      "datecreated          291619 non-null object\n",
      "numberofpictures     291619 non-null int64\n",
      "postalcode           291619 non-null int64\n",
      "lastseen             291619 non-null object\n",
      "dtypes: int64(7), object(9)\n",
      "memory usage: 37.8+ MB\n"
     ]
    }
   ],
   "source": [
    "autos = autos.query('23 <= power < 550')\n",
    "autos.info()"
   ]
  },
  {
   "cell_type": "markdown",
   "metadata": {},
   "source": [
    "Также видим аномалии в годах регистрации автомобилей: минимальное значение 1000, максимальное 9999. Будем считать минимальным годом регистрации год начала продаж Trabant - 1957. Максимальным годом будем считать дату создания анкеты:"
   ]
  },
  {
   "cell_type": "code",
   "execution_count": 16,
   "metadata": {},
   "outputs": [
    {
     "data": {
      "text/plain": [
       "'2016-04-07 00:00:00'"
      ]
     },
     "execution_count": 16,
     "metadata": {},
     "output_type": "execute_result"
    }
   ],
   "source": [
    "autos['datecreated'].max()"
   ]
  },
  {
   "cell_type": "markdown",
   "metadata": {},
   "source": [
    "Удалим все значения раньше 1957 года и позже 2016 года:"
   ]
  },
  {
   "cell_type": "code",
   "execution_count": 17,
   "metadata": {},
   "outputs": [
    {
     "name": "stdout",
     "output_type": "stream",
     "text": [
      "<class 'pandas.core.frame.DataFrame'>\n",
      "Int64Index: 281601 entries, 1 to 354368\n",
      "Data columns (total 16 columns):\n",
      "datecrawled          281601 non-null object\n",
      "price                281601 non-null int64\n",
      "vehicletype          281601 non-null object\n",
      "registrationyear     281601 non-null int64\n",
      "gearbox              281601 non-null object\n",
      "power                281601 non-null int64\n",
      "model                281601 non-null object\n",
      "kilometer            281601 non-null int64\n",
      "registrationmonth    281601 non-null int64\n",
      "fueltype             281601 non-null object\n",
      "brand                281601 non-null object\n",
      "notrepaired          281601 non-null object\n",
      "datecreated          281601 non-null object\n",
      "numberofpictures     281601 non-null int64\n",
      "postalcode           281601 non-null int64\n",
      "lastseen             281601 non-null object\n",
      "dtypes: int64(7), object(9)\n",
      "memory usage: 36.5+ MB\n"
     ]
    }
   ],
   "source": [
    "autos = autos.query('1957 <= registrationyear <= 2016')\n",
    "autos.info()"
   ]
  },
  {
   "cell_type": "markdown",
   "metadata": {},
   "source": [
    "Проверим датафрейм на дубликаты:"
   ]
  },
  {
   "cell_type": "code",
   "execution_count": 18,
   "metadata": {},
   "outputs": [
    {
     "data": {
      "text/plain": [
       "4"
      ]
     },
     "execution_count": 18,
     "metadata": {},
     "output_type": "execute_result"
    }
   ],
   "source": [
    "autos.duplicated().sum()"
   ]
  },
  {
   "cell_type": "markdown",
   "metadata": {},
   "source": [
    "Удалим их:"
   ]
  },
  {
   "cell_type": "code",
   "execution_count": 19,
   "metadata": {},
   "outputs": [
    {
     "name": "stdout",
     "output_type": "stream",
     "text": [
      "<class 'pandas.core.frame.DataFrame'>\n",
      "Int64Index: 281597 entries, 1 to 354368\n",
      "Data columns (total 16 columns):\n",
      "datecrawled          281597 non-null object\n",
      "price                281597 non-null int64\n",
      "vehicletype          281597 non-null object\n",
      "registrationyear     281597 non-null int64\n",
      "gearbox              281597 non-null object\n",
      "power                281597 non-null int64\n",
      "model                281597 non-null object\n",
      "kilometer            281597 non-null int64\n",
      "registrationmonth    281597 non-null int64\n",
      "fueltype             281597 non-null object\n",
      "brand                281597 non-null object\n",
      "notrepaired          281597 non-null object\n",
      "datecreated          281597 non-null object\n",
      "numberofpictures     281597 non-null int64\n",
      "postalcode           281597 non-null int64\n",
      "lastseen             281597 non-null object\n",
      "dtypes: int64(7), object(9)\n",
      "memory usage: 36.5+ MB\n"
     ]
    }
   ],
   "source": [
    "autos.drop_duplicates(inplace=True)\n",
    "autos.info()"
   ]
  },
  {
   "cell_type": "markdown",
   "metadata": {},
   "source": [
    "Для построения моделей не важны следующие параметры: дата создания анкеты, месяц регистрации автомобиля, дата скачивания анкеты из базы, количество фотографий автомобиля, почтовый код владельца анкеты, дата последней активности пользователя. Удалим эти столбцы, чтобы избежать лишнего шума в моделях. "
   ]
  },
  {
   "cell_type": "code",
   "execution_count": 20,
   "metadata": {},
   "outputs": [],
   "source": [
    "autos = autos.drop(['lastseen', 'postalcode', 'numberofpictures', 'datecreated', 'registrationmonth',\n",
    "                                                                              'datecrawled'], axis=1)"
   ]
  },
  {
   "cell_type": "markdown",
   "metadata": {},
   "source": [
    "Теперь проверим числовые признаки на мультиколлинеарность:"
   ]
  },
  {
   "cell_type": "code",
   "execution_count": 21,
   "metadata": {},
   "outputs": [
    {
     "data": {
      "image/png": "[encoded data removed]",
      "text/plain": [
       "<Figure size 432x288 with 2 Axes>"
      ]
     },
     "metadata": {},
     "output_type": "display_data"
    }
   ],
   "source": [
    "numeric = autos.drop(['vehicletype', 'gearbox', 'model', 'fueltype', 'brand', 'notrepaired'], axis=1)\n",
    "sns.set(font_scale=1)\n",
    "sns.heatmap(numeric.corr(), cmap='RdYlGn', annot=True)\n",
    "plt.title('Корреляция числовых признаков', fontsize=14)\n",
    "\n",
    "plt.show()"
   ]
  },
  {
   "cell_type": "markdown",
   "metadata": {},
   "source": [
    "Мультиколлинеарности нет. Как и ожидалось - больше всего на цену автомобиля влияет год регистрации и мощность.\n",
    "\n",
    "**Вывод:** мы хорошо поработали над сырыми данными, обработали пропуска и удалили аномальные значения, лишние признаки. Теперь можно заняться дальнейшей подготовкой признаков для обучения моделей."
   ]
  },
  {
   "cell_type": "markdown",
   "metadata": {},
   "source": [
    "## Подготовка к обучению моделей"
   ]
  },
  {
   "cell_type": "markdown",
   "metadata": {},
   "source": [
    "Для прогнозирования цены автомобиля будем использовать следующие модели:\n",
    "\n",
    "* **LinearRegression**,\n",
    "* **Ridge**,\n",
    "* **LGBMRegression**,\n",
    "* **CatBoostRegression**\n",
    "\n",
    "Для моделей LinearRegression и Ridge воспользуемся методом OHE(One-hot encoding) для кодирования категориальных признаков. Затем разобьем данные на обучающую и тестовую выборки в пропорции 80/20."
   ]
  },
  {
   "cell_type": "code",
   "execution_count": 22,
   "metadata": {},
   "outputs": [
    {
     "name": "stdout",
     "output_type": "stream",
     "text": [
      "Размер таблицы признаков обучающей выборки:  (225277, 309)\n",
      "Размер таблицы признаков тестовой выборки:  (56320, 309)\n"
     ]
    }
   ],
   "source": [
    "autos_ohe = pd.get_dummies(autos, drop_first=True)\n",
    "\n",
    "target_linear = autos_ohe['price']\n",
    "features_linear = autos_ohe.drop('price', axis=1)\n",
    "\n",
    "features_train_linear, features_test_linear, target_train_linear, target_test_linear = train_test_split(\n",
    "                                      features_linear, target_linear, test_size=0.2, random_state = 123)\n",
    "\n",
    "print('Размер таблицы признаков обучающей выборки: ', features_train_linear.shape)\n",
    "print('Размер таблицы признаков тестовой выборки: ', features_test_linear.shape)"
   ]
  },
  {
   "cell_type": "markdown",
   "metadata": {},
   "source": [
    "Теперь можно выполнить масштабирование числовых признаков:"
   ]
  },
  {
   "cell_type": "code",
   "execution_count": 23,
   "metadata": {},
   "outputs": [
    {
     "data": {
      "text/html": [
       "<div>\n",
       "<style scoped>\n",
       "    .dataframe tbody tr th:only-of-type {\n",
       "        vertical-align: middle;\n",
       "    }\n",
       "\n",
       "    .dataframe tbody tr th {\n",
       "        vertical-align: top;\n",
       "    }\n",
       "\n",
       "    .dataframe thead th {\n",
       "        text-align: right;\n",
       "    }\n",
       "</style>\n",
       "<table border=\"1\" class=\"dataframe\">\n",
       "  <thead>\n",
       "    <tr style=\"text-align: right;\">\n",
       "      <th></th>\n",
       "      <th>registrationyear</th>\n",
       "      <th>power</th>\n",
       "      <th>kilometer</th>\n",
       "      <th>vehicletype_convertible</th>\n",
       "      <th>vehicletype_coupe</th>\n",
       "      <th>vehicletype_other</th>\n",
       "      <th>vehicletype_sedan</th>\n",
       "      <th>vehicletype_small</th>\n",
       "      <th>vehicletype_suv</th>\n",
       "      <th>vehicletype_unknown</th>\n",
       "      <th>...</th>\n",
       "      <th>brand_smart</th>\n",
       "      <th>brand_sonstige_autos</th>\n",
       "      <th>brand_subaru</th>\n",
       "      <th>brand_suzuki</th>\n",
       "      <th>brand_toyota</th>\n",
       "      <th>brand_trabant</th>\n",
       "      <th>brand_volkswagen</th>\n",
       "      <th>brand_volvo</th>\n",
       "      <th>notrepaired_unknown</th>\n",
       "      <th>notrepaired_yes</th>\n",
       "    </tr>\n",
       "  </thead>\n",
       "  <tbody>\n",
       "    <tr>\n",
       "      <td>243126</td>\n",
       "      <td>-0.010656</td>\n",
       "      <td>-0.143067</td>\n",
       "      <td>0.601116</td>\n",
       "      <td>1</td>\n",
       "      <td>0</td>\n",
       "      <td>0</td>\n",
       "      <td>0</td>\n",
       "      <td>0</td>\n",
       "      <td>0</td>\n",
       "      <td>0</td>\n",
       "      <td>...</td>\n",
       "      <td>0</td>\n",
       "      <td>0</td>\n",
       "      <td>0</td>\n",
       "      <td>0</td>\n",
       "      <td>0</td>\n",
       "      <td>0</td>\n",
       "      <td>1</td>\n",
       "      <td>0</td>\n",
       "      <td>0</td>\n",
       "      <td>0</td>\n",
       "    </tr>\n",
       "    <tr>\n",
       "      <td>220890</td>\n",
       "      <td>0.459898</td>\n",
       "      <td>0.754205</td>\n",
       "      <td>0.601116</td>\n",
       "      <td>0</td>\n",
       "      <td>0</td>\n",
       "      <td>0</td>\n",
       "      <td>0</td>\n",
       "      <td>0</td>\n",
       "      <td>0</td>\n",
       "      <td>0</td>\n",
       "      <td>...</td>\n",
       "      <td>0</td>\n",
       "      <td>0</td>\n",
       "      <td>0</td>\n",
       "      <td>0</td>\n",
       "      <td>0</td>\n",
       "      <td>0</td>\n",
       "      <td>0</td>\n",
       "      <td>0</td>\n",
       "      <td>0</td>\n",
       "      <td>0</td>\n",
       "    </tr>\n",
       "    <tr>\n",
       "      <td>153765</td>\n",
       "      <td>-0.481211</td>\n",
       "      <td>3.427327</td>\n",
       "      <td>0.601116</td>\n",
       "      <td>0</td>\n",
       "      <td>1</td>\n",
       "      <td>0</td>\n",
       "      <td>0</td>\n",
       "      <td>0</td>\n",
       "      <td>0</td>\n",
       "      <td>0</td>\n",
       "      <td>...</td>\n",
       "      <td>0</td>\n",
       "      <td>0</td>\n",
       "      <td>0</td>\n",
       "      <td>0</td>\n",
       "      <td>0</td>\n",
       "      <td>0</td>\n",
       "      <td>0</td>\n",
       "      <td>0</td>\n",
       "      <td>0</td>\n",
       "      <td>0</td>\n",
       "    </tr>\n",
       "    <tr>\n",
       "      <td>139464</td>\n",
       "      <td>1.087304</td>\n",
       "      <td>1.520624</td>\n",
       "      <td>-1.029226</td>\n",
       "      <td>0</td>\n",
       "      <td>0</td>\n",
       "      <td>0</td>\n",
       "      <td>1</td>\n",
       "      <td>0</td>\n",
       "      <td>0</td>\n",
       "      <td>0</td>\n",
       "      <td>...</td>\n",
       "      <td>0</td>\n",
       "      <td>0</td>\n",
       "      <td>0</td>\n",
       "      <td>0</td>\n",
       "      <td>0</td>\n",
       "      <td>0</td>\n",
       "      <td>0</td>\n",
       "      <td>0</td>\n",
       "      <td>0</td>\n",
       "      <td>0</td>\n",
       "    </tr>\n",
       "    <tr>\n",
       "      <td>114925</td>\n",
       "      <td>1.401007</td>\n",
       "      <td>-0.329998</td>\n",
       "      <td>-1.572673</td>\n",
       "      <td>0</td>\n",
       "      <td>0</td>\n",
       "      <td>0</td>\n",
       "      <td>1</td>\n",
       "      <td>0</td>\n",
       "      <td>0</td>\n",
       "      <td>0</td>\n",
       "      <td>...</td>\n",
       "      <td>0</td>\n",
       "      <td>0</td>\n",
       "      <td>0</td>\n",
       "      <td>0</td>\n",
       "      <td>0</td>\n",
       "      <td>0</td>\n",
       "      <td>0</td>\n",
       "      <td>0</td>\n",
       "      <td>1</td>\n",
       "      <td>0</td>\n",
       "    </tr>\n",
       "  </tbody>\n",
       "</table>\n",
       "<p>5 rows × 309 columns</p>\n",
       "</div>"
      ],
      "text/plain": [
       "        registrationyear     power  kilometer  vehicletype_convertible  \\\n",
       "243126         -0.010656 -0.143067   0.601116                        1   \n",
       "220890          0.459898  0.754205   0.601116                        0   \n",
       "153765         -0.481211  3.427327   0.601116                        0   \n",
       "139464          1.087304  1.520624  -1.029226                        0   \n",
       "114925          1.401007 -0.329998  -1.572673                        0   \n",
       "\n",
       "        vehicletype_coupe  vehicletype_other  vehicletype_sedan  \\\n",
       "243126                  0                  0                  0   \n",
       "220890                  0                  0                  0   \n",
       "153765                  1                  0                  0   \n",
       "139464                  0                  0                  1   \n",
       "114925                  0                  0                  1   \n",
       "\n",
       "        vehicletype_small  vehicletype_suv  vehicletype_unknown  ...  \\\n",
       "243126                  0                0                    0  ...   \n",
       "220890                  0                0                    0  ...   \n",
       "153765                  0                0                    0  ...   \n",
       "139464                  0                0                    0  ...   \n",
       "114925                  0                0                    0  ...   \n",
       "\n",
       "        brand_smart  brand_sonstige_autos  brand_subaru  brand_suzuki  \\\n",
       "243126            0                     0             0             0   \n",
       "220890            0                     0             0             0   \n",
       "153765            0                     0             0             0   \n",
       "139464            0                     0             0             0   \n",
       "114925            0                     0             0             0   \n",
       "\n",
       "        brand_toyota  brand_trabant  brand_volkswagen  brand_volvo  \\\n",
       "243126             0              0                 1            0   \n",
       "220890             0              0                 0            0   \n",
       "153765             0              0                 0            0   \n",
       "139464             0              0                 0            0   \n",
       "114925             0              0                 0            0   \n",
       "\n",
       "        notrepaired_unknown  notrepaired_yes  \n",
       "243126                    0                0  \n",
       "220890                    0                0  \n",
       "153765                    0                0  \n",
       "139464                    0                0  \n",
       "114925                    1                0  \n",
       "\n",
       "[5 rows x 309 columns]"
      ]
     },
     "execution_count": 23,
     "metadata": {},
     "output_type": "execute_result"
    }
   ],
   "source": [
    "scaler = StandardScaler()\n",
    "\n",
    "numerical = ['registrationyear', 'power', 'kilometer']\n",
    "\n",
    "scaler.fit(features_train_linear[numerical])\n",
    "\n",
    "features_train_linear[numerical] = scaler.transform(features_train_linear[numerical])\n",
    "features_test_linear[numerical] = scaler.transform(features_test_linear[numerical])\n",
    "\n",
    "features_train_linear.head()"
   ]
  },
  {
   "cell_type": "markdown",
   "metadata": {},
   "source": [
    "Видим, что кодирование и масштабирование проведены успешно.\n",
    "\n",
    "Модели градиентного бустинга не нуждаются в кодировании категориальных признаков, но не умеют работать с типом object. Изменим тип категориальных признаков на category, чтобы модели могли с ними работать:"
   ]
  },
  {
   "cell_type": "code",
   "execution_count": 24,
   "metadata": {},
   "outputs": [
    {
     "name": "stdout",
     "output_type": "stream",
     "text": [
      "<class 'pandas.core.frame.DataFrame'>\n",
      "Int64Index: 281597 entries, 1 to 354368\n",
      "Data columns (total 10 columns):\n",
      "price               281597 non-null int64\n",
      "vehicletype         281597 non-null category\n",
      "registrationyear    281597 non-null int64\n",
      "gearbox             281597 non-null category\n",
      "power               281597 non-null int64\n",
      "model               281597 non-null category\n",
      "kilometer           281597 non-null int64\n",
      "fueltype            281597 non-null category\n",
      "brand               281597 non-null category\n",
      "notrepaired         281597 non-null category\n",
      "dtypes: category(6), int64(4)\n",
      "memory usage: 12.6 MB\n"
     ]
    }
   ],
   "source": [
    "categorical = ['vehicletype', 'gearbox', 'model', 'fueltype', 'brand', 'notrepaired']\n",
    "\n",
    "for col in categorical:\n",
    "    autos[col] = autos[col].astype('category')\n",
    "\n",
    "autos.info()"
   ]
  },
  {
   "cell_type": "markdown",
   "metadata": {},
   "source": [
    "Снова разобьем данные на обучающую и тестовую выборки:"
   ]
  },
  {
   "cell_type": "code",
   "execution_count": 25,
   "metadata": {},
   "outputs": [
    {
     "name": "stdout",
     "output_type": "stream",
     "text": [
      "Размер таблицы признаков обучающей выборки:  (225277, 9)\n",
      "Размер таблицы признаков тестовой выборки:  (56320, 9)\n"
     ]
    }
   ],
   "source": [
    "target_boost = autos['price']\n",
    "features_boost = autos.drop('price', axis=1)\n",
    "\n",
    "features_train_boost, features_test_boost, target_train_boost, target_test_boost = train_test_split(\n",
    "                                      features_boost, target_boost, test_size=0.2, random_state = 123)\n",
    "\n",
    "print('Размер таблицы признаков обучающей выборки: ', features_train_boost.shape)\n",
    "print('Размер таблицы признаков тестовой выборки: ', features_test_boost.shape)"
   ]
  },
  {
   "cell_type": "markdown",
   "metadata": {},
   "source": [
    "Выполним масштабирование числовых признаков:"
   ]
  },
  {
   "cell_type": "code",
   "execution_count": 26,
   "metadata": {},
   "outputs": [
    {
     "data": {
      "text/html": [
       "<div>\n",
       "<style scoped>\n",
       "    .dataframe tbody tr th:only-of-type {\n",
       "        vertical-align: middle;\n",
       "    }\n",
       "\n",
       "    .dataframe tbody tr th {\n",
       "        vertical-align: top;\n",
       "    }\n",
       "\n",
       "    .dataframe thead th {\n",
       "        text-align: right;\n",
       "    }\n",
       "</style>\n",
       "<table border=\"1\" class=\"dataframe\">\n",
       "  <thead>\n",
       "    <tr style=\"text-align: right;\">\n",
       "      <th></th>\n",
       "      <th>vehicletype</th>\n",
       "      <th>registrationyear</th>\n",
       "      <th>gearbox</th>\n",
       "      <th>power</th>\n",
       "      <th>model</th>\n",
       "      <th>kilometer</th>\n",
       "      <th>fueltype</th>\n",
       "      <th>brand</th>\n",
       "      <th>notrepaired</th>\n",
       "    </tr>\n",
       "  </thead>\n",
       "  <tbody>\n",
       "    <tr>\n",
       "      <td>243126</td>\n",
       "      <td>convertible</td>\n",
       "      <td>-0.010656</td>\n",
       "      <td>manual</td>\n",
       "      <td>-0.143067</td>\n",
       "      <td>beetle</td>\n",
       "      <td>0.601116</td>\n",
       "      <td>petrol</td>\n",
       "      <td>volkswagen</td>\n",
       "      <td>no</td>\n",
       "    </tr>\n",
       "    <tr>\n",
       "      <td>220890</td>\n",
       "      <td>wagon</td>\n",
       "      <td>0.459898</td>\n",
       "      <td>auto</td>\n",
       "      <td>0.754205</td>\n",
       "      <td>3er</td>\n",
       "      <td>0.601116</td>\n",
       "      <td>gasoline</td>\n",
       "      <td>bmw</td>\n",
       "      <td>no</td>\n",
       "    </tr>\n",
       "    <tr>\n",
       "      <td>153765</td>\n",
       "      <td>coupe</td>\n",
       "      <td>-0.481211</td>\n",
       "      <td>auto</td>\n",
       "      <td>3.427327</td>\n",
       "      <td>cl</td>\n",
       "      <td>0.601116</td>\n",
       "      <td>petrol</td>\n",
       "      <td>mercedes_benz</td>\n",
       "      <td>no</td>\n",
       "    </tr>\n",
       "    <tr>\n",
       "      <td>139464</td>\n",
       "      <td>sedan</td>\n",
       "      <td>1.087304</td>\n",
       "      <td>auto</td>\n",
       "      <td>1.520624</td>\n",
       "      <td>5er</td>\n",
       "      <td>-1.029226</td>\n",
       "      <td>gasoline</td>\n",
       "      <td>bmw</td>\n",
       "      <td>no</td>\n",
       "    </tr>\n",
       "    <tr>\n",
       "      <td>114925</td>\n",
       "      <td>sedan</td>\n",
       "      <td>1.401007</td>\n",
       "      <td>manual</td>\n",
       "      <td>-0.329998</td>\n",
       "      <td>leon</td>\n",
       "      <td>-1.572673</td>\n",
       "      <td>gasoline</td>\n",
       "      <td>seat</td>\n",
       "      <td>unknown</td>\n",
       "    </tr>\n",
       "  </tbody>\n",
       "</table>\n",
       "</div>"
      ],
      "text/plain": [
       "        vehicletype  registrationyear gearbox     power   model  kilometer  \\\n",
       "243126  convertible         -0.010656  manual -0.143067  beetle   0.601116   \n",
       "220890        wagon          0.459898    auto  0.754205     3er   0.601116   \n",
       "153765        coupe         -0.481211    auto  3.427327      cl   0.601116   \n",
       "139464        sedan          1.087304    auto  1.520624     5er  -1.029226   \n",
       "114925        sedan          1.401007  manual -0.329998    leon  -1.572673   \n",
       "\n",
       "        fueltype          brand notrepaired  \n",
       "243126    petrol     volkswagen          no  \n",
       "220890  gasoline            bmw          no  \n",
       "153765    petrol  mercedes_benz          no  \n",
       "139464  gasoline            bmw          no  \n",
       "114925  gasoline           seat     unknown  "
      ]
     },
     "execution_count": 26,
     "metadata": {},
     "output_type": "execute_result"
    }
   ],
   "source": [
    "scaler.fit(features_train_boost[numerical])\n",
    "\n",
    "features_train_boost[numerical] = scaler.transform(features_train_boost[numerical])\n",
    "features_test_boost[numerical] = scaler.transform(features_test_boost[numerical])\n",
    "\n",
    "features_train_boost.head()"
   ]
  },
  {
   "cell_type": "markdown",
   "metadata": {},
   "source": [
    "Видим, что числовые признаки отмасштабированы, а категориальные переведены в тип category.\n",
    "\n",
    "Напишем функцию, которая будет считать время обучения и время предсказания, а также RMSE моделей:"
   ]
  },
  {
   "cell_type": "code",
   "execution_count": 27,
   "metadata": {},
   "outputs": [],
   "source": [
    "def model_final(model, X_train, y_train, X_test, y_test):\n",
    "    \n",
    "    start = time.time()    \n",
    "    model.fit(X_train, y_train)\n",
    "    train_time = time.time() - start\n",
    "    \n",
    "    start = time.time()  \n",
    "    y_pred = model.predict(X_test)\n",
    "    predict_time = time.time() - start\n",
    "    \n",
    "    rmse = np.sqrt(mean_squared_error(y_test, y_pred))\n",
    "\n",
    "    return train_time, predict_time, rmse"
   ]
  },
  {
   "cell_type": "markdown",
   "metadata": {},
   "source": [
    "**Вывод:** подготовка к обучению моделей завершена. Для каждой модели учтены особенности: \n",
    "\n",
    "- линейные модели - сделано кодирование категориальных признаков (OHE) и масштабирование числовых;\n",
    "- модели бустинга - категориальные признаки переведены в тип category, числовые масштабированы."
   ]
  },
  {
   "cell_type": "markdown",
   "metadata": {},
   "source": [
    "## Обучение моделей"
   ]
  },
  {
   "cell_type": "markdown",
   "metadata": {},
   "source": [
    "Займемся обучением наших моделей: подберем оптимальные гиперпараметры с помощью GridSearchCV, проверим на тестовой выборке."
   ]
  },
  {
   "cell_type": "code",
   "execution_count": 28,
   "metadata": {},
   "outputs": [
    {
     "name": "stdout",
     "output_type": "stream",
     "text": [
      "Linear Regression:\n",
      "Время обучения:  431.29 сек\n",
      "Время предсказания:  0.12 сек\n",
      "RMSE модели:  2534.74 евро\n"
     ]
    }
   ],
   "source": [
    "model = LinearRegression()\n",
    "\n",
    "search_space_linear = [{'fit_intercept': [True, False],\n",
    "                        'normalize': [True, False]}]\n",
    "\n",
    "\n",
    "gs_linear = GridSearchCV(model, \n",
    "                        search_space_linear, \n",
    "                        cv = 5, \n",
    "                        verbose = 0, \n",
    "                        n_jobs=1,\n",
    "                        scoring='neg_mean_squared_error')\n",
    "\n",
    "train_time_linear, predict_time_linear, rmse_linear = model_final(gs_linear, features_train_linear, \n",
    "                                                                               target_train_linear,\n",
    "                                                                              features_test_linear, \n",
    "                                                                                target_test_linear)\n",
    "\n",
    "print('Linear Regression:')\n",
    "print('Время обучения: ', round(train_time_linear, 2), 'сек')\n",
    "print('Время предсказания: ', round(predict_time_linear, 2), 'сек')\n",
    "print('RMSE модели: ', round(rmse_linear, 2), 'евро')"
   ]
  },
  {
   "cell_type": "code",
   "execution_count": 29,
   "metadata": {},
   "outputs": [
    {
     "name": "stdout",
     "output_type": "stream",
     "text": [
      "Ridge:\n",
      "Время обучения:  443.89 сек\n",
      "Время предсказания:  0.3 сек\n",
      "RMSE модели:  2534.57 евро\n"
     ]
    }
   ],
   "source": [
    "model = Ridge()\n",
    "\n",
    "search_space_ridge = [{'fit_intercept': [True, False],\n",
    "                       'normalize': [True, False],\n",
    "                       'alpha': np.linspace(1, 3, num = 5)}]\n",
    "\n",
    "\n",
    "gs_ridge = GridSearchCV(model, \n",
    "                        search_space_ridge, \n",
    "                        cv = 5, \n",
    "                        verbose = 0, \n",
    "                        n_jobs=1,\n",
    "                        scoring='neg_mean_squared_error')\n",
    "\n",
    "train_time_ridge, predict_time_ridge, rmse_ridge = model_final(gs_ridge, features_train_linear,\n",
    "                                                                           target_train_linear,\n",
    "                                                                          features_test_linear,\n",
    "                                                                            target_test_linear)\n",
    "\n",
    "print('Ridge:')\n",
    "print('Время обучения: ', round(train_time_ridge, 2), 'сек')\n",
    "print('Время предсказания: ', round(predict_time_ridge, 2), 'сек')\n",
    "print('RMSE модели: ', round(rmse_ridge, 2), 'евро')"
   ]
  },
  {
   "cell_type": "code",
   "execution_count": 30,
   "metadata": {},
   "outputs": [
    {
     "name": "stdout",
     "output_type": "stream",
     "text": [
      "LGBMRegressor:\n",
      "Время обучения:  521.99 сек\n",
      "Время предсказания:  2.02 сек\n",
      "RMSE модели:  1510.89 евро\n"
     ]
    }
   ],
   "source": [
    "model = LGBMRegressor(categorical_feature=categorical)\n",
    "\n",
    "search_space_lgbm = [{'learning_rate': [0.05, 0.1],\n",
    "                       'n_estimators': [100, 200],\n",
    "                       'num_leaves': [31, 62]}]\n",
    "\n",
    "\n",
    "gs_lgbm = GridSearchCV(model, \n",
    "                        search_space_lgbm, \n",
    "                        cv = 5, \n",
    "                        verbose = 0, \n",
    "                        n_jobs=1,\n",
    "                        scoring='neg_mean_squared_error')\n",
    "\n",
    "train_time_lgbm, predict_time_lgbm, rmse_lgbm = model_final(gs_lgbm, features_train_boost, target_train_boost,\n",
    "                                                                       features_test_boost, target_test_boost)\n",
    "\n",
    "print('LGBMRegressor:')\n",
    "print('Время обучения: ', round(train_time_lgbm, 2), 'сек')\n",
    "print('Время предсказания: ', round(predict_time_lgbm, 2), 'сек')\n",
    "print('RMSE модели: ', round(rmse_lgbm, 2), 'евро')"
   ]
  },
  {
   "cell_type": "code",
   "execution_count": 31,
   "metadata": {},
   "outputs": [
    {
     "name": "stdout",
     "output_type": "stream",
     "text": [
      "CatBoost:\n",
      "Время обучения:  1714.31 сек\n",
      "Время предсказания:  0.09 сек\n",
      "RMSE модели:  1705.47 евро\n"
     ]
    }
   ],
   "source": [
    "model = CatBoostRegressor(loss_function='RMSE', silent=True, cat_features=categorical)\n",
    "\n",
    "search_space_catboost = [{'learning_rate': [0.03, 0.1],\n",
    "                          'iterations': [40, 60, 80],\n",
    "                          'depth': [4, 6, 8]}]\n",
    "\n",
    "\n",
    "gs_catboost = GridSearchCV(model, \n",
    "                        search_space_catboost, \n",
    "                        cv = 5, \n",
    "                        verbose = 0, \n",
    "                        n_jobs=1,\n",
    "                        scoring='neg_mean_squared_error')\n",
    "\n",
    "train_time_catboost, predict_time_catboost, rmse_catboost = model_final(gs_catboost, features_train_boost,\n",
    "                                                                                       target_train_boost,\n",
    "                                                                                      features_test_boost,\n",
    "                                                                                        target_test_boost)\n",
    "\n",
    "print('CatBoost:')\n",
    "print('Время обучения: ', round(train_time_catboost, 2), 'сек')\n",
    "print('Время предсказания: ', round(predict_time_catboost, 2), 'сек')\n",
    "print('RMSE модели: ', round(rmse_catboost, 2), 'евро')"
   ]
  },
  {
   "cell_type": "markdown",
   "metadata": {},
   "source": [
    "## Анализ моделей"
   ]
  },
  {
   "cell_type": "markdown",
   "metadata": {},
   "source": [
    "Для того, чтобы выснить, хорошо ли отрабатывают наши модели, нужно сравнить их с простой моделью. Воспользуемся DummyRegressor:"
   ]
  },
  {
   "cell_type": "code",
   "execution_count": 32,
   "metadata": {},
   "outputs": [
    {
     "name": "stdout",
     "output_type": "stream",
     "text": [
      "Dummy:\n",
      "Время обучения:  0.0 сек\n",
      "Время предсказания:  0.0 сек\n",
      "RMSE модели:  4589.04 евро\n"
     ]
    }
   ],
   "source": [
    "dummy = DummyRegressor(strategy='mean')\n",
    "\n",
    "train_time_dummy, predict_time_dummy, rmse_dummy = model_final(dummy, features_train_linear, target_train_linear,\n",
    "                                                                       features_test_linear, target_test_linear)\n",
    "\n",
    "print('Dummy:')\n",
    "print('Время обучения: ', round(train_time_dummy, 2), 'сек')\n",
    "print('Время предсказания: ', round(predict_time_dummy, 2), 'сек')\n",
    "print('RMSE модели: ', round(rmse_dummy, 2), 'евро')"
   ]
  },
  {
   "cell_type": "markdown",
   "metadata": {},
   "source": [
    "Сведем результаты работы наших моделей в таблицу:"
   ]
  },
  {
   "cell_type": "code",
   "execution_count": 33,
   "metadata": {},
   "outputs": [
    {
     "data": {
      "text/html": [
       "<div>\n",
       "<style scoped>\n",
       "    .dataframe tbody tr th:only-of-type {\n",
       "        vertical-align: middle;\n",
       "    }\n",
       "\n",
       "    .dataframe tbody tr th {\n",
       "        vertical-align: top;\n",
       "    }\n",
       "\n",
       "    .dataframe thead th {\n",
       "        text-align: right;\n",
       "    }\n",
       "</style>\n",
       "<table border=\"1\" class=\"dataframe\">\n",
       "  <thead>\n",
       "    <tr style=\"text-align: right;\">\n",
       "      <th></th>\n",
       "      <th>Время обучения</th>\n",
       "      <th>Время предсказания</th>\n",
       "      <th>RMSE</th>\n",
       "    </tr>\n",
       "  </thead>\n",
       "  <tbody>\n",
       "    <tr>\n",
       "      <td>LinearRegression</td>\n",
       "      <td>431.29</td>\n",
       "      <td>0.12</td>\n",
       "      <td>2534.74</td>\n",
       "    </tr>\n",
       "    <tr>\n",
       "      <td>Ridge</td>\n",
       "      <td>443.89</td>\n",
       "      <td>0.30</td>\n",
       "      <td>2534.57</td>\n",
       "    </tr>\n",
       "    <tr>\n",
       "      <td>LGBMRegressor</td>\n",
       "      <td>521.99</td>\n",
       "      <td>2.02</td>\n",
       "      <td>1510.89</td>\n",
       "    </tr>\n",
       "    <tr>\n",
       "      <td>CatBoostRegressor</td>\n",
       "      <td>1714.31</td>\n",
       "      <td>0.09</td>\n",
       "      <td>1705.47</td>\n",
       "    </tr>\n",
       "    <tr>\n",
       "      <td>DummyRegressor</td>\n",
       "      <td>0.00</td>\n",
       "      <td>0.00</td>\n",
       "      <td>4589.04</td>\n",
       "    </tr>\n",
       "  </tbody>\n",
       "</table>\n",
       "</div>"
      ],
      "text/plain": [
       "                   Время обучения  Время предсказания    RMSE\n",
       "LinearRegression           431.29                0.12 2534.74\n",
       "Ridge                      443.89                0.30 2534.57\n",
       "LGBMRegressor              521.99                2.02 1510.89\n",
       "CatBoostRegressor         1714.31                0.09 1705.47\n",
       "DummyRegressor               0.00                0.00 4589.04"
      ]
     },
     "metadata": {},
     "output_type": "display_data"
    }
   ],
   "source": [
    "data = {'Время обучения':[train_time_linear, train_time_ridge, train_time_lgbm, train_time_catboost,\n",
    "                          train_time_dummy],\n",
    "        \n",
    "        'Время предсказания':[predict_time_linear, predict_time_ridge, predict_time_lgbm, predict_time_catboost,\n",
    "                              predict_time_dummy],\n",
    "        \n",
    "       'RMSE':[rmse_linear, rmse_ridge, rmse_lgbm, rmse_catboost, rmse_dummy]}\n",
    "\n",
    "table = pd.DataFrame(data)\n",
    "table.index = ['LinearRegression', 'Ridge', 'LGBMRegressor', 'CatBoostRegressor', 'DummyRegressor']\n",
    "pd.set_option('display.float_format', '{:.2f}'.format)\n",
    "display(table)"
   ]
  },
  {
   "cell_type": "markdown",
   "metadata": {},
   "source": [
    "Дамми-модель однозначно проигрывает. \n",
    "Сравним с медианной ценой автомобиля:"
   ]
  },
  {
   "cell_type": "code",
   "execution_count": 34,
   "metadata": {},
   "outputs": [
    {
     "data": {
      "text/plain": [
       "3499.0"
      ]
     },
     "execution_count": 34,
     "metadata": {},
     "output_type": "execute_result"
    }
   ],
   "source": [
    "autos['price'].median()"
   ]
  },
  {
   "cell_type": "markdown",
   "metadata": {},
   "source": [
    "**Вывод:** рассмотрели четыре модели (две линейных и две модели градиентного бустинга), измерили RMSE, время обучения и предсказания. В результате сравнения с константной моделью получили, что любая из наших моделей более предсказуема."
   ]
  },
  {
   "cell_type": "markdown",
   "metadata": {},
   "source": [
    "## Общий вывод"
   ]
  },
  {
   "cell_type": "markdown",
   "metadata": {},
   "source": [
    "Заказчику важны все три параметра: минимальная RMSE, скорость обучения и предсказания. Но невозможно достичь минимума сразу по всем параметрам, поэтому нужно выбрать, что важнее. Учитывая медианную цену в 3499 евро, модели линейной регрессии и Ridge недостаточно предсказуемы. Будем рассматривать LGBMRegressor и CatBoostRegressor. Минимум RMSE у LGBMRegressor (1510,89 евро) и эта модель довольно быстро обучается, но предсказывает медленнее всех. У CatBoostRegressor метрика RMSE на 12% выше, чем у LGBMRegressor; обучается модель в два раза медленнее LGBMRegressor, но предсказывает быстрее всех моделей. В целом, обе модели поставленную задачу выполняют, решение за заказчиком."
   ]
  }
 ],
 "metadata": {
  "kernelspec": {
   "display_name": "Python 3",
   "language": "python",
   "name": "python3"
  },
  "language_info": {
   "codemirror_mode": {
    "name": "ipython",
    "version": 3
   },
   "file_extension": ".py",
   "mimetype": "text/x-python",
   "name": "python",
   "nbconvert_exporter": "python",
   "pygments_lexer": "ipython3",
   "version": "3.8.5"
  },
  "latex_envs": {
   "LaTeX_envs_menu_present": true,
   "autoclose": false,
   "autocomplete": true,
   "bibliofile": "biblio.bib",
   "cite_by": "apalike",
   "current_citInitial": 1,
   "eqLabelWithNumbers": true,
   "eqNumInitial": 1,
   "hotkeys": {
    "equation": "Ctrl-E",
    "itemize": "Ctrl-I"
   },
   "labels_anchors": false,
   "latex_user_defs": false,
   "report_style_numbering": false,
   "user_envs_cfg": false
  },
  "toc": {
   "base_numbering": 1,
   "nav_menu": {},
   "number_sections": true,
   "sideBar": true,
   "skip_h1_title": true,
   "title_cell": "Table of Contents",
   "title_sidebar": "Contents",
   "toc_cell": false,
   "toc_position": {},
   "toc_section_display": true,
   "toc_window_display": false
  }
 },
 "nbformat": 4,
 "nbformat_minor": 2
}
